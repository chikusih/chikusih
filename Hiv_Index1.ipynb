{
  "nbformat": 4,
  "nbformat_minor": 0,
  "metadata": {
    "colab": {
      "name": "Hiv_Index1.ipynb",
      "provenance": [],
      "collapsed_sections": [],
      "authorship_tag": "ABX9TyNF1egYCYLXr4Lx63HK+G3q",
      "include_colab_link": true
    },
    "kernelspec": {
      "name": "python3",
      "display_name": "Python 3"
    },
    "language_info": {
      "name": "python"
    }
  },
  "cells": [
    {
      "cell_type": "markdown",
      "metadata": {
        "id": "view-in-github",
        "colab_type": "text"
      },
      "source": [
        "<a href=\"https://colab.research.google.com/github/chikusih/chikusih/blob/main/Hiv_Index1.ipynb\" target=\"_parent\"><img src=\"https://colab.research.google.com/assets/colab-badge.svg\" alt=\"Open In Colab\"/></a>"
      ]
    },
    {
      "cell_type": "markdown",
      "metadata": {
        "id": "3U957APeng1f"
      },
      "source": [
        ""
      ]
    },
    {
      "cell_type": "markdown",
      "metadata": {
        "id": "h54M9Du-nil8"
      },
      "source": [
        "Import require Libraries"
      ]
    },
    {
      "cell_type": "code",
      "metadata": {
        "id": "nUhFzt6vnoeq"
      },
      "source": [
        "import tensorflow as tf\n",
        "import pandas as pd\n",
        "import matplotlib.pyplot as plt\n",
        "import numpy as np \n",
        "import seaborn as sns\n",
        "from tensorflow import feature_column\n",
        "import itertools\n",
        "plt.style.use('fivethirtyeight')"
      ],
      "execution_count": 4,
      "outputs": []
    },
    {
      "cell_type": "markdown",
      "metadata": {
        "id": "MvcWNB7gnx6y"
      },
      "source": [
        "To get CSV file from the hard drive"
      ]
    },
    {
      "cell_type": "code",
      "metadata": {
        "colab": {
          "resources": {
            "http://localhost:8080/nbextensions/google.colab/files.js": {
              "data": "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",
              "ok": true,
              "headers": [
                [
                  "content-type",
                  "application/javascript"
                ]
              ],
              "status": 200,
              "status_text": ""
            }
          },
          "base_uri": "https://localhost:8080/",
          "height": 72
        },
        "id": "QZTW59xxnz4h",
        "outputId": "fae8a965-1c4d-4767-c465-dc56c87224bf"
      },
      "source": [
        "# Get SCV FILE\n",
        "from google.colab import files\n",
        "uploaded = files.upload()"
      ],
      "execution_count": 5,
      "outputs": [
        {
          "output_type": "display_data",
          "data": {
            "text/html": [
              "\n",
              "     <input type=\"file\" id=\"files-8cf0ed43-c299-4d31-b533-e7459e926e86\" name=\"files[]\" multiple disabled\n",
              "        style=\"border:none\" />\n",
              "     <output id=\"result-8cf0ed43-c299-4d31-b533-e7459e926e86\">\n",
              "      Upload widget is only available when the cell has been executed in the\n",
              "      current browser session. Please rerun this cell to enable.\n",
              "      </output>\n",
              "      <script src=\"/nbextensions/google.colab/files.js\"></script> "
            ],
            "text/plain": [
              "<IPython.core.display.HTML object>"
            ]
          },
          "metadata": {}
        },
        {
          "output_type": "stream",
          "name": "stdout",
          "text": [
            "Saving Index_Bio_Data.csv to Index_Bio_Data.csv\n"
          ]
        }
      ]
    },
    {
      "cell_type": "code",
      "metadata": {
        "colab": {
          "base_uri": "https://localhost:8080/",
          "height": 419
        },
        "id": "rToqHoW6oVtB",
        "outputId": "fb53e873-5dcd-4ef8-b44b-fcdb0979411d"
      },
      "source": [
        "import io\n",
        "Index_data = pd.read_csv(io.BytesIO(uploaded['Index_Bio_Data.csv']))\n",
        "# Dataset is now stored in a Pandas Dataframe\n",
        "Index_data"
      ],
      "execution_count": 6,
      "outputs": [
        {
          "output_type": "execute_result",
          "data": {
            "text/html": [
              "<div>\n",
              "<style scoped>\n",
              "    .dataframe tbody tr th:only-of-type {\n",
              "        vertical-align: middle;\n",
              "    }\n",
              "\n",
              "    .dataframe tbody tr th {\n",
              "        vertical-align: top;\n",
              "    }\n",
              "\n",
              "    .dataframe thead th {\n",
              "        text-align: right;\n",
              "    }\n",
              "</style>\n",
              "<table border=\"1\" class=\"dataframe\">\n",
              "  <thead>\n",
              "    <tr style=\"text-align: right;\">\n",
              "      <th></th>\n",
              "      <th>Index_Approached</th>\n",
              "      <th>Index_ARTStatus</th>\n",
              "      <th>Sex_Index</th>\n",
              "      <th>Relationship_Index</th>\n",
              "      <th>FamilyTree_Index</th>\n",
              "      <th>Client_Indexed?</th>\n",
              "      <th>Site_Index_found</th>\n",
              "      <th>Testing_History</th>\n",
              "      <th>Age</th>\n",
              "      <th>Status</th>\n",
              "    </tr>\n",
              "  </thead>\n",
              "  <tbody>\n",
              "    <tr>\n",
              "      <th>0</th>\n",
              "      <td>1</td>\n",
              "      <td>Already enrolled</td>\n",
              "      <td>Female</td>\n",
              "      <td>Biological children</td>\n",
              "      <td>Yes</td>\n",
              "      <td>Index</td>\n",
              "      <td>Door-to-Door</td>\n",
              "      <td>Re-test</td>\n",
              "      <td>3</td>\n",
              "      <td>Negative</td>\n",
              "    </tr>\n",
              "    <tr>\n",
              "      <th>1</th>\n",
              "      <td>1</td>\n",
              "      <td>Already enrolled</td>\n",
              "      <td>Male</td>\n",
              "      <td>Biological children</td>\n",
              "      <td>Yes</td>\n",
              "      <td>Index</td>\n",
              "      <td>Door-to-Door</td>\n",
              "      <td>First-time tester</td>\n",
              "      <td>9</td>\n",
              "      <td>Negative</td>\n",
              "    </tr>\n",
              "    <tr>\n",
              "      <th>2</th>\n",
              "      <td>1</td>\n",
              "      <td>Already enrolled</td>\n",
              "      <td>Male</td>\n",
              "      <td>Biological children</td>\n",
              "      <td>Yes</td>\n",
              "      <td>Index</td>\n",
              "      <td>Door-to-Door</td>\n",
              "      <td>First-time tester</td>\n",
              "      <td>5</td>\n",
              "      <td>Negative</td>\n",
              "    </tr>\n",
              "    <tr>\n",
              "      <th>3</th>\n",
              "      <td>1</td>\n",
              "      <td>Already enrolled</td>\n",
              "      <td>Female</td>\n",
              "      <td>Biological children</td>\n",
              "      <td>Yes</td>\n",
              "      <td>Index</td>\n",
              "      <td>Door-to-Door</td>\n",
              "      <td>First-time tester</td>\n",
              "      <td>11</td>\n",
              "      <td>Negative</td>\n",
              "    </tr>\n",
              "    <tr>\n",
              "      <th>4</th>\n",
              "      <td>2</td>\n",
              "      <td>Already enrolled</td>\n",
              "      <td>Female</td>\n",
              "      <td>Biological children</td>\n",
              "      <td>Yes</td>\n",
              "      <td>Index</td>\n",
              "      <td>Door-to-Door</td>\n",
              "      <td>Re-test</td>\n",
              "      <td>3</td>\n",
              "      <td>Negative</td>\n",
              "    </tr>\n",
              "    <tr>\n",
              "      <th>...</th>\n",
              "      <td>...</td>\n",
              "      <td>...</td>\n",
              "      <td>...</td>\n",
              "      <td>...</td>\n",
              "      <td>...</td>\n",
              "      <td>...</td>\n",
              "      <td>...</td>\n",
              "      <td>...</td>\n",
              "      <td>...</td>\n",
              "      <td>...</td>\n",
              "    </tr>\n",
              "    <tr>\n",
              "      <th>16959</th>\n",
              "      <td>5909</td>\n",
              "      <td>Already enrolled</td>\n",
              "      <td>Male</td>\n",
              "      <td>Biological children</td>\n",
              "      <td>Yes</td>\n",
              "      <td>Index</td>\n",
              "      <td>Door-to-Door</td>\n",
              "      <td>First-time tester</td>\n",
              "      <td>10</td>\n",
              "      <td>Negative</td>\n",
              "    </tr>\n",
              "    <tr>\n",
              "      <th>16960</th>\n",
              "      <td>5909</td>\n",
              "      <td>Already enrolled</td>\n",
              "      <td>Female</td>\n",
              "      <td>Biological children</td>\n",
              "      <td>Yes</td>\n",
              "      <td>Index</td>\n",
              "      <td>Door-to-Door</td>\n",
              "      <td>First-time tester</td>\n",
              "      <td>5</td>\n",
              "      <td>Negative</td>\n",
              "    </tr>\n",
              "    <tr>\n",
              "      <th>16961</th>\n",
              "      <td>5909</td>\n",
              "      <td>Already enrolled</td>\n",
              "      <td>Female</td>\n",
              "      <td>Biological children</td>\n",
              "      <td>Yes</td>\n",
              "      <td>Index</td>\n",
              "      <td>Door-to-Door</td>\n",
              "      <td>Re-test</td>\n",
              "      <td>5</td>\n",
              "      <td>Negative</td>\n",
              "    </tr>\n",
              "    <tr>\n",
              "      <th>16962</th>\n",
              "      <td>5908</td>\n",
              "      <td>Newly diagnosed</td>\n",
              "      <td>Male</td>\n",
              "      <td>Sexual partner</td>\n",
              "      <td>Yes</td>\n",
              "      <td>Index</td>\n",
              "      <td>Door-to-Door</td>\n",
              "      <td>Re-test</td>\n",
              "      <td>50</td>\n",
              "      <td>Negative</td>\n",
              "    </tr>\n",
              "    <tr>\n",
              "      <th>16963</th>\n",
              "      <td>5908</td>\n",
              "      <td>Already enrolled</td>\n",
              "      <td>Male</td>\n",
              "      <td>Biological children</td>\n",
              "      <td>Yes</td>\n",
              "      <td>Index</td>\n",
              "      <td>Door-to-Door</td>\n",
              "      <td>Re-test</td>\n",
              "      <td>50</td>\n",
              "      <td>Negative</td>\n",
              "    </tr>\n",
              "  </tbody>\n",
              "</table>\n",
              "<p>16964 rows × 10 columns</p>\n",
              "</div>"
            ],
            "text/plain": [
              "       Index_Approached   Index_ARTStatus  ... Age    Status\n",
              "0                     1  Already enrolled  ...   3  Negative\n",
              "1                     1  Already enrolled  ...   9  Negative\n",
              "2                     1  Already enrolled  ...   5  Negative\n",
              "3                     1  Already enrolled  ...  11  Negative\n",
              "4                     2  Already enrolled  ...   3  Negative\n",
              "...                 ...               ...  ...  ..       ...\n",
              "16959              5909  Already enrolled  ...  10  Negative\n",
              "16960              5909  Already enrolled  ...   5  Negative\n",
              "16961              5909  Already enrolled  ...   5  Negative\n",
              "16962              5908   Newly diagnosed  ...  50  Negative\n",
              "16963              5908  Already enrolled  ...  50  Negative\n",
              "\n",
              "[16964 rows x 10 columns]"
            ]
          },
          "metadata": {},
          "execution_count": 6
        }
      ]
    },
    {
      "cell_type": "markdown",
      "metadata": {
        "id": "j-4gfDdkqKKd"
      },
      "source": [
        ""
      ]
    },
    {
      "cell_type": "code",
      "metadata": {
        "colab": {
          "base_uri": "https://localhost:8080/",
          "height": 419
        },
        "id": "r6nXg9ouoCI-",
        "outputId": "953eaaa1-53e8-4d93-8df1-ccb887124a1f"
      },
      "source": [
        "# We drop some coloumns which have no impact to our target\n",
        "New_data = Index_data.drop(columns=['Client_Indexed?' ])\n",
        "New_data"
      ],
      "execution_count": 7,
      "outputs": [
        {
          "output_type": "execute_result",
          "data": {
            "text/html": [
              "<div>\n",
              "<style scoped>\n",
              "    .dataframe tbody tr th:only-of-type {\n",
              "        vertical-align: middle;\n",
              "    }\n",
              "\n",
              "    .dataframe tbody tr th {\n",
              "        vertical-align: top;\n",
              "    }\n",
              "\n",
              "    .dataframe thead th {\n",
              "        text-align: right;\n",
              "    }\n",
              "</style>\n",
              "<table border=\"1\" class=\"dataframe\">\n",
              "  <thead>\n",
              "    <tr style=\"text-align: right;\">\n",
              "      <th></th>\n",
              "      <th>Index_Approached</th>\n",
              "      <th>Index_ARTStatus</th>\n",
              "      <th>Sex_Index</th>\n",
              "      <th>Relationship_Index</th>\n",
              "      <th>FamilyTree_Index</th>\n",
              "      <th>Site_Index_found</th>\n",
              "      <th>Testing_History</th>\n",
              "      <th>Age</th>\n",
              "      <th>Status</th>\n",
              "    </tr>\n",
              "  </thead>\n",
              "  <tbody>\n",
              "    <tr>\n",
              "      <th>0</th>\n",
              "      <td>1</td>\n",
              "      <td>Already enrolled</td>\n",
              "      <td>Female</td>\n",
              "      <td>Biological children</td>\n",
              "      <td>Yes</td>\n",
              "      <td>Door-to-Door</td>\n",
              "      <td>Re-test</td>\n",
              "      <td>3</td>\n",
              "      <td>Negative</td>\n",
              "    </tr>\n",
              "    <tr>\n",
              "      <th>1</th>\n",
              "      <td>1</td>\n",
              "      <td>Already enrolled</td>\n",
              "      <td>Male</td>\n",
              "      <td>Biological children</td>\n",
              "      <td>Yes</td>\n",
              "      <td>Door-to-Door</td>\n",
              "      <td>First-time tester</td>\n",
              "      <td>9</td>\n",
              "      <td>Negative</td>\n",
              "    </tr>\n",
              "    <tr>\n",
              "      <th>2</th>\n",
              "      <td>1</td>\n",
              "      <td>Already enrolled</td>\n",
              "      <td>Male</td>\n",
              "      <td>Biological children</td>\n",
              "      <td>Yes</td>\n",
              "      <td>Door-to-Door</td>\n",
              "      <td>First-time tester</td>\n",
              "      <td>5</td>\n",
              "      <td>Negative</td>\n",
              "    </tr>\n",
              "    <tr>\n",
              "      <th>3</th>\n",
              "      <td>1</td>\n",
              "      <td>Already enrolled</td>\n",
              "      <td>Female</td>\n",
              "      <td>Biological children</td>\n",
              "      <td>Yes</td>\n",
              "      <td>Door-to-Door</td>\n",
              "      <td>First-time tester</td>\n",
              "      <td>11</td>\n",
              "      <td>Negative</td>\n",
              "    </tr>\n",
              "    <tr>\n",
              "      <th>4</th>\n",
              "      <td>2</td>\n",
              "      <td>Already enrolled</td>\n",
              "      <td>Female</td>\n",
              "      <td>Biological children</td>\n",
              "      <td>Yes</td>\n",
              "      <td>Door-to-Door</td>\n",
              "      <td>Re-test</td>\n",
              "      <td>3</td>\n",
              "      <td>Negative</td>\n",
              "    </tr>\n",
              "    <tr>\n",
              "      <th>...</th>\n",
              "      <td>...</td>\n",
              "      <td>...</td>\n",
              "      <td>...</td>\n",
              "      <td>...</td>\n",
              "      <td>...</td>\n",
              "      <td>...</td>\n",
              "      <td>...</td>\n",
              "      <td>...</td>\n",
              "      <td>...</td>\n",
              "    </tr>\n",
              "    <tr>\n",
              "      <th>16959</th>\n",
              "      <td>5909</td>\n",
              "      <td>Already enrolled</td>\n",
              "      <td>Male</td>\n",
              "      <td>Biological children</td>\n",
              "      <td>Yes</td>\n",
              "      <td>Door-to-Door</td>\n",
              "      <td>First-time tester</td>\n",
              "      <td>10</td>\n",
              "      <td>Negative</td>\n",
              "    </tr>\n",
              "    <tr>\n",
              "      <th>16960</th>\n",
              "      <td>5909</td>\n",
              "      <td>Already enrolled</td>\n",
              "      <td>Female</td>\n",
              "      <td>Biological children</td>\n",
              "      <td>Yes</td>\n",
              "      <td>Door-to-Door</td>\n",
              "      <td>First-time tester</td>\n",
              "      <td>5</td>\n",
              "      <td>Negative</td>\n",
              "    </tr>\n",
              "    <tr>\n",
              "      <th>16961</th>\n",
              "      <td>5909</td>\n",
              "      <td>Already enrolled</td>\n",
              "      <td>Female</td>\n",
              "      <td>Biological children</td>\n",
              "      <td>Yes</td>\n",
              "      <td>Door-to-Door</td>\n",
              "      <td>Re-test</td>\n",
              "      <td>5</td>\n",
              "      <td>Negative</td>\n",
              "    </tr>\n",
              "    <tr>\n",
              "      <th>16962</th>\n",
              "      <td>5908</td>\n",
              "      <td>Newly diagnosed</td>\n",
              "      <td>Male</td>\n",
              "      <td>Sexual partner</td>\n",
              "      <td>Yes</td>\n",
              "      <td>Door-to-Door</td>\n",
              "      <td>Re-test</td>\n",
              "      <td>50</td>\n",
              "      <td>Negative</td>\n",
              "    </tr>\n",
              "    <tr>\n",
              "      <th>16963</th>\n",
              "      <td>5908</td>\n",
              "      <td>Already enrolled</td>\n",
              "      <td>Male</td>\n",
              "      <td>Biological children</td>\n",
              "      <td>Yes</td>\n",
              "      <td>Door-to-Door</td>\n",
              "      <td>Re-test</td>\n",
              "      <td>50</td>\n",
              "      <td>Negative</td>\n",
              "    </tr>\n",
              "  </tbody>\n",
              "</table>\n",
              "<p>16964 rows × 9 columns</p>\n",
              "</div>"
            ],
            "text/plain": [
              "       Index_Approached   Index_ARTStatus  ... Age    Status\n",
              "0                     1  Already enrolled  ...   3  Negative\n",
              "1                     1  Already enrolled  ...   9  Negative\n",
              "2                     1  Already enrolled  ...   5  Negative\n",
              "3                     1  Already enrolled  ...  11  Negative\n",
              "4                     2  Already enrolled  ...   3  Negative\n",
              "...                 ...               ...  ...  ..       ...\n",
              "16959              5909  Already enrolled  ...  10  Negative\n",
              "16960              5909  Already enrolled  ...   5  Negative\n",
              "16961              5909  Already enrolled  ...   5  Negative\n",
              "16962              5908   Newly diagnosed  ...  50  Negative\n",
              "16963              5908  Already enrolled  ...  50  Negative\n",
              "\n",
              "[16964 rows x 9 columns]"
            ]
          },
          "metadata": {},
          "execution_count": 7
        }
      ]
    },
    {
      "cell_type": "markdown",
      "metadata": {
        "id": "SkheD4b9qPWN"
      },
      "source": [
        "We dont ave a target colum in our data set, therefore we are go to add colunm."
      ]
    },
    {
      "cell_type": "code",
      "metadata": {
        "id": "7yF1-EiUqOqO"
      },
      "source": [
        "# adding target coloumn\n",
        "Index_Approached_dict = {} \n",
        "for Index_Approached in New_data[\"Index_Approached\"]:\n",
        "    if not Index_Approached in Index_Approached_dict:\n",
        "        Index_Approached_dict[Index_Approached] = 1\n",
        "    else:\n",
        "        Index_Approached_dict[Index_Approached] += 1\n",
        "        Index_Approached_dict"
      ],
      "execution_count": 8,
      "outputs": []
    },
    {
      "cell_type": "code",
      "metadata": {
        "id": "UferrkyPqmTo"
      },
      "source": [
        "for i in range(len(New_data)):\n",
        "    Index_Approached = New_data.loc[i][\"Index_Approached\"]\n",
        "    New_data.at[i,\"number_of_Hivindex\"] = Index_Approached_dict[Index_Approached]"
      ],
      "execution_count": 9,
      "outputs": []
    },
    {
      "cell_type": "code",
      "metadata": {
        "colab": {
          "base_uri": "https://localhost:8080/",
          "height": 204
        },
        "id": "kbuGsBkJrIzz",
        "outputId": "1d27e8aa-8f0b-4029-bf21-7dc5598588e7"
      },
      "source": [
        "New_data.head()"
      ],
      "execution_count": 10,
      "outputs": [
        {
          "output_type": "execute_result",
          "data": {
            "text/html": [
              "<div>\n",
              "<style scoped>\n",
              "    .dataframe tbody tr th:only-of-type {\n",
              "        vertical-align: middle;\n",
              "    }\n",
              "\n",
              "    .dataframe tbody tr th {\n",
              "        vertical-align: top;\n",
              "    }\n",
              "\n",
              "    .dataframe thead th {\n",
              "        text-align: right;\n",
              "    }\n",
              "</style>\n",
              "<table border=\"1\" class=\"dataframe\">\n",
              "  <thead>\n",
              "    <tr style=\"text-align: right;\">\n",
              "      <th></th>\n",
              "      <th>Index_Approached</th>\n",
              "      <th>Index_ARTStatus</th>\n",
              "      <th>Sex_Index</th>\n",
              "      <th>Relationship_Index</th>\n",
              "      <th>FamilyTree_Index</th>\n",
              "      <th>Site_Index_found</th>\n",
              "      <th>Testing_History</th>\n",
              "      <th>Age</th>\n",
              "      <th>Status</th>\n",
              "      <th>number_of_Hivindex</th>\n",
              "    </tr>\n",
              "  </thead>\n",
              "  <tbody>\n",
              "    <tr>\n",
              "      <th>0</th>\n",
              "      <td>1</td>\n",
              "      <td>Already enrolled</td>\n",
              "      <td>Female</td>\n",
              "      <td>Biological children</td>\n",
              "      <td>Yes</td>\n",
              "      <td>Door-to-Door</td>\n",
              "      <td>Re-test</td>\n",
              "      <td>3</td>\n",
              "      <td>Negative</td>\n",
              "      <td>4.0</td>\n",
              "    </tr>\n",
              "    <tr>\n",
              "      <th>1</th>\n",
              "      <td>1</td>\n",
              "      <td>Already enrolled</td>\n",
              "      <td>Male</td>\n",
              "      <td>Biological children</td>\n",
              "      <td>Yes</td>\n",
              "      <td>Door-to-Door</td>\n",
              "      <td>First-time tester</td>\n",
              "      <td>9</td>\n",
              "      <td>Negative</td>\n",
              "      <td>4.0</td>\n",
              "    </tr>\n",
              "    <tr>\n",
              "      <th>2</th>\n",
              "      <td>1</td>\n",
              "      <td>Already enrolled</td>\n",
              "      <td>Male</td>\n",
              "      <td>Biological children</td>\n",
              "      <td>Yes</td>\n",
              "      <td>Door-to-Door</td>\n",
              "      <td>First-time tester</td>\n",
              "      <td>5</td>\n",
              "      <td>Negative</td>\n",
              "      <td>4.0</td>\n",
              "    </tr>\n",
              "    <tr>\n",
              "      <th>3</th>\n",
              "      <td>1</td>\n",
              "      <td>Already enrolled</td>\n",
              "      <td>Female</td>\n",
              "      <td>Biological children</td>\n",
              "      <td>Yes</td>\n",
              "      <td>Door-to-Door</td>\n",
              "      <td>First-time tester</td>\n",
              "      <td>11</td>\n",
              "      <td>Negative</td>\n",
              "      <td>4.0</td>\n",
              "    </tr>\n",
              "    <tr>\n",
              "      <th>4</th>\n",
              "      <td>2</td>\n",
              "      <td>Already enrolled</td>\n",
              "      <td>Female</td>\n",
              "      <td>Biological children</td>\n",
              "      <td>Yes</td>\n",
              "      <td>Door-to-Door</td>\n",
              "      <td>Re-test</td>\n",
              "      <td>3</td>\n",
              "      <td>Negative</td>\n",
              "      <td>2.0</td>\n",
              "    </tr>\n",
              "  </tbody>\n",
              "</table>\n",
              "</div>"
            ],
            "text/plain": [
              "   Index_Approached   Index_ARTStatus  ...    Status number_of_Hivindex\n",
              "0                 1  Already enrolled  ...  Negative                4.0\n",
              "1                 1  Already enrolled  ...  Negative                4.0\n",
              "2                 1  Already enrolled  ...  Negative                4.0\n",
              "3                 1  Already enrolled  ...  Negative                4.0\n",
              "4                 2  Already enrolled  ...  Negative                2.0\n",
              "\n",
              "[5 rows x 10 columns]"
            ]
          },
          "metadata": {},
          "execution_count": 10
        }
      ]
    },
    {
      "cell_type": "code",
      "metadata": {
        "colab": {
          "base_uri": "https://localhost:8080/",
          "height": 419
        },
        "id": "K8yKes69dmwp",
        "outputId": "a342d7fc-2341-4412-cb76-308fb1d551f2"
      },
      "source": [
        "# We drop some coloumns which have no impact to our target\n",
        "data = New_data.drop(columns=['Index_Approached' ])\n",
        "data"
      ],
      "execution_count": 11,
      "outputs": [
        {
          "output_type": "execute_result",
          "data": {
            "text/html": [
              "<div>\n",
              "<style scoped>\n",
              "    .dataframe tbody tr th:only-of-type {\n",
              "        vertical-align: middle;\n",
              "    }\n",
              "\n",
              "    .dataframe tbody tr th {\n",
              "        vertical-align: top;\n",
              "    }\n",
              "\n",
              "    .dataframe thead th {\n",
              "        text-align: right;\n",
              "    }\n",
              "</style>\n",
              "<table border=\"1\" class=\"dataframe\">\n",
              "  <thead>\n",
              "    <tr style=\"text-align: right;\">\n",
              "      <th></th>\n",
              "      <th>Index_ARTStatus</th>\n",
              "      <th>Sex_Index</th>\n",
              "      <th>Relationship_Index</th>\n",
              "      <th>FamilyTree_Index</th>\n",
              "      <th>Site_Index_found</th>\n",
              "      <th>Testing_History</th>\n",
              "      <th>Age</th>\n",
              "      <th>Status</th>\n",
              "      <th>number_of_Hivindex</th>\n",
              "    </tr>\n",
              "  </thead>\n",
              "  <tbody>\n",
              "    <tr>\n",
              "      <th>0</th>\n",
              "      <td>Already enrolled</td>\n",
              "      <td>Female</td>\n",
              "      <td>Biological children</td>\n",
              "      <td>Yes</td>\n",
              "      <td>Door-to-Door</td>\n",
              "      <td>Re-test</td>\n",
              "      <td>3</td>\n",
              "      <td>Negative</td>\n",
              "      <td>4.0</td>\n",
              "    </tr>\n",
              "    <tr>\n",
              "      <th>1</th>\n",
              "      <td>Already enrolled</td>\n",
              "      <td>Male</td>\n",
              "      <td>Biological children</td>\n",
              "      <td>Yes</td>\n",
              "      <td>Door-to-Door</td>\n",
              "      <td>First-time tester</td>\n",
              "      <td>9</td>\n",
              "      <td>Negative</td>\n",
              "      <td>4.0</td>\n",
              "    </tr>\n",
              "    <tr>\n",
              "      <th>2</th>\n",
              "      <td>Already enrolled</td>\n",
              "      <td>Male</td>\n",
              "      <td>Biological children</td>\n",
              "      <td>Yes</td>\n",
              "      <td>Door-to-Door</td>\n",
              "      <td>First-time tester</td>\n",
              "      <td>5</td>\n",
              "      <td>Negative</td>\n",
              "      <td>4.0</td>\n",
              "    </tr>\n",
              "    <tr>\n",
              "      <th>3</th>\n",
              "      <td>Already enrolled</td>\n",
              "      <td>Female</td>\n",
              "      <td>Biological children</td>\n",
              "      <td>Yes</td>\n",
              "      <td>Door-to-Door</td>\n",
              "      <td>First-time tester</td>\n",
              "      <td>11</td>\n",
              "      <td>Negative</td>\n",
              "      <td>4.0</td>\n",
              "    </tr>\n",
              "    <tr>\n",
              "      <th>4</th>\n",
              "      <td>Already enrolled</td>\n",
              "      <td>Female</td>\n",
              "      <td>Biological children</td>\n",
              "      <td>Yes</td>\n",
              "      <td>Door-to-Door</td>\n",
              "      <td>Re-test</td>\n",
              "      <td>3</td>\n",
              "      <td>Negative</td>\n",
              "      <td>2.0</td>\n",
              "    </tr>\n",
              "    <tr>\n",
              "      <th>...</th>\n",
              "      <td>...</td>\n",
              "      <td>...</td>\n",
              "      <td>...</td>\n",
              "      <td>...</td>\n",
              "      <td>...</td>\n",
              "      <td>...</td>\n",
              "      <td>...</td>\n",
              "      <td>...</td>\n",
              "      <td>...</td>\n",
              "    </tr>\n",
              "    <tr>\n",
              "      <th>16959</th>\n",
              "      <td>Already enrolled</td>\n",
              "      <td>Male</td>\n",
              "      <td>Biological children</td>\n",
              "      <td>Yes</td>\n",
              "      <td>Door-to-Door</td>\n",
              "      <td>First-time tester</td>\n",
              "      <td>10</td>\n",
              "      <td>Negative</td>\n",
              "      <td>15.0</td>\n",
              "    </tr>\n",
              "    <tr>\n",
              "      <th>16960</th>\n",
              "      <td>Already enrolled</td>\n",
              "      <td>Female</td>\n",
              "      <td>Biological children</td>\n",
              "      <td>Yes</td>\n",
              "      <td>Door-to-Door</td>\n",
              "      <td>First-time tester</td>\n",
              "      <td>5</td>\n",
              "      <td>Negative</td>\n",
              "      <td>15.0</td>\n",
              "    </tr>\n",
              "    <tr>\n",
              "      <th>16961</th>\n",
              "      <td>Already enrolled</td>\n",
              "      <td>Female</td>\n",
              "      <td>Biological children</td>\n",
              "      <td>Yes</td>\n",
              "      <td>Door-to-Door</td>\n",
              "      <td>Re-test</td>\n",
              "      <td>5</td>\n",
              "      <td>Negative</td>\n",
              "      <td>15.0</td>\n",
              "    </tr>\n",
              "    <tr>\n",
              "      <th>16962</th>\n",
              "      <td>Newly diagnosed</td>\n",
              "      <td>Male</td>\n",
              "      <td>Sexual partner</td>\n",
              "      <td>Yes</td>\n",
              "      <td>Door-to-Door</td>\n",
              "      <td>Re-test</td>\n",
              "      <td>50</td>\n",
              "      <td>Negative</td>\n",
              "      <td>5.0</td>\n",
              "    </tr>\n",
              "    <tr>\n",
              "      <th>16963</th>\n",
              "      <td>Already enrolled</td>\n",
              "      <td>Male</td>\n",
              "      <td>Biological children</td>\n",
              "      <td>Yes</td>\n",
              "      <td>Door-to-Door</td>\n",
              "      <td>Re-test</td>\n",
              "      <td>50</td>\n",
              "      <td>Negative</td>\n",
              "      <td>5.0</td>\n",
              "    </tr>\n",
              "  </tbody>\n",
              "</table>\n",
              "<p>16964 rows × 9 columns</p>\n",
              "</div>"
            ],
            "text/plain": [
              "        Index_ARTStatus Sex_Index  ...    Status number_of_Hivindex\n",
              "0      Already enrolled    Female  ...  Negative                4.0\n",
              "1      Already enrolled      Male  ...  Negative                4.0\n",
              "2      Already enrolled      Male  ...  Negative                4.0\n",
              "3      Already enrolled    Female  ...  Negative                4.0\n",
              "4      Already enrolled    Female  ...  Negative                2.0\n",
              "...                 ...       ...  ...       ...                ...\n",
              "16959  Already enrolled      Male  ...  Negative               15.0\n",
              "16960  Already enrolled    Female  ...  Negative               15.0\n",
              "16961  Already enrolled    Female  ...  Negative               15.0\n",
              "16962   Newly diagnosed      Male  ...  Negative                5.0\n",
              "16963  Already enrolled      Male  ...  Negative                5.0\n",
              "\n",
              "[16964 rows x 9 columns]"
            ]
          },
          "metadata": {},
          "execution_count": 11
        }
      ]
    },
    {
      "cell_type": "markdown",
      "metadata": {
        "id": "AMEh7-GNsIor"
      },
      "source": [
        "Data Exploration/ Data Visualization"
      ]
    },
    {
      "cell_type": "code",
      "metadata": {
        "id": "KW8DtnhXd9aQ"
      },
      "source": [
        ""
      ],
      "execution_count": null,
      "outputs": []
    },
    {
      "cell_type": "code",
      "metadata": {
        "id": "8NqDPCfHsTxT",
        "colab": {
          "base_uri": "https://localhost:8080/"
        },
        "outputId": "c4277833-f98d-4eb0-e0a6-5e30d75d5725"
      },
      "source": [
        "#checking the data\n",
        "data.isnull().sum()"
      ],
      "execution_count": 12,
      "outputs": [
        {
          "output_type": "execute_result",
          "data": {
            "text/plain": [
              "Index_ARTStatus       0\n",
              "Sex_Index             0\n",
              "Relationship_Index    0\n",
              "FamilyTree_Index      0\n",
              "Site_Index_found      0\n",
              "Testing_History       0\n",
              "Age                   0\n",
              "Status                0\n",
              "number_of_Hivindex    0\n",
              "dtype: int64"
            ]
          },
          "metadata": {},
          "execution_count": 12
        }
      ]
    },
    {
      "cell_type": "markdown",
      "metadata": {
        "id": "ZSdBI0NTOvAb"
      },
      "source": [
        "Fearturing Engineering"
      ]
    },
    {
      "cell_type": "code",
      "metadata": {
        "colab": {
          "base_uri": "https://localhost:8080/",
          "height": 465
        },
        "id": "RWe24POHOxA7",
        "outputId": "a0a94b0c-7ac6-4d60-abc4-3e040451b9bd"
      },
      "source": [
        "# Explore Target distribution \n",
        "sns.catplot(x =\"number_of_Hivindex\",kind=\"count\", data=data)\n",
        "plt.xticks(\n",
        "    rotation=90, \n",
        "    horizontalalignment='right',\n",
        "    fontweight='light',\n",
        "    fontsize='x-large'  \n",
        ")\n"
      ],
      "execution_count": 13,
      "outputs": [
        {
          "output_type": "execute_result",
          "data": {
            "text/plain": [
              "(array([ 0,  1,  2,  3,  4,  5,  6,  7,  8,  9, 10, 11, 12, 13, 14, 15, 16,\n",
              "        17, 18, 19, 20, 21, 22, 23, 24]),\n",
              " <a list of 25 Text major ticklabel objects>)"
            ]
          },
          "metadata": {},
          "execution_count": 13
        },
        {
          "output_type": "display_data",
          "data": {
            "image/png": "[encoded data removed]",
            "text/plain": [
              "<Figure size 360x360 with 1 Axes>"
            ]
          },
          "metadata": {}
        }
      ]
    },
    {
      "cell_type": "markdown",
      "metadata": {
        "id": "Xeqzctz3SaTx"
      },
      "source": [
        "Aproached index number 2 has high number of client index .followed by  index number one , then . number four. Apprached index from number twenty have very few index client you can not even notes."
      ]
    },
    {
      "cell_type": "code",
      "metadata": {
        "colab": {
          "base_uri": "https://localhost:8080/",
          "height": 517
        },
        "id": "tin0-wygO5z4",
        "outputId": "78d3e27c-0487-4806-caf0-505a7b9f186a"
      },
      "source": [
        "sns.catplot(x=\"Site_Index_found\", kind=\"count\", data=data);\n",
        "\n",
        "plt.xticks(\n",
        "    rotation=45, \n",
        "    horizontalalignment='right',\n",
        "    fontweight='light',\n",
        "    fontsize='x-large'  \n",
        ")"
      ],
      "execution_count": 14,
      "outputs": [
        {
          "output_type": "execute_result",
          "data": {
            "text/plain": [
              "(array([0, 1, 2, 3]), <a list of 4 Text major ticklabel objects>)"
            ]
          },
          "metadata": {},
          "execution_count": 14
        },
        {
          "output_type": "display_data",
          "data": {
            "image/png": "[encoded data removed]",
            "text/plain": [
              "<Figure size 360x360 with 1 Axes>"
            ]
          },
          "metadata": {}
        }
      ]
    },
    {
      "cell_type": "markdown",
      "metadata": {
        "id": "GEa1XShbSc4v"
      },
      "source": [
        "Many indexed client were found during door to door sercices and very few in a fixed site."
      ]
    },
    {
      "cell_type": "code",
      "metadata": {
        "colab": {
          "base_uri": "https://localhost:8080/",
          "height": 529
        },
        "id": "cS6QolsUPLC9",
        "outputId": "537351ee-db7f-4aab-f8b0-8d729f91d5cf"
      },
      "source": [
        "sns.catplot(x=\"Relationship_Index\", kind=\"count\", data=data);\n",
        "\n",
        "plt.xticks(\n",
        "    rotation=45, \n",
        "    horizontalalignment='right',\n",
        "    fontweight='light',\n",
        "    fontsize='x-large'  \n",
        ")"
      ],
      "execution_count": 15,
      "outputs": [
        {
          "output_type": "execute_result",
          "data": {
            "text/plain": [
              "(array([0, 1, 2]), <a list of 3 Text major ticklabel objects>)"
            ]
          },
          "metadata": {},
          "execution_count": 15
        },
        {
          "output_type": "display_data",
          "data": {
            "image/png": "[encoded data removed]",
            "text/plain": [
              "<Figure size 360x360 with 1 Axes>"
            ]
          },
          "metadata": {}
        }
      ]
    },
    {
      "cell_type": "markdown",
      "metadata": {
        "id": "q64fX6ZHSe7D"
      },
      "source": [
        "Hing number of indexed client are biological children , followed by any relationship and few number in Sexual partner."
      ]
    },
    {
      "cell_type": "code",
      "metadata": {
        "colab": {
          "base_uri": "https://localhost:8080/",
          "height": 451
        },
        "id": "ZdVXtNzhPRTA",
        "outputId": "41d3bfba-ac32-4138-885d-2cab9c1f7ddc"
      },
      "source": [
        "sns.catplot(x=\"Sex_Index\", kind=\"count\", data=data);\n",
        "\n",
        "plt.xticks(\n",
        "    rotation=45, \n",
        "    horizontalalignment='right',\n",
        "    fontweight='light',\n",
        "    fontsize='x-large'  \n",
        ")"
      ],
      "execution_count": 16,
      "outputs": [
        {
          "output_type": "execute_result",
          "data": {
            "text/plain": [
              "(array([0, 1]), <a list of 2 Text major ticklabel objects>)"
            ]
          },
          "metadata": {},
          "execution_count": 16
        },
        {
          "output_type": "display_data",
          "data": {
            "image/png": "[encoded data removed]",
            "text/plain": [
              "<Figure size 360x360 with 1 Axes>"
            ]
          },
          "metadata": {}
        }
      ]
    },
    {
      "cell_type": "markdown",
      "metadata": {
        "id": "wlvpCHs8R6ji"
      },
      "source": [
        "Female has refered many people compared to male"
      ]
    },
    {
      "cell_type": "code",
      "metadata": {
        "colab": {
          "base_uri": "https://localhost:8080/",
          "height": 463
        },
        "id": "Rw_iHZDbPwie",
        "outputId": "59fcf849-9589-4ea7-ed8d-79746b408998"
      },
      "source": [
        "sns.catplot(x=\"Status\", kind=\"count\", data=data);\n",
        "\n",
        "plt.xticks(\n",
        "    rotation=45, \n",
        "    horizontalalignment='right',\n",
        "    fontweight='light',\n",
        "    fontsize='x-large'  \n",
        ")"
      ],
      "execution_count": 17,
      "outputs": [
        {
          "output_type": "execute_result",
          "data": {
            "text/plain": [
              "(array([0, 1]), <a list of 2 Text major ticklabel objects>)"
            ]
          },
          "metadata": {},
          "execution_count": 17
        },
        {
          "output_type": "display_data",
          "data": {
            "image/png": "[encoded data removed]",
            "text/plain": [
              "<Figure size 360x360 with 1 Axes>"
            ]
          },
          "metadata": {}
        }
      ]
    },
    {
      "cell_type": "markdown",
      "metadata": {
        "id": "zJqH5n2ESjtJ"
      },
      "source": [
        "Many people who have indexed are negative and few are positive"
      ]
    },
    {
      "cell_type": "code",
      "metadata": {
        "colab": {
          "base_uri": "https://localhost:8080/",
          "height": 513
        },
        "id": "zH_3L0GIQAdg",
        "outputId": "428ff46f-e763-4451-942c-359cca8f274a"
      },
      "source": [
        "sns.catplot(x=\"Testing_History\", kind=\"count\", data=data);\n",
        "\n",
        "plt.xticks(\n",
        "    rotation=45, \n",
        "    horizontalalignment='right',\n",
        "    fontweight='light',\n",
        "    fontsize='x-large'  \n",
        ")"
      ],
      "execution_count": 18,
      "outputs": [
        {
          "output_type": "execute_result",
          "data": {
            "text/plain": [
              "(array([0, 1]), <a list of 2 Text major ticklabel objects>)"
            ]
          },
          "metadata": {},
          "execution_count": 18
        },
        {
          "output_type": "display_data",
          "data": {
            "image/png": "[encoded data removed]",
            "text/plain": [
              "<Figure size 360x360 with 1 Axes>"
            ]
          },
          "metadata": {}
        }
      ]
    },
    {
      "cell_type": "markdown",
      "metadata": {
        "id": "tTIg23ZLSl5y"
      },
      "source": [
        "Number of indexed client is high in Re_test while low in first_time test"
      ]
    },
    {
      "cell_type": "code",
      "metadata": {
        "colab": {
          "base_uri": "https://localhost:8080/",
          "height": 521
        },
        "id": "Mf9POXfBQJFq",
        "outputId": "e63a6d7c-9ad0-4786-afc0-9ba2e4f43ae7"
      },
      "source": [
        "sns.catplot(x=\"Index_ARTStatus\", kind=\"count\", data=data);\n",
        "\n",
        "plt.xticks(\n",
        "    rotation=45, \n",
        "    horizontalalignment='right',\n",
        "    fontweight='light',\n",
        "    fontsize='x-large'  \n",
        ")"
      ],
      "execution_count": 19,
      "outputs": [
        {
          "output_type": "execute_result",
          "data": {
            "text/plain": [
              "(array([0, 1]), <a list of 2 Text major ticklabel objects>)"
            ]
          },
          "metadata": {},
          "execution_count": 19
        },
        {
          "output_type": "display_data",
          "data": {
            "image/png": "[encoded data removed]",
            "text/plain": [
              "<Figure size 360x360 with 1 Axes>"
            ]
          },
          "metadata": {}
        }
      ]
    },
    {
      "cell_type": "markdown",
      "metadata": {
        "id": "74HBksNlSn1M"
      },
      "source": [
        "Number of approached index is high in already enrolled , and few are Newly diognosed."
      ]
    },
    {
      "cell_type": "markdown",
      "metadata": {
        "id": "w2Ezr_sfU_Qz"
      },
      "source": [
        "Data processing"
      ]
    },
    {
      "cell_type": "code",
      "metadata": {
        "colab": {
          "base_uri": "https://localhost:8080/",
          "height": 241
        },
        "id": "wa6LUNyyVCa6",
        "outputId": "0781bd61-e00e-4c39-da7c-28ca716f8fa3"
      },
      "source": [
        "\n",
        "# Turn all categories into numbers\n",
        "data_one_hot = pd.get_dummies(data)\n",
        "data_one_hot.head() # view the converted columns"
      ],
      "execution_count": 20,
      "outputs": [
        {
          "output_type": "execute_result",
          "data": {
            "text/html": [
              "<div>\n",
              "<style scoped>\n",
              "    .dataframe tbody tr th:only-of-type {\n",
              "        vertical-align: middle;\n",
              "    }\n",
              "\n",
              "    .dataframe tbody tr th {\n",
              "        vertical-align: top;\n",
              "    }\n",
              "\n",
              "    .dataframe thead th {\n",
              "        text-align: right;\n",
              "    }\n",
              "</style>\n",
              "<table border=\"1\" class=\"dataframe\">\n",
              "  <thead>\n",
              "    <tr style=\"text-align: right;\">\n",
              "      <th></th>\n",
              "      <th>Age</th>\n",
              "      <th>number_of_Hivindex</th>\n",
              "      <th>Index_ARTStatus_Already enrolled</th>\n",
              "      <th>Index_ARTStatus_Newly diagnosed</th>\n",
              "      <th>Sex_Index_Female</th>\n",
              "      <th>Sex_Index_Male</th>\n",
              "      <th>Relationship_Index_Any relationship</th>\n",
              "      <th>Relationship_Index_Biological children</th>\n",
              "      <th>Relationship_Index_Sexual partner</th>\n",
              "      <th>FamilyTree_Index_No</th>\n",
              "      <th>FamilyTree_Index_Yes</th>\n",
              "      <th>Site_Index_found_Door-to-Door</th>\n",
              "      <th>Site_Index_found_Fixed site</th>\n",
              "      <th>Site_Index_found_Health Facility</th>\n",
              "      <th>Site_Index_found_Mobile Outreach</th>\n",
              "      <th>Testing_History_First-time tester</th>\n",
              "      <th>Testing_History_Re-test</th>\n",
              "      <th>Status_Negative</th>\n",
              "      <th>Status_Positive</th>\n",
              "    </tr>\n",
              "  </thead>\n",
              "  <tbody>\n",
              "    <tr>\n",
              "      <th>0</th>\n",
              "      <td>3</td>\n",
              "      <td>4.0</td>\n",
              "      <td>1</td>\n",
              "      <td>0</td>\n",
              "      <td>1</td>\n",
              "      <td>0</td>\n",
              "      <td>0</td>\n",
              "      <td>1</td>\n",
              "      <td>0</td>\n",
              "      <td>0</td>\n",
              "      <td>1</td>\n",
              "      <td>1</td>\n",
              "      <td>0</td>\n",
              "      <td>0</td>\n",
              "      <td>0</td>\n",
              "      <td>0</td>\n",
              "      <td>1</td>\n",
              "      <td>1</td>\n",
              "      <td>0</td>\n",
              "    </tr>\n",
              "    <tr>\n",
              "      <th>1</th>\n",
              "      <td>9</td>\n",
              "      <td>4.0</td>\n",
              "      <td>1</td>\n",
              "      <td>0</td>\n",
              "      <td>0</td>\n",
              "      <td>1</td>\n",
              "      <td>0</td>\n",
              "      <td>1</td>\n",
              "      <td>0</td>\n",
              "      <td>0</td>\n",
              "      <td>1</td>\n",
              "      <td>1</td>\n",
              "      <td>0</td>\n",
              "      <td>0</td>\n",
              "      <td>0</td>\n",
              "      <td>1</td>\n",
              "      <td>0</td>\n",
              "      <td>1</td>\n",
              "      <td>0</td>\n",
              "    </tr>\n",
              "    <tr>\n",
              "      <th>2</th>\n",
              "      <td>5</td>\n",
              "      <td>4.0</td>\n",
              "      <td>1</td>\n",
              "      <td>0</td>\n",
              "      <td>0</td>\n",
              "      <td>1</td>\n",
              "      <td>0</td>\n",
              "      <td>1</td>\n",
              "      <td>0</td>\n",
              "      <td>0</td>\n",
              "      <td>1</td>\n",
              "      <td>1</td>\n",
              "      <td>0</td>\n",
              "      <td>0</td>\n",
              "      <td>0</td>\n",
              "      <td>1</td>\n",
              "      <td>0</td>\n",
              "      <td>1</td>\n",
              "      <td>0</td>\n",
              "    </tr>\n",
              "    <tr>\n",
              "      <th>3</th>\n",
              "      <td>11</td>\n",
              "      <td>4.0</td>\n",
              "      <td>1</td>\n",
              "      <td>0</td>\n",
              "      <td>1</td>\n",
              "      <td>0</td>\n",
              "      <td>0</td>\n",
              "      <td>1</td>\n",
              "      <td>0</td>\n",
              "      <td>0</td>\n",
              "      <td>1</td>\n",
              "      <td>1</td>\n",
              "      <td>0</td>\n",
              "      <td>0</td>\n",
              "      <td>0</td>\n",
              "      <td>1</td>\n",
              "      <td>0</td>\n",
              "      <td>1</td>\n",
              "      <td>0</td>\n",
              "    </tr>\n",
              "    <tr>\n",
              "      <th>4</th>\n",
              "      <td>3</td>\n",
              "      <td>2.0</td>\n",
              "      <td>1</td>\n",
              "      <td>0</td>\n",
              "      <td>1</td>\n",
              "      <td>0</td>\n",
              "      <td>0</td>\n",
              "      <td>1</td>\n",
              "      <td>0</td>\n",
              "      <td>0</td>\n",
              "      <td>1</td>\n",
              "      <td>1</td>\n",
              "      <td>0</td>\n",
              "      <td>0</td>\n",
              "      <td>0</td>\n",
              "      <td>0</td>\n",
              "      <td>1</td>\n",
              "      <td>1</td>\n",
              "      <td>0</td>\n",
              "    </tr>\n",
              "  </tbody>\n",
              "</table>\n",
              "</div>"
            ],
            "text/plain": [
              "   Age  number_of_Hivindex  ...  Status_Negative  Status_Positive\n",
              "0    3                 4.0  ...                1                0\n",
              "1    9                 4.0  ...                1                0\n",
              "2    5                 4.0  ...                1                0\n",
              "3   11                 4.0  ...                1                0\n",
              "4    3                 2.0  ...                1                0\n",
              "\n",
              "[5 rows x 19 columns]"
            ]
          },
          "metadata": {},
          "execution_count": 20
        }
      ]
    },
    {
      "cell_type": "markdown",
      "metadata": {
        "id": "rmZPsTysaWtg"
      },
      "source": [
        "Now we'll split data into features (X) and labels (y)."
      ]
    },
    {
      "cell_type": "code",
      "metadata": {
        "id": "tHaPHx-vaYC5"
      },
      "source": [
        "# Create X & y values\n",
        "X = data_one_hot.drop(\"number_of_Hivindex\", axis=1)\n",
        "y = data_one_hot[\"number_of_Hivindex\"]"
      ],
      "execution_count": 21,
      "outputs": []
    },
    {
      "cell_type": "code",
      "metadata": {
        "colab": {
          "base_uri": "https://localhost:8080/",
          "height": 241
        },
        "id": "mNFkNwmTadJS",
        "outputId": "7134f5e6-2bdd-4304-fe67-7917076b7ed8"
      },
      "source": [
        "# View features\n",
        "X.head()"
      ],
      "execution_count": 22,
      "outputs": [
        {
          "output_type": "execute_result",
          "data": {
            "text/html": [
              "<div>\n",
              "<style scoped>\n",
              "    .dataframe tbody tr th:only-of-type {\n",
              "        vertical-align: middle;\n",
              "    }\n",
              "\n",
              "    .dataframe tbody tr th {\n",
              "        vertical-align: top;\n",
              "    }\n",
              "\n",
              "    .dataframe thead th {\n",
              "        text-align: right;\n",
              "    }\n",
              "</style>\n",
              "<table border=\"1\" class=\"dataframe\">\n",
              "  <thead>\n",
              "    <tr style=\"text-align: right;\">\n",
              "      <th></th>\n",
              "      <th>Age</th>\n",
              "      <th>Index_ARTStatus_Already enrolled</th>\n",
              "      <th>Index_ARTStatus_Newly diagnosed</th>\n",
              "      <th>Sex_Index_Female</th>\n",
              "      <th>Sex_Index_Male</th>\n",
              "      <th>Relationship_Index_Any relationship</th>\n",
              "      <th>Relationship_Index_Biological children</th>\n",
              "      <th>Relationship_Index_Sexual partner</th>\n",
              "      <th>FamilyTree_Index_No</th>\n",
              "      <th>FamilyTree_Index_Yes</th>\n",
              "      <th>Site_Index_found_Door-to-Door</th>\n",
              "      <th>Site_Index_found_Fixed site</th>\n",
              "      <th>Site_Index_found_Health Facility</th>\n",
              "      <th>Site_Index_found_Mobile Outreach</th>\n",
              "      <th>Testing_History_First-time tester</th>\n",
              "      <th>Testing_History_Re-test</th>\n",
              "      <th>Status_Negative</th>\n",
              "      <th>Status_Positive</th>\n",
              "    </tr>\n",
              "  </thead>\n",
              "  <tbody>\n",
              "    <tr>\n",
              "      <th>0</th>\n",
              "      <td>3</td>\n",
              "      <td>1</td>\n",
              "      <td>0</td>\n",
              "      <td>1</td>\n",
              "      <td>0</td>\n",
              "      <td>0</td>\n",
              "      <td>1</td>\n",
              "      <td>0</td>\n",
              "      <td>0</td>\n",
              "      <td>1</td>\n",
              "      <td>1</td>\n",
              "      <td>0</td>\n",
              "      <td>0</td>\n",
              "      <td>0</td>\n",
              "      <td>0</td>\n",
              "      <td>1</td>\n",
              "      <td>1</td>\n",
              "      <td>0</td>\n",
              "    </tr>\n",
              "    <tr>\n",
              "      <th>1</th>\n",
              "      <td>9</td>\n",
              "      <td>1</td>\n",
              "      <td>0</td>\n",
              "      <td>0</td>\n",
              "      <td>1</td>\n",
              "      <td>0</td>\n",
              "      <td>1</td>\n",
              "      <td>0</td>\n",
              "      <td>0</td>\n",
              "      <td>1</td>\n",
              "      <td>1</td>\n",
              "      <td>0</td>\n",
              "      <td>0</td>\n",
              "      <td>0</td>\n",
              "      <td>1</td>\n",
              "      <td>0</td>\n",
              "      <td>1</td>\n",
              "      <td>0</td>\n",
              "    </tr>\n",
              "    <tr>\n",
              "      <th>2</th>\n",
              "      <td>5</td>\n",
              "      <td>1</td>\n",
              "      <td>0</td>\n",
              "      <td>0</td>\n",
              "      <td>1</td>\n",
              "      <td>0</td>\n",
              "      <td>1</td>\n",
              "      <td>0</td>\n",
              "      <td>0</td>\n",
              "      <td>1</td>\n",
              "      <td>1</td>\n",
              "      <td>0</td>\n",
              "      <td>0</td>\n",
              "      <td>0</td>\n",
              "      <td>1</td>\n",
              "      <td>0</td>\n",
              "      <td>1</td>\n",
              "      <td>0</td>\n",
              "    </tr>\n",
              "    <tr>\n",
              "      <th>3</th>\n",
              "      <td>11</td>\n",
              "      <td>1</td>\n",
              "      <td>0</td>\n",
              "      <td>1</td>\n",
              "      <td>0</td>\n",
              "      <td>0</td>\n",
              "      <td>1</td>\n",
              "      <td>0</td>\n",
              "      <td>0</td>\n",
              "      <td>1</td>\n",
              "      <td>1</td>\n",
              "      <td>0</td>\n",
              "      <td>0</td>\n",
              "      <td>0</td>\n",
              "      <td>1</td>\n",
              "      <td>0</td>\n",
              "      <td>1</td>\n",
              "      <td>0</td>\n",
              "    </tr>\n",
              "    <tr>\n",
              "      <th>4</th>\n",
              "      <td>3</td>\n",
              "      <td>1</td>\n",
              "      <td>0</td>\n",
              "      <td>1</td>\n",
              "      <td>0</td>\n",
              "      <td>0</td>\n",
              "      <td>1</td>\n",
              "      <td>0</td>\n",
              "      <td>0</td>\n",
              "      <td>1</td>\n",
              "      <td>1</td>\n",
              "      <td>0</td>\n",
              "      <td>0</td>\n",
              "      <td>0</td>\n",
              "      <td>0</td>\n",
              "      <td>1</td>\n",
              "      <td>1</td>\n",
              "      <td>0</td>\n",
              "    </tr>\n",
              "  </tbody>\n",
              "</table>\n",
              "</div>"
            ],
            "text/plain": [
              "   Age  Index_ARTStatus_Already enrolled  ...  Status_Negative  Status_Positive\n",
              "0    3                                 1  ...                1                0\n",
              "1    9                                 1  ...                1                0\n",
              "2    5                                 1  ...                1                0\n",
              "3   11                                 1  ...                1                0\n",
              "4    3                                 1  ...                1                0\n",
              "\n",
              "[5 rows x 18 columns]"
            ]
          },
          "metadata": {},
          "execution_count": 22
        }
      ]
    },
    {
      "cell_type": "markdown",
      "metadata": {
        "id": "qVPbdzepfOWM"
      },
      "source": [
        "Bulding the model"
      ]
    },
    {
      "cell_type": "code",
      "metadata": {
        "id": "0nJfLIVBfRio"
      },
      "source": [
        "# Create training and test sets\n",
        "from sklearn.model_selection import train_test_split\n",
        "X_train, X_test, y_train, y_test = train_test_split(X, \n",
        "                                                    y, \n",
        "                                                    test_size=0.2, \n",
        "                                                    random_state=42) # set random state for reproducible splits"
      ],
      "execution_count": 23,
      "outputs": []
    },
    {
      "cell_type": "code",
      "metadata": {
        "colab": {
          "base_uri": "https://localhost:8080/"
        },
        "id": "-4Z25dRCf4BD",
        "outputId": "d423c070-63c1-402b-9ce2-dc0431603377"
      },
      "source": [
        "# Set random seed\n",
        "tf.random.set_seed(42)\n",
        "\n",
        "# Replicate original model\n",
        "model_1 = tf.keras.Sequential([\n",
        "  tf.keras.layers.Dense(1)\n",
        "])\n",
        "\n",
        "# Compile the model\n",
        "model_1.compile(loss=tf.keras.losses.mae,\n",
        "                optimizer=tf.keras.optimizers.SGD(),\n",
        "                metrics=['mae'])\n",
        "\n",
        "# Fit the model\n",
        "history = model_1.fit(X_train, y_train, epochs=100)"
      ],
      "execution_count": 24,
      "outputs": [
        {
          "output_type": "stream",
          "name": "stdout",
          "text": [
            "Epoch 1/100\n",
            "425/425 [==============================] - 1s 1ms/step - loss: 2.5059 - mae: 2.5059\n",
            "Epoch 2/100\n",
            "425/425 [==============================] - 0s 1ms/step - loss: 2.3732 - mae: 2.3732\n",
            "Epoch 3/100\n",
            "425/425 [==============================] - 0s 1ms/step - loss: 2.3917 - mae: 2.3917\n",
            "Epoch 4/100\n",
            "425/425 [==============================] - 0s 1ms/step - loss: 2.3532 - mae: 2.3532\n",
            "Epoch 5/100\n",
            "425/425 [==============================] - 0s 973us/step - loss: 2.3704 - mae: 2.3704\n",
            "Epoch 6/100\n",
            "425/425 [==============================] - 0s 946us/step - loss: 2.3734 - mae: 2.3734\n",
            "Epoch 7/100\n",
            "425/425 [==============================] - 0s 1ms/step - loss: 2.3797 - mae: 2.3797\n",
            "Epoch 8/100\n",
            "425/425 [==============================] - 0s 1ms/step - loss: 2.3736 - mae: 2.3736\n",
            "Epoch 9/100\n",
            "425/425 [==============================] - 0s 949us/step - loss: 2.3603 - mae: 2.3603\n",
            "Epoch 10/100\n",
            "425/425 [==============================] - 0s 975us/step - loss: 2.3838 - mae: 2.3838\n",
            "Epoch 11/100\n",
            "425/425 [==============================] - 0s 989us/step - loss: 2.3664 - mae: 2.3664\n",
            "Epoch 12/100\n",
            "425/425 [==============================] - 0s 997us/step - loss: 2.3633 - mae: 2.3633\n",
            "Epoch 13/100\n",
            "425/425 [==============================] - 0s 995us/step - loss: 2.3617 - mae: 2.3617\n",
            "Epoch 14/100\n",
            "425/425 [==============================] - 0s 1ms/step - loss: 2.3694 - mae: 2.3694\n",
            "Epoch 15/100\n",
            "425/425 [==============================] - 0s 976us/step - loss: 2.3592 - mae: 2.3592\n",
            "Epoch 16/100\n",
            "425/425 [==============================] - 0s 998us/step - loss: 2.3563 - mae: 2.3563\n",
            "Epoch 17/100\n",
            "425/425 [==============================] - 0s 988us/step - loss: 2.3801 - mae: 2.3801\n",
            "Epoch 18/100\n",
            "425/425 [==============================] - 0s 988us/step - loss: 2.3761 - mae: 2.3761\n",
            "Epoch 19/100\n",
            "425/425 [==============================] - 0s 983us/step - loss: 2.3659 - mae: 2.3659\n",
            "Epoch 20/100\n",
            "425/425 [==============================] - 0s 1ms/step - loss: 2.3424 - mae: 2.3424\n",
            "Epoch 21/100\n",
            "425/425 [==============================] - 0s 978us/step - loss: 2.3582 - mae: 2.3582\n",
            "Epoch 22/100\n",
            "425/425 [==============================] - 0s 945us/step - loss: 2.3603 - mae: 2.3603\n",
            "Epoch 23/100\n",
            "425/425 [==============================] - 0s 985us/step - loss: 2.3621 - mae: 2.3621\n",
            "Epoch 24/100\n",
            "425/425 [==============================] - 0s 954us/step - loss: 2.3676 - mae: 2.3676\n",
            "Epoch 25/100\n",
            "425/425 [==============================] - 0s 998us/step - loss: 2.3655 - mae: 2.3655\n",
            "Epoch 26/100\n",
            "425/425 [==============================] - 0s 958us/step - loss: 2.3620 - mae: 2.3620\n",
            "Epoch 27/100\n",
            "425/425 [==============================] - 0s 947us/step - loss: 2.3665 - mae: 2.3665\n",
            "Epoch 28/100\n",
            "425/425 [==============================] - 0s 941us/step - loss: 2.3653 - mae: 2.3653\n",
            "Epoch 29/100\n",
            "425/425 [==============================] - 0s 992us/step - loss: 2.4068 - mae: 2.4068\n",
            "Epoch 30/100\n",
            "425/425 [==============================] - 0s 987us/step - loss: 2.3681 - mae: 2.3681\n",
            "Epoch 31/100\n",
            "425/425 [==============================] - 0s 1ms/step - loss: 2.3593 - mae: 2.3593\n",
            "Epoch 32/100\n",
            "425/425 [==============================] - 0s 1ms/step - loss: 2.3646 - mae: 2.3646\n",
            "Epoch 33/100\n",
            "425/425 [==============================] - 0s 985us/step - loss: 2.3715 - mae: 2.3715\n",
            "Epoch 34/100\n",
            "425/425 [==============================] - 0s 1ms/step - loss: 2.3635 - mae: 2.3635\n",
            "Epoch 35/100\n",
            "425/425 [==============================] - 0s 986us/step - loss: 2.3584 - mae: 2.3584\n",
            "Epoch 36/100\n",
            "425/425 [==============================] - 0s 1ms/step - loss: 2.3574 - mae: 2.3574\n",
            "Epoch 37/100\n",
            "425/425 [==============================] - 0s 1ms/step - loss: 2.3710 - mae: 2.3710\n",
            "Epoch 38/100\n",
            "425/425 [==============================] - 0s 965us/step - loss: 2.3550 - mae: 2.3550\n",
            "Epoch 39/100\n",
            "425/425 [==============================] - 0s 1ms/step - loss: 2.3553 - mae: 2.3553\n",
            "Epoch 40/100\n",
            "425/425 [==============================] - 0s 1ms/step - loss: 2.3736 - mae: 2.3736\n",
            "Epoch 41/100\n",
            "425/425 [==============================] - 0s 985us/step - loss: 2.3666 - mae: 2.3666\n",
            "Epoch 42/100\n",
            "425/425 [==============================] - 0s 985us/step - loss: 2.3720 - mae: 2.3720\n",
            "Epoch 43/100\n",
            "425/425 [==============================] - 0s 1ms/step - loss: 2.3480 - mae: 2.3480\n",
            "Epoch 44/100\n",
            "425/425 [==============================] - 0s 990us/step - loss: 2.3587 - mae: 2.3587\n",
            "Epoch 45/100\n",
            "425/425 [==============================] - 0s 995us/step - loss: 2.3740 - mae: 2.3740\n",
            "Epoch 46/100\n",
            "425/425 [==============================] - 0s 988us/step - loss: 2.3685 - mae: 2.3685\n",
            "Epoch 47/100\n",
            "425/425 [==============================] - 0s 990us/step - loss: 2.3694 - mae: 2.3694\n",
            "Epoch 48/100\n",
            "425/425 [==============================] - 0s 954us/step - loss: 2.3531 - mae: 2.3531\n",
            "Epoch 49/100\n",
            "425/425 [==============================] - 0s 988us/step - loss: 2.3757 - mae: 2.3757\n",
            "Epoch 50/100\n",
            "425/425 [==============================] - 0s 1ms/step - loss: 2.3445 - mae: 2.3445\n",
            "Epoch 51/100\n",
            "425/425 [==============================] - 0s 973us/step - loss: 2.3700 - mae: 2.3700\n",
            "Epoch 52/100\n",
            "425/425 [==============================] - 0s 964us/step - loss: 2.3520 - mae: 2.3520\n",
            "Epoch 53/100\n",
            "425/425 [==============================] - 0s 1ms/step - loss: 2.3520 - mae: 2.3520\n",
            "Epoch 54/100\n",
            "425/425 [==============================] - 0s 1ms/step - loss: 2.3525 - mae: 2.3525\n",
            "Epoch 55/100\n",
            "425/425 [==============================] - 0s 993us/step - loss: 2.3672 - mae: 2.3672\n",
            "Epoch 56/100\n",
            "425/425 [==============================] - 0s 1ms/step - loss: 2.3689 - mae: 2.3689\n",
            "Epoch 57/100\n",
            "425/425 [==============================] - 0s 1ms/step - loss: 2.3704 - mae: 2.3704\n",
            "Epoch 58/100\n",
            "425/425 [==============================] - 0s 996us/step - loss: 2.3738 - mae: 2.3738\n",
            "Epoch 59/100\n",
            "425/425 [==============================] - 0s 980us/step - loss: 2.3523 - mae: 2.3523\n",
            "Epoch 60/100\n",
            "425/425 [==============================] - 0s 958us/step - loss: 2.3578 - mae: 2.3578\n",
            "Epoch 61/100\n",
            "425/425 [==============================] - 0s 925us/step - loss: 2.3499 - mae: 2.3499\n",
            "Epoch 62/100\n",
            "425/425 [==============================] - 0s 1ms/step - loss: 2.3726 - mae: 2.3726\n",
            "Epoch 63/100\n",
            "425/425 [==============================] - 0s 1ms/step - loss: 2.3413 - mae: 2.3413\n",
            "Epoch 64/100\n",
            "425/425 [==============================] - 0s 983us/step - loss: 2.3625 - mae: 2.3625\n",
            "Epoch 65/100\n",
            "425/425 [==============================] - 0s 1ms/step - loss: 2.3906 - mae: 2.3906\n",
            "Epoch 66/100\n",
            "425/425 [==============================] - 0s 1ms/step - loss: 2.3521 - mae: 2.3521\n",
            "Epoch 67/100\n",
            "425/425 [==============================] - 0s 1ms/step - loss: 2.3650 - mae: 2.3650\n",
            "Epoch 68/100\n",
            "425/425 [==============================] - 0s 997us/step - loss: 2.3688 - mae: 2.3688\n",
            "Epoch 69/100\n",
            "425/425 [==============================] - 0s 1ms/step - loss: 2.3566 - mae: 2.3566\n",
            "Epoch 70/100\n",
            "425/425 [==============================] - 0s 978us/step - loss: 2.4040 - mae: 2.4040\n",
            "Epoch 71/100\n",
            "425/425 [==============================] - 0s 980us/step - loss: 2.3673 - mae: 2.3673\n",
            "Epoch 72/100\n",
            "425/425 [==============================] - 0s 963us/step - loss: 2.3603 - mae: 2.3603\n",
            "Epoch 73/100\n",
            "425/425 [==============================] - 0s 1ms/step - loss: 2.3858 - mae: 2.3858\n",
            "Epoch 74/100\n",
            "425/425 [==============================] - 0s 968us/step - loss: 2.3864 - mae: 2.3864\n",
            "Epoch 75/100\n",
            "425/425 [==============================] - 0s 969us/step - loss: 2.3568 - mae: 2.3568\n",
            "Epoch 76/100\n",
            "425/425 [==============================] - 0s 1ms/step - loss: 2.3629 - mae: 2.3629\n",
            "Epoch 77/100\n",
            "425/425 [==============================] - 0s 986us/step - loss: 2.3681 - mae: 2.3681\n",
            "Epoch 78/100\n",
            "425/425 [==============================] - 0s 982us/step - loss: 2.3539 - mae: 2.3539\n",
            "Epoch 79/100\n",
            "425/425 [==============================] - 0s 994us/step - loss: 2.3537 - mae: 2.3537\n",
            "Epoch 80/100\n",
            "425/425 [==============================] - 0s 948us/step - loss: 2.3613 - mae: 2.3613\n",
            "Epoch 81/100\n",
            "425/425 [==============================] - 0s 996us/step - loss: 2.3648 - mae: 2.3648\n",
            "Epoch 82/100\n",
            "425/425 [==============================] - 0s 1ms/step - loss: 2.3648 - mae: 2.3648\n",
            "Epoch 83/100\n",
            "425/425 [==============================] - 0s 999us/step - loss: 2.3722 - mae: 2.3722\n",
            "Epoch 84/100\n",
            "425/425 [==============================] - 0s 948us/step - loss: 2.3488 - mae: 2.3488\n",
            "Epoch 85/100\n",
            "425/425 [==============================] - 0s 1ms/step - loss: 2.3586 - mae: 2.3586\n",
            "Epoch 86/100\n",
            "425/425 [==============================] - 0s 1ms/step - loss: 2.3490 - mae: 2.3490\n",
            "Epoch 87/100\n",
            "425/425 [==============================] - 0s 1ms/step - loss: 2.3506 - mae: 2.3506\n",
            "Epoch 88/100\n",
            "425/425 [==============================] - 0s 1ms/step - loss: 2.3907 - mae: 2.3907\n",
            "Epoch 89/100\n",
            "425/425 [==============================] - 0s 1ms/step - loss: 2.3675 - mae: 2.3675\n",
            "Epoch 90/100\n",
            "425/425 [==============================] - 0s 1ms/step - loss: 2.3748 - mae: 2.3748\n",
            "Epoch 91/100\n",
            "425/425 [==============================] - 0s 940us/step - loss: 2.3910 - mae: 2.3910\n",
            "Epoch 92/100\n",
            "425/425 [==============================] - 0s 1ms/step - loss: 2.3873 - mae: 2.3873\n",
            "Epoch 93/100\n",
            "425/425 [==============================] - 0s 973us/step - loss: 2.3538 - mae: 2.3538\n",
            "Epoch 94/100\n",
            "425/425 [==============================] - 0s 999us/step - loss: 2.3627 - mae: 2.3627\n",
            "Epoch 95/100\n",
            "425/425 [==============================] - 0s 1ms/step - loss: 2.3577 - mae: 2.3577\n",
            "Epoch 96/100\n",
            "425/425 [==============================] - 0s 973us/step - loss: 2.3840 - mae: 2.3840\n",
            "Epoch 97/100\n",
            "425/425 [==============================] - 0s 1ms/step - loss: 2.3564 - mae: 2.3564\n",
            "Epoch 98/100\n",
            "425/425 [==============================] - 0s 958us/step - loss: 2.3774 - mae: 2.3774\n",
            "Epoch 99/100\n",
            "425/425 [==============================] - 0s 966us/step - loss: 2.3624 - mae: 2.3624\n",
            "Epoch 100/100\n",
            "425/425 [==============================] - 0s 999us/step - loss: 2.3627 - mae: 2.3627\n"
          ]
        }
      ]
    },
    {
      "cell_type": "code",
      "metadata": {
        "id": "Pyz4DXEf_KMG"
      },
      "source": [
        "#y_preds_1 = model_1.predict(X_test)\n",
        "\n",
        "#y_preds_1"
      ],
      "execution_count": 40,
      "outputs": []
    },
    {
      "cell_type": "markdown",
      "metadata": {
        "id": "gs0liQGkiua8"
      },
      "source": [
        "Evaluate our model"
      ]
    },
    {
      "cell_type": "code",
      "metadata": {
        "colab": {
          "base_uri": "https://localhost:8080/"
        },
        "id": "zQ6mryQwhcFg",
        "outputId": "69bc654e-e54c-4ddd-f195-4fd200714983"
      },
      "source": [
        "# Check the results of the  model\n",
        "model_1_loss, model_1_mae = model_1.evaluate(X_test, y_test)"
      ],
      "execution_count": 26,
      "outputs": [
        {
          "output_type": "stream",
          "name": "stdout",
          "text": [
            "107/107 [==============================] - 0s 939us/step - loss: 2.2119 - mae: 2.2119\n"
          ]
        }
      ]
    },
    {
      "cell_type": "code",
      "metadata": {
        "id": "vdZ84gwhSlrg"
      },
      "source": [
        ""
      ],
      "execution_count": null,
      "outputs": []
    },
    {
      "cell_type": "code",
      "metadata": {
        "colab": {
          "base_uri": "https://localhost:8080/",
          "height": 304
        },
        "id": "6PyNW4cmqjpt",
        "outputId": "2aa5c2ce-8f79-492a-a618-4bd6e29e41e7"
      },
      "source": [
        "# Plot history (also known as a loss curve)\n",
        "pd.DataFrame(history.history).plot()\n",
        "plt.ylabel(\"loss\")\n",
        "plt.xlabel(\"epochs\");"
      ],
      "execution_count": 27,
      "outputs": [
        {
          "output_type": "display_data",
          "data": {
            "image/png": "[encoded data removed]",
            "text/plain": [
              "<Figure size 432x288 with 1 Axes>"
            ]
          },
          "metadata": {}
        }
      ]
    },
    {
      "cell_type": "code",
      "metadata": {
        "id": "U33w_IHcsCVe"
      },
      "source": [
        ""
      ],
      "execution_count": null,
      "outputs": []
    },
    {
      "cell_type": "markdown",
      "metadata": {
        "id": "5c41y3HzgzPA"
      },
      "source": [
        "Test again with another model"
      ]
    },
    {
      "cell_type": "code",
      "metadata": {
        "id": "uw2_Rdp9guGW"
      },
      "source": [
        "# Set random seed\n",
        "tf.random.set_seed(42)\n",
        "\n",
        "# Replicate model_1 and add an extra layer\n",
        "model_2 = tf.keras.Sequential([\n",
        "  tf.keras.layers.Dense(1),\n",
        "  tf.keras.layers.Dense(1) # add a second layer\n",
        "])\n",
        "\n",
        "# Compile the model\n",
        "model_2.compile(loss=tf.keras.losses.mae,\n",
        "                optimizer=tf.keras.optimizers.SGD(),\n",
        "                metrics=['mae'])\n",
        "\n",
        "# Fit the model\n",
        "history = model_2.fit(X_train, y_train, epochs=100, verbose=0) # set verbose to 0 for less output\n"
      ],
      "execution_count": 28,
      "outputs": []
    },
    {
      "cell_type": "markdown",
      "metadata": {
        "id": "rgtUKbZX-q8h"
      },
      "source": [
        "prediction for model 2"
      ]
    },
    {
      "cell_type": "code",
      "metadata": {
        "colab": {
          "base_uri": "https://localhost:8080/"
        },
        "id": "Pf5E-1tV-wBv",
        "outputId": "c550d307-f483-43db-8db8-21d25a36125a"
      },
      "source": [
        "y_preds_2 = model_2.predict(X_test)\n",
        "y_preds_2"
      ],
      "execution_count": 29,
      "outputs": [
        {
          "output_type": "execute_result",
          "data": {
            "text/plain": [
              "array([[1.9937788],\n",
              "       [2.0187223],\n",
              "       [1.9979495],\n",
              "       ...,\n",
              "       [1.9945916],\n",
              "       [1.9954906],\n",
              "       [2.011481 ]], dtype=float32)"
            ]
          },
          "metadata": {},
          "execution_count": 29
        }
      ]
    },
    {
      "cell_type": "code",
      "metadata": {
        "colab": {
          "base_uri": "https://localhost:8080/"
        },
        "id": "GW22f42cjFCZ",
        "outputId": "13815513-0ee5-45de-98e2-5ea807015939"
      },
      "source": [
        "# Check the results of the  model_2\n",
        "model_2_loss, model_2_mae = model_2.evaluate(X_test, y_test)"
      ],
      "execution_count": 30,
      "outputs": [
        {
          "output_type": "stream",
          "name": "stdout",
          "text": [
            "107/107 [==============================] - 0s 888us/step - loss: 2.1820 - mae: 2.1820\n"
          ]
        }
      ]
    },
    {
      "cell_type": "code",
      "metadata": {
        "colab": {
          "base_uri": "https://localhost:8080/",
          "height": 304
        },
        "id": "0GLjn9QYnw7z",
        "outputId": "a058ebf7-b314-4322-f450-8e2fdfff696d"
      },
      "source": [
        "# Plot history (also known as a loss curve)\n",
        "pd.DataFrame(history.history).plot()\n",
        "plt.ylabel(\"loss\")\n",
        "plt.xlabel(\"epochs\");"
      ],
      "execution_count": 31,
      "outputs": [
        {
          "output_type": "display_data",
          "data": {
            "image/png": "[encoded data removed]",
            "text/plain": [
              "<Figure size 432x288 with 1 Axes>"
            ]
          },
          "metadata": {}
        }
      ]
    },
    {
      "cell_type": "code",
      "metadata": {
        "id": "GBGN6M2unOsg"
      },
      "source": [
        "# Set random seed\n",
        "tf.random.set_seed(42)\n",
        "\n",
        "# Add an extra layer and increase number of units\n",
        "model_3 = tf.keras.Sequential([\n",
        "  tf.keras.layers.Dense(100), # 100 units\n",
        "  tf.keras.layers.Dense(10), # 10 units\n",
        "  tf.keras.layers.Dense(1) # 1 unit (important for output layer)\n",
        "])\n",
        "\n",
        "# Compile the model\n",
        "model_3.compile(loss=tf.keras.losses.mae,\n",
        "                          optimizer=tf.keras.optimizers.Adam(), # Adam works but SGD doesn't \n",
        "                          metrics=['mae'])\n",
        "\n",
        "# Fit the model and save the history (we can plot this)\n",
        "history = model_3.fit(X_train, y_train, epochs=100, verbose=0)"
      ],
      "execution_count": 32,
      "outputs": []
    },
    {
      "cell_type": "code",
      "metadata": {
        "id": "7nlEtR-aJpjZ"
      },
      "source": [
        "#y_preds_3 = model_3.predict(X_test)\n",
        "#y_preds_3"
      ],
      "execution_count": 33,
      "outputs": []
    },
    {
      "cell_type": "code",
      "metadata": {
        "colab": {
          "base_uri": "https://localhost:8080/"
        },
        "id": "6GBIaXzTny5X",
        "outputId": "b1085aa0-149e-48ff-f9bd-a573e2d8fa05"
      },
      "source": [
        "# Check the results of the insurance model\n",
        "model_3_loss, model_3_mae = model_3.evaluate(X_test, y_test)"
      ],
      "execution_count": 34,
      "outputs": [
        {
          "output_type": "stream",
          "name": "stdout",
          "text": [
            "107/107 [==============================] - 0s 1ms/step - loss: 2.1852 - mae: 2.1852\n"
          ]
        }
      ]
    },
    {
      "cell_type": "code",
      "metadata": {
        "id": "cPSvfLFHphyl"
      },
      "source": [
        ""
      ],
      "execution_count": 117,
      "outputs": []
    },
    {
      "cell_type": "code",
      "metadata": {
        "colab": {
          "base_uri": "https://localhost:8080/",
          "height": 304
        },
        "id": "cT-yZ4Dvph0Q",
        "outputId": "11437193-1451-4d8b-80a4-edf2e40b4807"
      },
      "source": [
        "# Plot history (also known as a loss curve)\n",
        "pd.DataFrame(history.history).plot()\n",
        "plt.ylabel(\"loss\")\n",
        "plt.xlabel(\"epochs\");"
      ],
      "execution_count": 35,
      "outputs": [
        {
          "output_type": "display_data",
          "data": {
            "image/png": "[encoded data removed]",
            "text/plain": [
              "<Figure size 432x288 with 1 Axes>"
            ]
          },
          "metadata": {}
        }
      ]
    },
    {
      "cell_type": "code",
      "metadata": {
        "id": "9cPaOQqMOja8"
      },
      "source": [
        ""
      ],
      "execution_count": null,
      "outputs": []
    },
    {
      "cell_type": "markdown",
      "metadata": {
        "id": "LcoHIJ8NOkXt"
      },
      "source": [
        "Comparing result"
      ]
    },
    {
      "cell_type": "code",
      "metadata": {
        "id": "n3GpcPrUOl4u"
      },
      "source": [
        "model_results = [[\"model_1\", model_1_loss, model_1_mae],\n",
        "                 [\"model_2\", model_2_loss, model_2_mae],\n",
        "                 [\"model_3\", model_3_loss, model_3_mae]]"
      ],
      "execution_count": 36,
      "outputs": []
    },
    {
      "cell_type": "code",
      "metadata": {
        "colab": {
          "base_uri": "https://localhost:8080/",
          "height": 142
        },
        "id": "_mLKwfiZVYK0",
        "outputId": "1aca2ce2-ce4c-47c9-eb99-064e261b30dd"
      },
      "source": [
        "import pandas as pd\n",
        "all_results = pd.DataFrame(model_results, columns=[\"model\", \"loss\", \"mae\"])\n",
        "all_results"
      ],
      "execution_count": 37,
      "outputs": [
        {
          "output_type": "execute_result",
          "data": {
            "text/html": [
              "<div>\n",
              "<style scoped>\n",
              "    .dataframe tbody tr th:only-of-type {\n",
              "        vertical-align: middle;\n",
              "    }\n",
              "\n",
              "    .dataframe tbody tr th {\n",
              "        vertical-align: top;\n",
              "    }\n",
              "\n",
              "    .dataframe thead th {\n",
              "        text-align: right;\n",
              "    }\n",
              "</style>\n",
              "<table border=\"1\" class=\"dataframe\">\n",
              "  <thead>\n",
              "    <tr style=\"text-align: right;\">\n",
              "      <th></th>\n",
              "      <th>model</th>\n",
              "      <th>loss</th>\n",
              "      <th>mae</th>\n",
              "    </tr>\n",
              "  </thead>\n",
              "  <tbody>\n",
              "    <tr>\n",
              "      <th>0</th>\n",
              "      <td>model_1</td>\n",
              "      <td>2.211857</td>\n",
              "      <td>2.211857</td>\n",
              "    </tr>\n",
              "    <tr>\n",
              "      <th>1</th>\n",
              "      <td>model_2</td>\n",
              "      <td>2.182008</td>\n",
              "      <td>2.182008</td>\n",
              "    </tr>\n",
              "    <tr>\n",
              "      <th>2</th>\n",
              "      <td>model_3</td>\n",
              "      <td>2.185189</td>\n",
              "      <td>2.185189</td>\n",
              "    </tr>\n",
              "  </tbody>\n",
              "</table>\n",
              "</div>"
            ],
            "text/plain": [
              "     model      loss       mae\n",
              "0  model_1  2.211857  2.211857\n",
              "1  model_2  2.182008  2.182008\n",
              "2  model_3  2.185189  2.185189"
            ]
          },
          "metadata": {},
          "execution_count": 37
        }
      ]
    },
    {
      "cell_type": "markdown",
      "metadata": {
        "id": "Z8-dy0qGVlL4"
      },
      "source": [
        "Model _2 is the most compare to the other two, I has lower lavue of the metric and its graph is curve .It just has like a stable value."
      ]
    },
    {
      "cell_type": "markdown",
      "metadata": {
        "id": "RYQRRRYoOncR"
      },
      "source": [
        "Using the best model lets do the prediction"
      ]
    },
    {
      "cell_type": "code",
      "metadata": {
        "id": "LY-ZlqxPOna9"
      },
      "source": [
        "#y_preds_3 = model_3.predict(X_test)\n",
        "#y_preds_3"
      ],
      "execution_count": 39,
      "outputs": []
    },
    {
      "cell_type": "markdown",
      "metadata": {
        "id": "6-XlbP4tcAnP"
      },
      "source": [
        "Using model_2, to make prediction of our model"
      ]
    },
    {
      "cell_type": "code",
      "metadata": {
        "colab": {
          "base_uri": "https://localhost:8080/"
        },
        "id": "ykrMKCOFdylD",
        "outputId": "231403d7-5e97-4275-9540-a43f70337a10"
      },
      "source": [
        "predictions = model_2.predict(X_test)\n",
        "predictions"
      ],
      "execution_count": 43,
      "outputs": [
        {
          "output_type": "execute_result",
          "data": {
            "text/plain": [
              "array([[1.9937788],\n",
              "       [2.0187223],\n",
              "       [1.9979495],\n",
              "       ...,\n",
              "       [1.9945916],\n",
              "       [1.9954906],\n",
              "       [2.011481 ]], dtype=float32)"
            ]
          },
          "metadata": {},
          "execution_count": 43
        }
      ]
    },
    {
      "cell_type": "markdown",
      "metadata": {
        "id": "T1ZK069Mczjo"
      },
      "source": [
        " model Validation."
      ]
    },
    {
      "cell_type": "code",
      "metadata": {
        "id": "8WXsRlA-d4oi"
      },
      "source": [
        ""
      ],
      "execution_count": 46,
      "outputs": []
    },
    {
      "cell_type": "code",
      "metadata": {
        "id": "dGFiSaf-hQvo"
      },
      "source": [
        ""
      ],
      "execution_count": null,
      "outputs": []
    },
    {
      "cell_type": "code",
      "metadata": {
        "id": "695QdSpGeGOV"
      },
      "source": [
        ""
      ],
      "execution_count": null,
      "outputs": []
    }
  ]
}