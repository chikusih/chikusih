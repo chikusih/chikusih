{
  "nbformat": 4,
  "nbformat_minor": 0,
  "metadata": {
    "colab": {
      "name": "New_Hiv_Index.ipynb",
      "provenance": [],
      "authorship_tag": "ABX9TyM02ZqGojILQwi/YKziy8p4",
      "include_colab_link": true
    },
    "kernelspec": {
      "name": "python3",
      "display_name": "Python 3"
    },
    "language_info": {
      "name": "python"
    }
  },
  "cells": [
    {
      "cell_type": "markdown",
      "metadata": {
        "id": "view-in-github",
        "colab_type": "text"
      },
      "source": [
        "<a href=\"https://colab.research.google.com/github/chikusih/chikusih/blob/main/New_Hiv_Index.ipynb\" target=\"_parent\"><img src=\"https://colab.research.google.com/assets/colab-badge.svg\" alt=\"Open In Colab\"/></a>"
      ]
    },
    {
      "cell_type": "markdown",
      "metadata": {
        "id": "kqXdbfnwvtG4"
      },
      "source": [
        "Importing the require libraries"
      ]
    },
    {
      "cell_type": "code",
      "metadata": {
        "id": "oM3pVKLPTn_1"
      },
      "source": [
        "import tensorflow as tf\n",
        "import pandas as pd\n",
        "import matplotlib.pyplot as plt\n",
        "import numpy as np \n",
        "import seaborn as sns\n",
        "from tensorflow import feature_column\n",
        "import itertools\n",
        "plt.style.use('fivethirtyeight')"
      ],
      "execution_count": 2,
      "outputs": []
    },
    {
      "cell_type": "code",
      "metadata": {
        "colab": {
          "resources": {
            "http://localhost:8080/nbextensions/google.colab/files.js": {
              "data": "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",
              "ok": true,
              "headers": [
                [
                  "content-type",
                  "application/javascript"
                ]
              ],
              "status": 200,
              "status_text": ""
            }
          },
          "base_uri": "https://localhost:8080/",
          "height": 73
        },
        "id": "Ew-ZYMlaMwc0",
        "outputId": "e31581e8-21ae-4082-d326-69aa07b000f5"
      },
      "source": [
        "# Get SCV FILE\n",
        "# Get SCV FILE\n",
        "from google.colab import files\n",
        "uploaded = files.upload()"
      ],
      "execution_count": 3,
      "outputs": [
        {
          "output_type": "display_data",
          "data": {
            "text/html": [
              "\n",
              "     <input type=\"file\" id=\"files-e1746cd5-9001-47e8-9e85-d255b1f6dc17\" name=\"files[]\" multiple disabled\n",
              "        style=\"border:none\" />\n",
              "     <output id=\"result-e1746cd5-9001-47e8-9e85-d255b1f6dc17\">\n",
              "      Upload widget is only available when the cell has been executed in the\n",
              "      current browser session. Please rerun this cell to enable.\n",
              "      </output>\n",
              "      <script src=\"/nbextensions/google.colab/files.js\"></script> "
            ],
            "text/plain": [
              "<IPython.core.display.HTML object>"
            ]
          },
          "metadata": {}
        },
        {
          "output_type": "stream",
          "name": "stdout",
          "text": [
            "Saving index_contacts_new.csv to index_contacts_new.csv\n"
          ]
        }
      ]
    },
    {
      "cell_type": "markdown",
      "metadata": {
        "id": "BBriSxsLv8QP"
      },
      "source": [
        "# Get SCV FILE\n",
        "from google.colab import files\n",
        "uploaded = files.upload()"
      ]
    },
    {
      "cell_type": "markdown",
      "metadata": {
        "id": "UYBv_7PCvpLY"
      },
      "source": [
        ""
      ]
    },
    {
      "cell_type": "code",
      "metadata": {
        "colab": {
          "base_uri": "https://localhost:8080/",
          "height": 617
        },
        "id": "BkHG4hPmwSEa",
        "outputId": "cb4ef6b1-bf8e-4003-bc2e-df8f6cc125e6"
      },
      "source": [
        "import io\n",
        "Index_data = pd.read_csv(io.BytesIO(uploaded['index_contacts_new.csv']))\n",
        "# Dataset is now stored in a Pandas Dataframe\n",
        "Index_data"
      ],
      "execution_count": 4,
      "outputs": [
        {
          "output_type": "execute_result",
          "data": {
            "text/html": [
              "<div>\n",
              "<style scoped>\n",
              "    .dataframe tbody tr th:only-of-type {\n",
              "        vertical-align: middle;\n",
              "    }\n",
              "\n",
              "    .dataframe tbody tr th {\n",
              "        vertical-align: top;\n",
              "    }\n",
              "\n",
              "    .dataframe thead th {\n",
              "        text-align: right;\n",
              "    }\n",
              "</style>\n",
              "<table border=\"1\" class=\"dataframe\">\n",
              "  <thead>\n",
              "    <tr style=\"text-align: right;\">\n",
              "      <th></th>\n",
              "      <th>client_id</th>\n",
              "      <th>Hiv_Index_Contact_Registration</th>\n",
              "      <th>Date</th>\n",
              "      <th>Site</th>\n",
              "      <th>Region</th>\n",
              "      <th>Sex_of_Index</th>\n",
              "      <th>Age_of_client_index</th>\n",
              "      <th>Type_ of_ relationship</th>\n",
              "      <th>Hiv_status</th>\n",
              "    </tr>\n",
              "  </thead>\n",
              "  <tbody>\n",
              "    <tr>\n",
              "      <th>0</th>\n",
              "      <td>468</td>\n",
              "      <td>Hiv Index Contact Registration</td>\n",
              "      <td>9/16/2020 3:00</td>\n",
              "      <td>levolosihcw</td>\n",
              "      <td>Arusha</td>\n",
              "      <td>Female</td>\n",
              "      <td>45</td>\n",
              "      <td>sexual_partner</td>\n",
              "      <td>unknown</td>\n",
              "    </tr>\n",
              "    <tr>\n",
              "      <th>1</th>\n",
              "      <td>469</td>\n",
              "      <td>Hiv Index Contact Registration</td>\n",
              "      <td>9/16/2020 3:00</td>\n",
              "      <td>levolosihcw</td>\n",
              "      <td>Arusha</td>\n",
              "      <td>Female</td>\n",
              "      <td>39</td>\n",
              "      <td>sexual_partner</td>\n",
              "      <td>unknown</td>\n",
              "    </tr>\n",
              "    <tr>\n",
              "      <th>2</th>\n",
              "      <td>469</td>\n",
              "      <td>Hiv Index Contact Registration</td>\n",
              "      <td>9/16/2020 3:00</td>\n",
              "      <td>levolosihcw</td>\n",
              "      <td>Arusha</td>\n",
              "      <td>Female</td>\n",
              "      <td>57</td>\n",
              "      <td>sexual_partner</td>\n",
              "      <td>unknown</td>\n",
              "    </tr>\n",
              "    <tr>\n",
              "      <th>3</th>\n",
              "      <td>469</td>\n",
              "      <td>Hiv Index Contact Registration</td>\n",
              "      <td>9/16/2020 3:00</td>\n",
              "      <td>levolosihcw</td>\n",
              "      <td>Arusha</td>\n",
              "      <td>Female</td>\n",
              "      <td>15</td>\n",
              "      <td>biological_child_under_15</td>\n",
              "      <td>unknown</td>\n",
              "    </tr>\n",
              "    <tr>\n",
              "      <th>4</th>\n",
              "      <td>469</td>\n",
              "      <td>Hiv Index Contact Registration</td>\n",
              "      <td>9/16/2020 3:00</td>\n",
              "      <td>levolosihcw</td>\n",
              "      <td>Arusha</td>\n",
              "      <td>Female</td>\n",
              "      <td>60</td>\n",
              "      <td>sexual_partner</td>\n",
              "      <td>unknown</td>\n",
              "    </tr>\n",
              "    <tr>\n",
              "      <th>...</th>\n",
              "      <td>...</td>\n",
              "      <td>...</td>\n",
              "      <td>...</td>\n",
              "      <td>...</td>\n",
              "      <td>...</td>\n",
              "      <td>...</td>\n",
              "      <td>...</td>\n",
              "      <td>...</td>\n",
              "      <td>...</td>\n",
              "    </tr>\n",
              "    <tr>\n",
              "      <th>7223</th>\n",
              "      <td>4504</td>\n",
              "      <td>Hiv Index Contact Registration</td>\n",
              "      <td>9/16/2020 3:00</td>\n",
              "      <td>maguguhcw</td>\n",
              "      <td>Manyara</td>\n",
              "      <td>Female</td>\n",
              "      <td>25</td>\n",
              "      <td>sexual_partner</td>\n",
              "      <td>unknown</td>\n",
              "    </tr>\n",
              "    <tr>\n",
              "      <th>7224</th>\n",
              "      <td>4505</td>\n",
              "      <td>Hiv Index Contact Registration</td>\n",
              "      <td>9/16/2020 3:00</td>\n",
              "      <td>maguguhcw</td>\n",
              "      <td>Manyara</td>\n",
              "      <td>Female</td>\n",
              "      <td>36</td>\n",
              "      <td>sexual_partner</td>\n",
              "      <td>unknown</td>\n",
              "    </tr>\n",
              "    <tr>\n",
              "      <th>7225</th>\n",
              "      <td>4505</td>\n",
              "      <td>Hiv Index Contact Registration</td>\n",
              "      <td>9/16/2020 3:00</td>\n",
              "      <td>maguguhcw</td>\n",
              "      <td>Manyara</td>\n",
              "      <td>Male</td>\n",
              "      <td>43</td>\n",
              "      <td>sexual_partner</td>\n",
              "      <td>unknown</td>\n",
              "    </tr>\n",
              "    <tr>\n",
              "      <th>7226</th>\n",
              "      <td>4498</td>\n",
              "      <td>Hiv Index Contact Registration</td>\n",
              "      <td>9/16/2020 3:00</td>\n",
              "      <td>maguguhcw</td>\n",
              "      <td>Manyara</td>\n",
              "      <td>Female</td>\n",
              "      <td>61</td>\n",
              "      <td>sexual_partner</td>\n",
              "      <td>unknown</td>\n",
              "    </tr>\n",
              "    <tr>\n",
              "      <th>7227</th>\n",
              "      <td>4498</td>\n",
              "      <td>Hiv Index Contact Registration</td>\n",
              "      <td>9/16/2020 3:00</td>\n",
              "      <td>maguguhcw</td>\n",
              "      <td>Manyara</td>\n",
              "      <td>Female</td>\n",
              "      <td>50</td>\n",
              "      <td>sexual_partner</td>\n",
              "      <td>unknown</td>\n",
              "    </tr>\n",
              "  </tbody>\n",
              "</table>\n",
              "<p>7228 rows × 9 columns</p>\n",
              "</div>"
            ],
            "text/plain": [
              "      client_id  ... Hiv_status\n",
              "0           468  ...    unknown\n",
              "1           469  ...    unknown\n",
              "2           469  ...    unknown\n",
              "3           469  ...    unknown\n",
              "4           469  ...    unknown\n",
              "...         ...  ...        ...\n",
              "7223       4504  ...    unknown\n",
              "7224       4505  ...    unknown\n",
              "7225       4505  ...    unknown\n",
              "7226       4498  ...    unknown\n",
              "7227       4498  ...    unknown\n",
              "\n",
              "[7228 rows x 9 columns]"
            ]
          },
          "metadata": {},
          "execution_count": 4
        }
      ]
    },
    {
      "cell_type": "code",
      "metadata": {
        "id": "jSY0qNqTw5EV"
      },
      "source": [
        "#Adding the target colunm\n",
        "client_id_dict = {} \n",
        "for client_id in Index_data[\"client_id\"]:\n",
        "    if not client_id in client_id_dict:\n",
        "        client_id_dict[client_id] = 1\n",
        "    else:\n",
        "        client_id_dict[client_id] += 1\n",
        "        client_id_dict"
      ],
      "execution_count": 5,
      "outputs": []
    },
    {
      "cell_type": "code",
      "metadata": {
        "id": "nPPz6uPSyDUz"
      },
      "source": [
        "for i in range(len(Index_data)):\n",
        "    client_id = Index_data.loc[i][\"client_id\"]\n",
        "    Index_data.at[i,\"number_of_Hivindex\"] = client_id_dict[client_id]\n",
        "    "
      ],
      "execution_count": 6,
      "outputs": []
    },
    {
      "cell_type": "code",
      "metadata": {
        "id": "jkcl2Cfv4PIX"
      },
      "source": [
        ""
      ],
      "execution_count": null,
      "outputs": []
    },
    {
      "cell_type": "code",
      "metadata": {
        "colab": {
          "base_uri": "https://localhost:8080/",
          "height": 617
        },
        "id": "6w-NGEY4zTWT",
        "outputId": "46620e85-647b-4fd0-9326-20a2d1e9ae64"
      },
      "source": [
        "Index_data"
      ],
      "execution_count": 7,
      "outputs": [
        {
          "output_type": "execute_result",
          "data": {
            "text/html": [
              "<div>\n",
              "<style scoped>\n",
              "    .dataframe tbody tr th:only-of-type {\n",
              "        vertical-align: middle;\n",
              "    }\n",
              "\n",
              "    .dataframe tbody tr th {\n",
              "        vertical-align: top;\n",
              "    }\n",
              "\n",
              "    .dataframe thead th {\n",
              "        text-align: right;\n",
              "    }\n",
              "</style>\n",
              "<table border=\"1\" class=\"dataframe\">\n",
              "  <thead>\n",
              "    <tr style=\"text-align: right;\">\n",
              "      <th></th>\n",
              "      <th>client_id</th>\n",
              "      <th>Hiv_Index_Contact_Registration</th>\n",
              "      <th>Date</th>\n",
              "      <th>Site</th>\n",
              "      <th>Region</th>\n",
              "      <th>Sex_of_Index</th>\n",
              "      <th>Age_of_client_index</th>\n",
              "      <th>Type_ of_ relationship</th>\n",
              "      <th>Hiv_status</th>\n",
              "      <th>number_of_Hivindex</th>\n",
              "    </tr>\n",
              "  </thead>\n",
              "  <tbody>\n",
              "    <tr>\n",
              "      <th>0</th>\n",
              "      <td>468</td>\n",
              "      <td>Hiv Index Contact Registration</td>\n",
              "      <td>9/16/2020 3:00</td>\n",
              "      <td>levolosihcw</td>\n",
              "      <td>Arusha</td>\n",
              "      <td>Female</td>\n",
              "      <td>45</td>\n",
              "      <td>sexual_partner</td>\n",
              "      <td>unknown</td>\n",
              "      <td>1.0</td>\n",
              "    </tr>\n",
              "    <tr>\n",
              "      <th>1</th>\n",
              "      <td>469</td>\n",
              "      <td>Hiv Index Contact Registration</td>\n",
              "      <td>9/16/2020 3:00</td>\n",
              "      <td>levolosihcw</td>\n",
              "      <td>Arusha</td>\n",
              "      <td>Female</td>\n",
              "      <td>39</td>\n",
              "      <td>sexual_partner</td>\n",
              "      <td>unknown</td>\n",
              "      <td>4.0</td>\n",
              "    </tr>\n",
              "    <tr>\n",
              "      <th>2</th>\n",
              "      <td>469</td>\n",
              "      <td>Hiv Index Contact Registration</td>\n",
              "      <td>9/16/2020 3:00</td>\n",
              "      <td>levolosihcw</td>\n",
              "      <td>Arusha</td>\n",
              "      <td>Female</td>\n",
              "      <td>57</td>\n",
              "      <td>sexual_partner</td>\n",
              "      <td>unknown</td>\n",
              "      <td>4.0</td>\n",
              "    </tr>\n",
              "    <tr>\n",
              "      <th>3</th>\n",
              "      <td>469</td>\n",
              "      <td>Hiv Index Contact Registration</td>\n",
              "      <td>9/16/2020 3:00</td>\n",
              "      <td>levolosihcw</td>\n",
              "      <td>Arusha</td>\n",
              "      <td>Female</td>\n",
              "      <td>15</td>\n",
              "      <td>biological_child_under_15</td>\n",
              "      <td>unknown</td>\n",
              "      <td>4.0</td>\n",
              "    </tr>\n",
              "    <tr>\n",
              "      <th>4</th>\n",
              "      <td>469</td>\n",
              "      <td>Hiv Index Contact Registration</td>\n",
              "      <td>9/16/2020 3:00</td>\n",
              "      <td>levolosihcw</td>\n",
              "      <td>Arusha</td>\n",
              "      <td>Female</td>\n",
              "      <td>60</td>\n",
              "      <td>sexual_partner</td>\n",
              "      <td>unknown</td>\n",
              "      <td>4.0</td>\n",
              "    </tr>\n",
              "    <tr>\n",
              "      <th>...</th>\n",
              "      <td>...</td>\n",
              "      <td>...</td>\n",
              "      <td>...</td>\n",
              "      <td>...</td>\n",
              "      <td>...</td>\n",
              "      <td>...</td>\n",
              "      <td>...</td>\n",
              "      <td>...</td>\n",
              "      <td>...</td>\n",
              "      <td>...</td>\n",
              "    </tr>\n",
              "    <tr>\n",
              "      <th>7223</th>\n",
              "      <td>4504</td>\n",
              "      <td>Hiv Index Contact Registration</td>\n",
              "      <td>9/16/2020 3:00</td>\n",
              "      <td>maguguhcw</td>\n",
              "      <td>Manyara</td>\n",
              "      <td>Female</td>\n",
              "      <td>25</td>\n",
              "      <td>sexual_partner</td>\n",
              "      <td>unknown</td>\n",
              "      <td>2.0</td>\n",
              "    </tr>\n",
              "    <tr>\n",
              "      <th>7224</th>\n",
              "      <td>4505</td>\n",
              "      <td>Hiv Index Contact Registration</td>\n",
              "      <td>9/16/2020 3:00</td>\n",
              "      <td>maguguhcw</td>\n",
              "      <td>Manyara</td>\n",
              "      <td>Female</td>\n",
              "      <td>36</td>\n",
              "      <td>sexual_partner</td>\n",
              "      <td>unknown</td>\n",
              "      <td>2.0</td>\n",
              "    </tr>\n",
              "    <tr>\n",
              "      <th>7225</th>\n",
              "      <td>4505</td>\n",
              "      <td>Hiv Index Contact Registration</td>\n",
              "      <td>9/16/2020 3:00</td>\n",
              "      <td>maguguhcw</td>\n",
              "      <td>Manyara</td>\n",
              "      <td>Male</td>\n",
              "      <td>43</td>\n",
              "      <td>sexual_partner</td>\n",
              "      <td>unknown</td>\n",
              "      <td>2.0</td>\n",
              "    </tr>\n",
              "    <tr>\n",
              "      <th>7226</th>\n",
              "      <td>4498</td>\n",
              "      <td>Hiv Index Contact Registration</td>\n",
              "      <td>9/16/2020 3:00</td>\n",
              "      <td>maguguhcw</td>\n",
              "      <td>Manyara</td>\n",
              "      <td>Female</td>\n",
              "      <td>61</td>\n",
              "      <td>sexual_partner</td>\n",
              "      <td>unknown</td>\n",
              "      <td>4.0</td>\n",
              "    </tr>\n",
              "    <tr>\n",
              "      <th>7227</th>\n",
              "      <td>4498</td>\n",
              "      <td>Hiv Index Contact Registration</td>\n",
              "      <td>9/16/2020 3:00</td>\n",
              "      <td>maguguhcw</td>\n",
              "      <td>Manyara</td>\n",
              "      <td>Female</td>\n",
              "      <td>50</td>\n",
              "      <td>sexual_partner</td>\n",
              "      <td>unknown</td>\n",
              "      <td>4.0</td>\n",
              "    </tr>\n",
              "  </tbody>\n",
              "</table>\n",
              "<p>7228 rows × 10 columns</p>\n",
              "</div>"
            ],
            "text/plain": [
              "      client_id  Hiv_Index_Contact_Registration  ... Hiv_status number_of_Hivindex\n",
              "0           468  Hiv Index Contact Registration  ...    unknown                1.0\n",
              "1           469  Hiv Index Contact Registration  ...    unknown                4.0\n",
              "2           469  Hiv Index Contact Registration  ...    unknown                4.0\n",
              "3           469  Hiv Index Contact Registration  ...    unknown                4.0\n",
              "4           469  Hiv Index Contact Registration  ...    unknown                4.0\n",
              "...         ...                             ...  ...        ...                ...\n",
              "7223       4504  Hiv Index Contact Registration  ...    unknown                2.0\n",
              "7224       4505  Hiv Index Contact Registration  ...    unknown                2.0\n",
              "7225       4505  Hiv Index Contact Registration  ...    unknown                2.0\n",
              "7226       4498  Hiv Index Contact Registration  ...    unknown                4.0\n",
              "7227       4498  Hiv Index Contact Registration  ...    unknown                4.0\n",
              "\n",
              "[7228 rows x 10 columns]"
            ]
          },
          "metadata": {},
          "execution_count": 7
        }
      ]
    },
    {
      "cell_type": "code",
      "metadata": {
        "id": "7Y5TqR064Ulf"
      },
      "source": [
        "#sepataely Date column into 3 colunms of year, month and day\n",
        "Index_data['year'] = pd.DatetimeIndex(Index_data['Date']).year\n",
        "Index_data['month'] = pd.DatetimeIndex(Index_data['Date']).month\n",
        "Index_data['day'] = pd.DatetimeIndex(Index_data['Date']).day"
      ],
      "execution_count": 8,
      "outputs": []
    },
    {
      "cell_type": "code",
      "metadata": {
        "colab": {
          "base_uri": "https://localhost:8080/",
          "height": 302
        },
        "id": "3eLmH9Y66RXk",
        "outputId": "f1ee2bda-1b78-4c79-c1be-5c6b86819cab"
      },
      "source": [
        "Index_data.head()"
      ],
      "execution_count": null,
      "outputs": [
        {
          "output_type": "execute_result",
          "data": {
            "text/html": [
              "<div>\n",
              "<style scoped>\n",
              "    .dataframe tbody tr th:only-of-type {\n",
              "        vertical-align: middle;\n",
              "    }\n",
              "\n",
              "    .dataframe tbody tr th {\n",
              "        vertical-align: top;\n",
              "    }\n",
              "\n",
              "    .dataframe thead th {\n",
              "        text-align: right;\n",
              "    }\n",
              "</style>\n",
              "<table border=\"1\" class=\"dataframe\">\n",
              "  <thead>\n",
              "    <tr style=\"text-align: right;\">\n",
              "      <th></th>\n",
              "      <th>client_id</th>\n",
              "      <th>Hiv_Index_Contact_Registration</th>\n",
              "      <th>Date</th>\n",
              "      <th>Site</th>\n",
              "      <th>Region</th>\n",
              "      <th>Sex_of_Index</th>\n",
              "      <th>Age_of_client_index</th>\n",
              "      <th>Type_ of_ relationship</th>\n",
              "      <th>Hiv_status</th>\n",
              "      <th>number_of_Hivindex</th>\n",
              "      <th>year</th>\n",
              "      <th>month</th>\n",
              "      <th>day</th>\n",
              "    </tr>\n",
              "  </thead>\n",
              "  <tbody>\n",
              "    <tr>\n",
              "      <th>0</th>\n",
              "      <td>468</td>\n",
              "      <td>Hiv Index Contact Registration</td>\n",
              "      <td>9/16/2020 3:00</td>\n",
              "      <td>levolosihcw</td>\n",
              "      <td>Arusha</td>\n",
              "      <td>Female</td>\n",
              "      <td>45</td>\n",
              "      <td>sexual_partner</td>\n",
              "      <td>unknown</td>\n",
              "      <td>1.0</td>\n",
              "      <td>2020</td>\n",
              "      <td>9</td>\n",
              "      <td>16</td>\n",
              "    </tr>\n",
              "    <tr>\n",
              "      <th>1</th>\n",
              "      <td>469</td>\n",
              "      <td>Hiv Index Contact Registration</td>\n",
              "      <td>9/16/2020 3:00</td>\n",
              "      <td>levolosihcw</td>\n",
              "      <td>Arusha</td>\n",
              "      <td>Female</td>\n",
              "      <td>39</td>\n",
              "      <td>sexual_partner</td>\n",
              "      <td>unknown</td>\n",
              "      <td>4.0</td>\n",
              "      <td>2020</td>\n",
              "      <td>9</td>\n",
              "      <td>16</td>\n",
              "    </tr>\n",
              "    <tr>\n",
              "      <th>2</th>\n",
              "      <td>469</td>\n",
              "      <td>Hiv Index Contact Registration</td>\n",
              "      <td>9/16/2020 3:00</td>\n",
              "      <td>levolosihcw</td>\n",
              "      <td>Arusha</td>\n",
              "      <td>Female</td>\n",
              "      <td>57</td>\n",
              "      <td>sexual_partner</td>\n",
              "      <td>unknown</td>\n",
              "      <td>4.0</td>\n",
              "      <td>2020</td>\n",
              "      <td>9</td>\n",
              "      <td>16</td>\n",
              "    </tr>\n",
              "    <tr>\n",
              "      <th>3</th>\n",
              "      <td>469</td>\n",
              "      <td>Hiv Index Contact Registration</td>\n",
              "      <td>9/16/2020 3:00</td>\n",
              "      <td>levolosihcw</td>\n",
              "      <td>Arusha</td>\n",
              "      <td>Female</td>\n",
              "      <td>15</td>\n",
              "      <td>biological_child_under_15</td>\n",
              "      <td>unknown</td>\n",
              "      <td>4.0</td>\n",
              "      <td>2020</td>\n",
              "      <td>9</td>\n",
              "      <td>16</td>\n",
              "    </tr>\n",
              "    <tr>\n",
              "      <th>4</th>\n",
              "      <td>469</td>\n",
              "      <td>Hiv Index Contact Registration</td>\n",
              "      <td>9/16/2020 3:00</td>\n",
              "      <td>levolosihcw</td>\n",
              "      <td>Arusha</td>\n",
              "      <td>Female</td>\n",
              "      <td>60</td>\n",
              "      <td>sexual_partner</td>\n",
              "      <td>unknown</td>\n",
              "      <td>4.0</td>\n",
              "      <td>2020</td>\n",
              "      <td>9</td>\n",
              "      <td>16</td>\n",
              "    </tr>\n",
              "  </tbody>\n",
              "</table>\n",
              "</div>"
            ],
            "text/plain": [
              "   client_id  Hiv_Index_Contact_Registration            Date  ...  year month day\n",
              "0        468  Hiv Index Contact Registration  9/16/2020 3:00  ...  2020     9  16\n",
              "1        469  Hiv Index Contact Registration  9/16/2020 3:00  ...  2020     9  16\n",
              "2        469  Hiv Index Contact Registration  9/16/2020 3:00  ...  2020     9  16\n",
              "3        469  Hiv Index Contact Registration  9/16/2020 3:00  ...  2020     9  16\n",
              "4        469  Hiv Index Contact Registration  9/16/2020 3:00  ...  2020     9  16\n",
              "\n",
              "[5 rows x 13 columns]"
            ]
          },
          "metadata": {},
          "execution_count": 184
        }
      ]
    },
    {
      "cell_type": "markdown",
      "metadata": {
        "id": "68zbpJ-Wu6Fz"
      },
      "source": [
        "The date colum has been expanded to get year, month and day separately"
      ]
    },
    {
      "cell_type": "code",
      "metadata": {
        "colab": {
          "base_uri": "https://localhost:8080/"
        },
        "id": "c0wRPTDA97Fn",
        "outputId": "e93b76fb-b511-4711-d5ed-2c178efa1df5"
      },
      "source": [
        "# show Some information about the dataset \n",
        "print(Index_data.info())"
      ],
      "execution_count": null,
      "outputs": [
        {
          "output_type": "stream",
          "name": "stdout",
          "text": [
            "<class 'pandas.core.frame.DataFrame'>\n",
            "RangeIndex: 7228 entries, 0 to 7227\n",
            "Data columns (total 13 columns):\n",
            " #   Column                          Non-Null Count  Dtype  \n",
            "---  ------                          --------------  -----  \n",
            " 0   client_id                       7228 non-null   int64  \n",
            " 1   Hiv_Index_Contact_Registration  7228 non-null   object \n",
            " 2   Date                            7228 non-null   object \n",
            " 3   Site                            7228 non-null   object \n",
            " 4   Region                          7228 non-null   object \n",
            " 5   Sex_of_Index                    7228 non-null   object \n",
            " 6   Age_of_client_index             7228 non-null   int64  \n",
            " 7   Type_ of_ relationship          7228 non-null   object \n",
            " 8   Hiv_status                      7228 non-null   object \n",
            " 9   number_of_Hivindex              7228 non-null   float64\n",
            " 10  year                            7228 non-null   int64  \n",
            " 11  month                           7228 non-null   int64  \n",
            " 12  day                             7228 non-null   int64  \n",
            "dtypes: float64(1), int64(5), object(7)\n",
            "memory usage: 734.2+ KB\n",
            "None\n"
          ]
        }
      ]
    },
    {
      "cell_type": "markdown",
      "metadata": {
        "id": "44hLu_9YuHU7"
      },
      "source": [
        "There rae 13 colunms and dataset of 7228, data type float 64(1),int64(5) object(7) there is no missing value."
      ]
    },
    {
      "cell_type": "code",
      "metadata": {
        "colab": {
          "base_uri": "https://localhost:8080/"
        },
        "id": "Tmjj1wIstVQ9",
        "outputId": "eb02993d-070e-4d45-c6f9-0562a9d6423b"
      },
      "source": [
        "#checking the data\n",
        "Index_data.isnull().sum()"
      ],
      "execution_count": null,
      "outputs": [
        {
          "output_type": "execute_result",
          "data": {
            "text/plain": [
              "client_id                         0\n",
              "Hiv_Index_Contact_Registration    0\n",
              "Date                              0\n",
              "Site                              0\n",
              "Region                            0\n",
              "Sex_of_Index                      0\n",
              "Age_of_client_index               0\n",
              "Type_ of_ relationship            0\n",
              "Hiv_status                        0\n",
              "number_of_Hivindex                0\n",
              "year                              0\n",
              "month                             0\n",
              "day                               0\n",
              "dtype: int64"
            ]
          },
          "metadata": {},
          "execution_count": 186
        }
      ]
    },
    {
      "cell_type": "markdown",
      "metadata": {
        "id": "7_C7Dka3WGGQ"
      },
      "source": [
        "No missing value"
      ]
    },
    {
      "cell_type": "code",
      "metadata": {
        "colab": {
          "base_uri": "https://localhost:8080/",
          "height": 451
        },
        "id": "RIma8aCiWPnH",
        "outputId": "1d0b82fd-578e-4a0b-e3b3-84db4500d871"
      },
      "source": [
        "# We drop some coloumns which have already worked with and has no impact to our target\n",
        "data = Index_data.drop(columns=['Hiv_Index_Contact_Registration','Date'])\n",
        "data"
      ],
      "execution_count": 11,
      "outputs": [
        {
          "output_type": "execute_result",
          "data": {
            "text/html": [
              "<div>\n",
              "<style scoped>\n",
              "    .dataframe tbody tr th:only-of-type {\n",
              "        vertical-align: middle;\n",
              "    }\n",
              "\n",
              "    .dataframe tbody tr th {\n",
              "        vertical-align: top;\n",
              "    }\n",
              "\n",
              "    .dataframe thead th {\n",
              "        text-align: right;\n",
              "    }\n",
              "</style>\n",
              "<table border=\"1\" class=\"dataframe\">\n",
              "  <thead>\n",
              "    <tr style=\"text-align: right;\">\n",
              "      <th></th>\n",
              "      <th>client_id</th>\n",
              "      <th>Site</th>\n",
              "      <th>Region</th>\n",
              "      <th>Sex_of_Index</th>\n",
              "      <th>Age_of_client_index</th>\n",
              "      <th>Type_ of_ relationship</th>\n",
              "      <th>Hiv_status</th>\n",
              "      <th>number_of_Hivindex</th>\n",
              "      <th>year</th>\n",
              "      <th>month</th>\n",
              "      <th>day</th>\n",
              "    </tr>\n",
              "  </thead>\n",
              "  <tbody>\n",
              "    <tr>\n",
              "      <th>0</th>\n",
              "      <td>468</td>\n",
              "      <td>levolosihcw</td>\n",
              "      <td>Arusha</td>\n",
              "      <td>Female</td>\n",
              "      <td>45</td>\n",
              "      <td>sexual_partner</td>\n",
              "      <td>unknown</td>\n",
              "      <td>1.0</td>\n",
              "      <td>2020</td>\n",
              "      <td>9</td>\n",
              "      <td>16</td>\n",
              "    </tr>\n",
              "    <tr>\n",
              "      <th>1</th>\n",
              "      <td>469</td>\n",
              "      <td>levolosihcw</td>\n",
              "      <td>Arusha</td>\n",
              "      <td>Female</td>\n",
              "      <td>39</td>\n",
              "      <td>sexual_partner</td>\n",
              "      <td>unknown</td>\n",
              "      <td>4.0</td>\n",
              "      <td>2020</td>\n",
              "      <td>9</td>\n",
              "      <td>16</td>\n",
              "    </tr>\n",
              "    <tr>\n",
              "      <th>2</th>\n",
              "      <td>469</td>\n",
              "      <td>levolosihcw</td>\n",
              "      <td>Arusha</td>\n",
              "      <td>Female</td>\n",
              "      <td>57</td>\n",
              "      <td>sexual_partner</td>\n",
              "      <td>unknown</td>\n",
              "      <td>4.0</td>\n",
              "      <td>2020</td>\n",
              "      <td>9</td>\n",
              "      <td>16</td>\n",
              "    </tr>\n",
              "    <tr>\n",
              "      <th>3</th>\n",
              "      <td>469</td>\n",
              "      <td>levolosihcw</td>\n",
              "      <td>Arusha</td>\n",
              "      <td>Female</td>\n",
              "      <td>15</td>\n",
              "      <td>biological_child_under_15</td>\n",
              "      <td>unknown</td>\n",
              "      <td>4.0</td>\n",
              "      <td>2020</td>\n",
              "      <td>9</td>\n",
              "      <td>16</td>\n",
              "    </tr>\n",
              "    <tr>\n",
              "      <th>4</th>\n",
              "      <td>469</td>\n",
              "      <td>levolosihcw</td>\n",
              "      <td>Arusha</td>\n",
              "      <td>Female</td>\n",
              "      <td>60</td>\n",
              "      <td>sexual_partner</td>\n",
              "      <td>unknown</td>\n",
              "      <td>4.0</td>\n",
              "      <td>2020</td>\n",
              "      <td>9</td>\n",
              "      <td>16</td>\n",
              "    </tr>\n",
              "    <tr>\n",
              "      <th>...</th>\n",
              "      <td>...</td>\n",
              "      <td>...</td>\n",
              "      <td>...</td>\n",
              "      <td>...</td>\n",
              "      <td>...</td>\n",
              "      <td>...</td>\n",
              "      <td>...</td>\n",
              "      <td>...</td>\n",
              "      <td>...</td>\n",
              "      <td>...</td>\n",
              "      <td>...</td>\n",
              "    </tr>\n",
              "    <tr>\n",
              "      <th>7223</th>\n",
              "      <td>4504</td>\n",
              "      <td>maguguhcw</td>\n",
              "      <td>Manyara</td>\n",
              "      <td>Female</td>\n",
              "      <td>25</td>\n",
              "      <td>sexual_partner</td>\n",
              "      <td>unknown</td>\n",
              "      <td>2.0</td>\n",
              "      <td>2020</td>\n",
              "      <td>9</td>\n",
              "      <td>16</td>\n",
              "    </tr>\n",
              "    <tr>\n",
              "      <th>7224</th>\n",
              "      <td>4505</td>\n",
              "      <td>maguguhcw</td>\n",
              "      <td>Manyara</td>\n",
              "      <td>Female</td>\n",
              "      <td>36</td>\n",
              "      <td>sexual_partner</td>\n",
              "      <td>unknown</td>\n",
              "      <td>2.0</td>\n",
              "      <td>2020</td>\n",
              "      <td>9</td>\n",
              "      <td>16</td>\n",
              "    </tr>\n",
              "    <tr>\n",
              "      <th>7225</th>\n",
              "      <td>4505</td>\n",
              "      <td>maguguhcw</td>\n",
              "      <td>Manyara</td>\n",
              "      <td>Male</td>\n",
              "      <td>43</td>\n",
              "      <td>sexual_partner</td>\n",
              "      <td>unknown</td>\n",
              "      <td>2.0</td>\n",
              "      <td>2020</td>\n",
              "      <td>9</td>\n",
              "      <td>16</td>\n",
              "    </tr>\n",
              "    <tr>\n",
              "      <th>7226</th>\n",
              "      <td>4498</td>\n",
              "      <td>maguguhcw</td>\n",
              "      <td>Manyara</td>\n",
              "      <td>Female</td>\n",
              "      <td>61</td>\n",
              "      <td>sexual_partner</td>\n",
              "      <td>unknown</td>\n",
              "      <td>4.0</td>\n",
              "      <td>2020</td>\n",
              "      <td>9</td>\n",
              "      <td>16</td>\n",
              "    </tr>\n",
              "    <tr>\n",
              "      <th>7227</th>\n",
              "      <td>4498</td>\n",
              "      <td>maguguhcw</td>\n",
              "      <td>Manyara</td>\n",
              "      <td>Female</td>\n",
              "      <td>50</td>\n",
              "      <td>sexual_partner</td>\n",
              "      <td>unknown</td>\n",
              "      <td>4.0</td>\n",
              "      <td>2020</td>\n",
              "      <td>9</td>\n",
              "      <td>16</td>\n",
              "    </tr>\n",
              "  </tbody>\n",
              "</table>\n",
              "<p>7228 rows × 11 columns</p>\n",
              "</div>"
            ],
            "text/plain": [
              "      client_id         Site   Region  ...  year  month day\n",
              "0           468  levolosihcw   Arusha  ...  2020      9  16\n",
              "1           469  levolosihcw   Arusha  ...  2020      9  16\n",
              "2           469  levolosihcw   Arusha  ...  2020      9  16\n",
              "3           469  levolosihcw   Arusha  ...  2020      9  16\n",
              "4           469  levolosihcw   Arusha  ...  2020      9  16\n",
              "...         ...          ...      ...  ...   ...    ...  ..\n",
              "7223       4504    maguguhcw  Manyara  ...  2020      9  16\n",
              "7224       4505    maguguhcw  Manyara  ...  2020      9  16\n",
              "7225       4505    maguguhcw  Manyara  ...  2020      9  16\n",
              "7226       4498    maguguhcw  Manyara  ...  2020      9  16\n",
              "7227       4498    maguguhcw  Manyara  ...  2020      9  16\n",
              "\n",
              "[7228 rows x 11 columns]"
            ]
          },
          "metadata": {},
          "execution_count": 11
        }
      ]
    },
    {
      "cell_type": "code",
      "metadata": {
        "id": "PVSKvY_2fGTZ"
      },
      "source": [
        "data.to_csv('re_processed_data.csv',index=False)"
      ],
      "execution_count": 12,
      "outputs": []
    },
    {
      "cell_type": "markdown",
      "metadata": {
        "id": "DCtjZgRLX1jQ"
      },
      "source": [
        "Data exploration and visualization"
      ]
    },
    {
      "cell_type": "code",
      "metadata": {
        "colab": {
          "base_uri": "https://localhost:8080/",
          "height": 427
        },
        "id": "-sznBAZzX2mk",
        "outputId": "1efecb74-f608-400e-909e-bee74ca14949"
      },
      "source": [
        " #Explore Target distribution \n",
        "sns.catplot(x =\"number_of_Hivindex\",kind=\"count\", data=data)\n",
        "plt.xticks(\n",
        "    rotation=90, \n",
        "    horizontalalignment='right',\n",
        "    fontweight='light',\n",
        "    fontsize='x-large'  \n",
        ")\n"
      ],
      "execution_count": 13,
      "outputs": [
        {
          "output_type": "execute_result",
          "data": {
            "text/plain": [
              "(array([ 0,  1,  2,  3,  4,  5,  6,  7,  8,  9, 10, 11, 12, 13]),\n",
              " <a list of 14 Text major ticklabel objects>)"
            ]
          },
          "metadata": {},
          "execution_count": 13
        },
        {
          "output_type": "display_data",
          "data": {
            "image/png": "[encoded data removed]",
            "text/plain": [
              "<Figure size 360x360 with 1 Axes>"
            ]
          },
          "metadata": {}
        }
      ]
    },
    {
      "cell_type": "markdown",
      "metadata": {
        "id": "Huf3cx4MP8CU"
      },
      "source": [
        "Large number of client refered one person , followed by two and very few refered up to 20 people"
      ]
    },
    {
      "cell_type": "code",
      "metadata": {
        "colab": {
          "base_uri": "https://localhost:8080/",
          "height": 451
        },
        "id": "Mlnbx6E9ZNg6",
        "outputId": "cc2a2285-4c3a-4b05-8c5c-e7b1a40fedab"
      },
      "source": [
        "sns.catplot(x=\"Site\", kind=\"count\", data=data);\n",
        "\n",
        "plt.xticks(\n",
        "    rotation=45, \n",
        "    horizontalalignment='right',\n",
        "    fontweight='light',\n",
        "    fontsize='small'  \n",
        ")"
      ],
      "execution_count": 14,
      "outputs": [
        {
          "output_type": "execute_result",
          "data": {
            "text/plain": [
              "(array([ 0,  1,  2,  3,  4,  5,  6,  7,  8,  9, 10, 11, 12, 13, 14, 15, 16]),\n",
              " <a list of 17 Text major ticklabel objects>)"
            ]
          },
          "metadata": {},
          "execution_count": 14
        },
        {
          "output_type": "display_data",
          "data": {
            "image/png": "[encoded data removed]",
            "text/plain": [
              "<Figure size 360x360 with 1 Axes>"
            ]
          },
          "metadata": {}
        }
      ]
    },
    {
      "cell_type": "markdown",
      "metadata": {
        "id": "EH3U143NQa-_"
      },
      "source": [
        "Site of Haihsc has large number of client who refered large number of Hiv index follwed by Manyarahcw. Very few client at Majengohcw"
      ]
    },
    {
      "cell_type": "code",
      "metadata": {
        "id": "JXLued5unkam"
      },
      "source": [
        ""
      ],
      "execution_count": null,
      "outputs": []
    },
    {
      "cell_type": "code",
      "metadata": {
        "colab": {
          "base_uri": "https://localhost:8080/",
          "height": 457
        },
        "id": "3R3JKNazbtP5",
        "outputId": "96683237-54eb-4b41-fc3e-5410f6b75abb"
      },
      "source": [
        "sns.catplot(x=\"Region\", kind=\"count\", data=data);\n",
        "\n",
        "plt.xticks(\n",
        "    rotation=45, \n",
        "    horizontalalignment='right',\n",
        "    fontweight='light',\n",
        "    fontsize='x-large'  \n",
        ")"
      ],
      "execution_count": 15,
      "outputs": [
        {
          "output_type": "execute_result",
          "data": {
            "text/plain": [
              "(array([0, 1, 2]), <a list of 3 Text major ticklabel objects>)"
            ]
          },
          "metadata": {},
          "execution_count": 15
        },
        {
          "output_type": "display_data",
          "data": {
            "image/png": "[encoded data removed]",
            "text/plain": [
              "<Figure size 360x360 with 1 Axes>"
            ]
          },
          "metadata": {}
        }
      ]
    },
    {
      "cell_type": "markdown",
      "metadata": {
        "id": "pa5MErALRWRw"
      },
      "source": [
        "Arusha Region has Large number of Client who refered their index compare with the rest two"
      ]
    },
    {
      "cell_type": "code",
      "metadata": {
        "colab": {
          "base_uri": "https://localhost:8080/",
          "height": 562
        },
        "id": "HwLTMWwdnnak",
        "outputId": "0a67dc0a-a507-4292-dab1-d3502ee654b4"
      },
      "source": [
        "sns.catplot(x=\"Type_ of_ relationship\", kind=\"count\", data=data);\n",
        "\n",
        "plt.xticks(\n",
        "    rotation=45, \n",
        "    horizontalalignment='right',\n",
        "    fontweight='light',\n",
        "    fontsize='x-large'  \n",
        ")"
      ],
      "execution_count": 16,
      "outputs": [
        {
          "output_type": "execute_result",
          "data": {
            "text/plain": [
              "(array([0, 1, 2]), <a list of 3 Text major ticklabel objects>)"
            ]
          },
          "metadata": {},
          "execution_count": 16
        },
        {
          "output_type": "display_data",
          "data": {
            "image/png": "[encoded data removed]",
            "text/plain": [
              "<Figure size 360x360 with 1 Axes>"
            ]
          },
          "metadata": {}
        }
      ]
    },
    {
      "cell_type": "markdown",
      "metadata": {
        "id": "paDpvMjKRqOa"
      },
      "source": [
        "The diagram show that Hiv Index refered are Sexual_partner, followed by biological child under 15 and very few from drug injecting partner"
      ]
    },
    {
      "cell_type": "code",
      "metadata": {
        "colab": {
          "base_uri": "https://localhost:8080/",
          "height": 436
        },
        "id": "ajCQp35XoHPV",
        "outputId": "2521cef1-0e5d-4780-efb1-254b285b8563"
      },
      "source": [
        "sns.catplot(x=\"Hiv_status\", kind=\"count\", data=data);\n",
        "\n",
        "plt.xticks(\n",
        "    rotation=45, \n",
        "    horizontalalignment='right',\n",
        "    fontweight='light',\n",
        "    fontsize='x-large'  \n",
        ")"
      ],
      "execution_count": null,
      "outputs": [
        {
          "output_type": "execute_result",
          "data": {
            "text/plain": [
              "(array([0, 1, 2]), <a list of 3 Text major ticklabel objects>)"
            ]
          },
          "metadata": {},
          "execution_count": 193
        },
        {
          "output_type": "display_data",
          "data": {
            "image/png": "[encoded data removed]",
            "text/plain": [
              "<Figure size 360x360 with 1 Axes>"
            ]
          },
          "metadata": {}
        }
      ]
    },
    {
      "cell_type": "markdown",
      "metadata": {
        "id": "27VEaieNSKtM"
      },
      "source": [
        "Among those Hiv Index client there are still huge number of hiv indexed who do not know their status."
      ]
    },
    {
      "cell_type": "code",
      "metadata": {
        "colab": {
          "base_uri": "https://localhost:8080/",
          "height": 414
        },
        "id": "d--H0BVIotW6",
        "outputId": "be18707e-4567-45f1-b4c8-4bd810a444d4"
      },
      "source": [
        "sns.catplot(x=\"year\", kind=\"count\", data=data);\n",
        "\n",
        "plt.xticks(\n",
        "    rotation=45, \n",
        "    horizontalalignment='right',\n",
        "    fontweight='light',\n",
        "    fontsize='x-large'  \n",
        ")"
      ],
      "execution_count": 17,
      "outputs": [
        {
          "output_type": "execute_result",
          "data": {
            "text/plain": [
              "(array([0, 1]), <a list of 2 Text major ticklabel objects>)"
            ]
          },
          "metadata": {},
          "execution_count": 17
        },
        {
          "output_type": "display_data",
          "data": {
            "image/png": "[encoded data removed]",
            "text/plain": [
              "<Figure size 360x360 with 1 Axes>"
            ]
          },
          "metadata": {}
        }
      ]
    },
    {
      "cell_type": "markdown",
      "metadata": {
        "id": "bPPTlaC8Srmh"
      },
      "source": [
        "Year 2021, show that large number of Client refered their partners compared to year 2020"
      ]
    },
    {
      "cell_type": "code",
      "metadata": {
        "colab": {
          "base_uri": "https://localhost:8080/",
          "height": 1000
        },
        "id": "rznry9Zv72x8",
        "outputId": "38f74187-9f1f-4004-d8d7-6301ea17766d"
      },
      "source": [
        "#Explore features vs target variable \n",
        "\n",
        "f, axes = plt.subplots(7, 1, figsize=[25, 60])\n",
        "sns.set(font_scale = 2)\n",
        "plt.rcParams[\"axes.labelsize\"] = 15\n",
        "sns.countplot('Site', hue= 'number_of_Hivindex', data=data, ax=axes[0])\n",
        "sns.countplot('Region', hue= 'number_of_Hivindex', data=data, ax=axes[1])\n",
        "sns.countplot('Sex_of_Index', hue= 'number_of_Hivindex', data=data, ax=axes[2])\n",
        "sns.countplot('Age_of_client_index', hue= 'number_of_Hivindex', data=data, ax=axes[3])\n",
        "sns.countplot('Type_ of_ relationship', hue= 'number_of_Hivindex', data=data, ax=axes[4])\n",
        "sns.countplot('Hiv_status', hue= 'number_of_Hivindex', data=data, ax=axes[5])\n",
        "sns.countplot('year', hue= 'number_of_Hivindex', data=data, ax=axes[6])\n",
        "\n",
        "plt.xticks(\n",
        "    rotation=45, \n",
        "    horizontalalignment='right',\n",
        "    fontweight='light',\n",
        "    fontsize='x-large'  \n",
        ")"
      ],
      "execution_count": 18,
      "outputs": [
        {
          "output_type": "stream",
          "name": "stderr",
          "text": [
            "/usr/local/lib/python3.7/dist-packages/seaborn/_decorators.py:43: FutureWarning: Pass the following variable as a keyword arg: x. From version 0.12, the only valid positional argument will be `data`, and passing other arguments without an explicit keyword will result in an error or misinterpretation.\n",
            "  FutureWarning\n",
            "/usr/local/lib/python3.7/dist-packages/seaborn/_decorators.py:43: FutureWarning: Pass the following variable as a keyword arg: x. From version 0.12, the only valid positional argument will be `data`, and passing other arguments without an explicit keyword will result in an error or misinterpretation.\n",
            "  FutureWarning\n",
            "/usr/local/lib/python3.7/dist-packages/seaborn/_decorators.py:43: FutureWarning: Pass the following variable as a keyword arg: x. From version 0.12, the only valid positional argument will be `data`, and passing other arguments without an explicit keyword will result in an error or misinterpretation.\n",
            "  FutureWarning\n",
            "/usr/local/lib/python3.7/dist-packages/seaborn/_decorators.py:43: FutureWarning: Pass the following variable as a keyword arg: x. From version 0.12, the only valid positional argument will be `data`, and passing other arguments without an explicit keyword will result in an error or misinterpretation.\n",
            "  FutureWarning\n",
            "/usr/local/lib/python3.7/dist-packages/seaborn/_decorators.py:43: FutureWarning: Pass the following variable as a keyword arg: x. From version 0.12, the only valid positional argument will be `data`, and passing other arguments without an explicit keyword will result in an error or misinterpretation.\n",
            "  FutureWarning\n",
            "/usr/local/lib/python3.7/dist-packages/seaborn/_decorators.py:43: FutureWarning: Pass the following variable as a keyword arg: x. From version 0.12, the only valid positional argument will be `data`, and passing other arguments without an explicit keyword will result in an error or misinterpretation.\n",
            "  FutureWarning\n",
            "/usr/local/lib/python3.7/dist-packages/seaborn/_decorators.py:43: FutureWarning: Pass the following variable as a keyword arg: x. From version 0.12, the only valid positional argument will be `data`, and passing other arguments without an explicit keyword will result in an error or misinterpretation.\n",
            "  FutureWarning\n"
          ]
        },
        {
          "output_type": "execute_result",
          "data": {
            "text/plain": [
              "(array([0, 1]), <a list of 2 Text major ticklabel objects>)"
            ]
          },
          "metadata": {},
          "execution_count": 18
        },
        {
          "output_type": "display_data",
          "data": {
            "image/png": "[encoded data removed]",
            "text/plain": [
              "<Figure size 1800x4320 with 7 Axes>"
            ]
          },
          "metadata": {}
        }
      ]
    },
    {
      "cell_type": "markdown",
      "metadata": {
        "id": "lYwhKOHtTnVW"
      },
      "source": [
        "Data transformation"
      ]
    },
    {
      "cell_type": "code",
      "metadata": {
        "colab": {
          "base_uri": "https://localhost:8080/",
          "height": 238
        },
        "id": "U-SsEQ1DpZG5",
        "outputId": "ff3cc0ee-6dc5-47eb-c30a-8e07f063acdf"
      },
      "source": [
        "# Turn all categories into numbers\n",
        "data_one_hot = pd.get_dummies(data)\n",
        "data_one_hot.head() # view the converted columns"
      ],
      "execution_count": 19,
      "outputs": [
        {
          "output_type": "execute_result",
          "data": {
            "text/html": [
              "<div>\n",
              "<style scoped>\n",
              "    .dataframe tbody tr th:only-of-type {\n",
              "        vertical-align: middle;\n",
              "    }\n",
              "\n",
              "    .dataframe tbody tr th {\n",
              "        vertical-align: top;\n",
              "    }\n",
              "\n",
              "    .dataframe thead th {\n",
              "        text-align: right;\n",
              "    }\n",
              "</style>\n",
              "<table border=\"1\" class=\"dataframe\">\n",
              "  <thead>\n",
              "    <tr style=\"text-align: right;\">\n",
              "      <th></th>\n",
              "      <th>client_id</th>\n",
              "      <th>Age_of_client_index</th>\n",
              "      <th>number_of_Hivindex</th>\n",
              "      <th>year</th>\n",
              "      <th>month</th>\n",
              "      <th>day</th>\n",
              "      <th>Site_Babatihcw</th>\n",
              "      <th>Site_Haihcw</th>\n",
              "      <th>Site_Himohcw</th>\n",
              "      <th>Site_Majengo</th>\n",
              "      <th>Site_Majengohcw</th>\n",
              "      <th>Site_Manyarahcw</th>\n",
              "      <th>Site_Mawenzi</th>\n",
              "      <th>Site_Meru</th>\n",
              "      <th>Site_Mtmerufacility</th>\n",
              "      <th>Site_Mwanga</th>\n",
              "      <th>Site_PTC</th>\n",
              "      <th>Site_St.Elizabeth</th>\n",
              "      <th>Site_St.Joseph</th>\n",
              "      <th>Site_TPC</th>\n",
              "      <th>Site_elipendohcw</th>\n",
              "      <th>Site_levolosihcw</th>\n",
              "      <th>Site_maguguhcw</th>\n",
              "      <th>Region_Arusha</th>\n",
              "      <th>Region_Kilimanjaro</th>\n",
              "      <th>Region_Manyara</th>\n",
              "      <th>Sex_of_Index_Female</th>\n",
              "      <th>Sex_of_Index_Male</th>\n",
              "      <th>Type_ of_ relationship_biological_child_under_15</th>\n",
              "      <th>Type_ of_ relationship_drugs_injecting_partner</th>\n",
              "      <th>Type_ of_ relationship_sexual_partner</th>\n",
              "      <th>Hiv_status_negative</th>\n",
              "      <th>Hiv_status_positive</th>\n",
              "      <th>Hiv_status_unknown</th>\n",
              "    </tr>\n",
              "  </thead>\n",
              "  <tbody>\n",
              "    <tr>\n",
              "      <th>0</th>\n",
              "      <td>468</td>\n",
              "      <td>45</td>\n",
              "      <td>1.0</td>\n",
              "      <td>2020</td>\n",
              "      <td>9</td>\n",
              "      <td>16</td>\n",
              "      <td>0</td>\n",
              "      <td>0</td>\n",
              "      <td>0</td>\n",
              "      <td>0</td>\n",
              "      <td>0</td>\n",
              "      <td>0</td>\n",
              "      <td>0</td>\n",
              "      <td>0</td>\n",
              "      <td>0</td>\n",
              "      <td>0</td>\n",
              "      <td>0</td>\n",
              "      <td>0</td>\n",
              "      <td>0</td>\n",
              "      <td>0</td>\n",
              "      <td>0</td>\n",
              "      <td>1</td>\n",
              "      <td>0</td>\n",
              "      <td>1</td>\n",
              "      <td>0</td>\n",
              "      <td>0</td>\n",
              "      <td>1</td>\n",
              "      <td>0</td>\n",
              "      <td>0</td>\n",
              "      <td>0</td>\n",
              "      <td>1</td>\n",
              "      <td>0</td>\n",
              "      <td>0</td>\n",
              "      <td>1</td>\n",
              "    </tr>\n",
              "    <tr>\n",
              "      <th>1</th>\n",
              "      <td>469</td>\n",
              "      <td>39</td>\n",
              "      <td>4.0</td>\n",
              "      <td>2020</td>\n",
              "      <td>9</td>\n",
              "      <td>16</td>\n",
              "      <td>0</td>\n",
              "      <td>0</td>\n",
              "      <td>0</td>\n",
              "      <td>0</td>\n",
              "      <td>0</td>\n",
              "      <td>0</td>\n",
              "      <td>0</td>\n",
              "      <td>0</td>\n",
              "      <td>0</td>\n",
              "      <td>0</td>\n",
              "      <td>0</td>\n",
              "      <td>0</td>\n",
              "      <td>0</td>\n",
              "      <td>0</td>\n",
              "      <td>0</td>\n",
              "      <td>1</td>\n",
              "      <td>0</td>\n",
              "      <td>1</td>\n",
              "      <td>0</td>\n",
              "      <td>0</td>\n",
              "      <td>1</td>\n",
              "      <td>0</td>\n",
              "      <td>0</td>\n",
              "      <td>0</td>\n",
              "      <td>1</td>\n",
              "      <td>0</td>\n",
              "      <td>0</td>\n",
              "      <td>1</td>\n",
              "    </tr>\n",
              "    <tr>\n",
              "      <th>2</th>\n",
              "      <td>469</td>\n",
              "      <td>57</td>\n",
              "      <td>4.0</td>\n",
              "      <td>2020</td>\n",
              "      <td>9</td>\n",
              "      <td>16</td>\n",
              "      <td>0</td>\n",
              "      <td>0</td>\n",
              "      <td>0</td>\n",
              "      <td>0</td>\n",
              "      <td>0</td>\n",
              "      <td>0</td>\n",
              "      <td>0</td>\n",
              "      <td>0</td>\n",
              "      <td>0</td>\n",
              "      <td>0</td>\n",
              "      <td>0</td>\n",
              "      <td>0</td>\n",
              "      <td>0</td>\n",
              "      <td>0</td>\n",
              "      <td>0</td>\n",
              "      <td>1</td>\n",
              "      <td>0</td>\n",
              "      <td>1</td>\n",
              "      <td>0</td>\n",
              "      <td>0</td>\n",
              "      <td>1</td>\n",
              "      <td>0</td>\n",
              "      <td>0</td>\n",
              "      <td>0</td>\n",
              "      <td>1</td>\n",
              "      <td>0</td>\n",
              "      <td>0</td>\n",
              "      <td>1</td>\n",
              "    </tr>\n",
              "    <tr>\n",
              "      <th>3</th>\n",
              "      <td>469</td>\n",
              "      <td>15</td>\n",
              "      <td>4.0</td>\n",
              "      <td>2020</td>\n",
              "      <td>9</td>\n",
              "      <td>16</td>\n",
              "      <td>0</td>\n",
              "      <td>0</td>\n",
              "      <td>0</td>\n",
              "      <td>0</td>\n",
              "      <td>0</td>\n",
              "      <td>0</td>\n",
              "      <td>0</td>\n",
              "      <td>0</td>\n",
              "      <td>0</td>\n",
              "      <td>0</td>\n",
              "      <td>0</td>\n",
              "      <td>0</td>\n",
              "      <td>0</td>\n",
              "      <td>0</td>\n",
              "      <td>0</td>\n",
              "      <td>1</td>\n",
              "      <td>0</td>\n",
              "      <td>1</td>\n",
              "      <td>0</td>\n",
              "      <td>0</td>\n",
              "      <td>1</td>\n",
              "      <td>0</td>\n",
              "      <td>1</td>\n",
              "      <td>0</td>\n",
              "      <td>0</td>\n",
              "      <td>0</td>\n",
              "      <td>0</td>\n",
              "      <td>1</td>\n",
              "    </tr>\n",
              "    <tr>\n",
              "      <th>4</th>\n",
              "      <td>469</td>\n",
              "      <td>60</td>\n",
              "      <td>4.0</td>\n",
              "      <td>2020</td>\n",
              "      <td>9</td>\n",
              "      <td>16</td>\n",
              "      <td>0</td>\n",
              "      <td>0</td>\n",
              "      <td>0</td>\n",
              "      <td>0</td>\n",
              "      <td>0</td>\n",
              "      <td>0</td>\n",
              "      <td>0</td>\n",
              "      <td>0</td>\n",
              "      <td>0</td>\n",
              "      <td>0</td>\n",
              "      <td>0</td>\n",
              "      <td>0</td>\n",
              "      <td>0</td>\n",
              "      <td>0</td>\n",
              "      <td>0</td>\n",
              "      <td>1</td>\n",
              "      <td>0</td>\n",
              "      <td>1</td>\n",
              "      <td>0</td>\n",
              "      <td>0</td>\n",
              "      <td>1</td>\n",
              "      <td>0</td>\n",
              "      <td>0</td>\n",
              "      <td>0</td>\n",
              "      <td>1</td>\n",
              "      <td>0</td>\n",
              "      <td>0</td>\n",
              "      <td>1</td>\n",
              "    </tr>\n",
              "  </tbody>\n",
              "</table>\n",
              "</div>"
            ],
            "text/plain": [
              "   client_id  Age_of_client_index  ...  Hiv_status_positive  Hiv_status_unknown\n",
              "0        468                   45  ...                    0                   1\n",
              "1        469                   39  ...                    0                   1\n",
              "2        469                   57  ...                    0                   1\n",
              "3        469                   15  ...                    0                   1\n",
              "4        469                   60  ...                    0                   1\n",
              "\n",
              "[5 rows x 34 columns]"
            ]
          },
          "metadata": {},
          "execution_count": 19
        }
      ]
    },
    {
      "cell_type": "markdown",
      "metadata": {
        "id": "de4GJ_EzT08a"
      },
      "source": [
        "All feature turned to numerial values"
      ]
    },
    {
      "cell_type": "code",
      "metadata": {
        "id": "KoKbxuatpqO2"
      },
      "source": [
        "# Create X & y values\n",
        "X = data_one_hot.drop(['client_id', 'number_of_Hivindex', 'year','month','day'], axis=1)\n",
        "y = data_one_hot['number_of_Hivindex']"
      ],
      "execution_count": 22,
      "outputs": []
    },
    {
      "cell_type": "code",
      "metadata": {
        "colab": {
          "base_uri": "https://localhost:8080/"
        },
        "id": "PHHSWEOtp7x_",
        "outputId": "cd99b133-86ca-48fb-ee59-e986279c7890"
      },
      "source": [
        "# View features\n",
        "X.head()\n",
        "print(X.shape)"
      ],
      "execution_count": 23,
      "outputs": [
        {
          "output_type": "stream",
          "name": "stdout",
          "text": [
            "(7228, 29)\n"
          ]
        }
      ]
    },
    {
      "cell_type": "markdown",
      "metadata": {
        "id": "r5x1T_l_UCNg"
      },
      "source": [
        "The dataset has new shap after transformation, number of colunms has increased"
      ]
    },
    {
      "cell_type": "code",
      "metadata": {
        "colab": {
          "base_uri": "https://localhost:8080/"
        },
        "id": "MM2p64zUaqmH",
        "outputId": "0f7fd45b-3b1c-4dee-ea02-bfa080849a24"
      },
      "source": [
        "y = data_one_hot.number_of_Hivindex.astype('float32')\n",
        "y.head()"
      ],
      "execution_count": 24,
      "outputs": [
        {
          "output_type": "execute_result",
          "data": {
            "text/plain": [
              "0    1.0\n",
              "1    4.0\n",
              "2    4.0\n",
              "3    4.0\n",
              "4    4.0\n",
              "Name: number_of_Hivindex, dtype: float32"
            ]
          },
          "metadata": {},
          "execution_count": 24
        }
      ]
    },
    {
      "cell_type": "markdown",
      "metadata": {
        "id": "4bfgNODlUYCF"
      },
      "source": [
        "MODEL DEVELOPMENT AND EXPERIMENTS"
      ]
    },
    {
      "cell_type": "markdown",
      "metadata": {
        "id": "J8yUmt7RUja3"
      },
      "source": [
        "Experiment one, Model developed using Random Forest Rgressor"
      ]
    },
    {
      "cell_type": "code",
      "metadata": {
        "id": "1PSQSQjebkYU"
      },
      "source": [
        "#import Library for Random forest to work\n",
        "from sklearn.ensemble import RandomForestRegressor\n",
        "from sklearn.metrics import mean_absolute_error"
      ],
      "execution_count": 26,
      "outputs": []
    },
    {
      "cell_type": "code",
      "metadata": {
        "id": "aMFqJNDYqEig"
      },
      "source": [
        "# Create training and test sets\n",
        "from sklearn.model_selection import train_test_split\n",
        "X_train, X_test, y_train, y_test = train_test_split(X, \n",
        "                                                    y, \n",
        "                                                    test_size=0.2, \n",
        "                                                    random_state=42) # set random state for reproducible splits"
      ],
      "execution_count": 27,
      "outputs": []
    },
    {
      "cell_type": "markdown",
      "metadata": {
        "id": "nvVpDI9Db1xL"
      },
      "source": [
        "Experimenting on Random forest Model"
      ]
    },
    {
      "cell_type": "code",
      "metadata": {
        "id": "w2IbWvo5Y7eu"
      },
      "source": [
        "model1 = RandomForestRegressor(n_estimators=100, \n",
        "                               criterion=\"mae\", \n",
        "                               n_jobs=-1)"
      ],
      "execution_count": 28,
      "outputs": []
    },
    {
      "cell_type": "code",
      "metadata": {
        "colab": {
          "base_uri": "https://localhost:8080/"
        },
        "id": "qOlcIYR3cESw",
        "outputId": "2c444ea1-4259-4efa-8440-3055c3945a94"
      },
      "source": [
        "#fitting the model\n",
        "model1.fit(X_train, y_train)"
      ],
      "execution_count": 29,
      "outputs": [
        {
          "output_type": "execute_result",
          "data": {
            "text/plain": [
              "RandomForestRegressor(bootstrap=True, ccp_alpha=0.0, criterion='mae',\n",
              "                      max_depth=None, max_features='auto', max_leaf_nodes=None,\n",
              "                      max_samples=None, min_impurity_decrease=0.0,\n",
              "                      min_impurity_split=None, min_samples_leaf=1,\n",
              "                      min_samples_split=2, min_weight_fraction_leaf=0.0,\n",
              "                      n_estimators=100, n_jobs=-1, oob_score=False,\n",
              "                      random_state=None, verbose=0, warm_start=False)"
            ]
          },
          "metadata": {},
          "execution_count": 29
        }
      ]
    },
    {
      "cell_type": "markdown",
      "metadata": {
        "id": "gvbPFKTiV6Ga"
      },
      "source": [
        "Executing time was 2minutes 5seconds"
      ]
    },
    {
      "cell_type": "code",
      "metadata": {
        "id": "TkbDKHtQcNIn"
      },
      "source": [
        "preds1_train_set = model1.predict(X_test)"
      ],
      "execution_count": 30,
      "outputs": []
    },
    {
      "cell_type": "code",
      "metadata": {
        "colab": {
          "base_uri": "https://localhost:8080/"
        },
        "id": "AXfH4zlpcX-c",
        "outputId": "076a17f9-33c0-4e24-fbc0-6e2c61fb2189"
      },
      "source": [
        "print (mean_absolute_error(preds1_train_set,y_test))"
      ],
      "execution_count": 31,
      "outputs": [
        {
          "output_type": "stream",
          "name": "stdout",
          "text": [
            "1.4013692946058092\n"
          ]
        }
      ]
    },
    {
      "cell_type": "markdown",
      "metadata": {
        "id": "uR6tKsHsWLOX"
      },
      "source": [
        "Model1 perfornance , had mean absolute error of 1.4040214384508989"
      ]
    },
    {
      "cell_type": "markdown",
      "metadata": {
        "id": "BVIL6FgjdEZ3"
      },
      "source": [
        "Experiment 2 , Developing model using XGBoosting"
      ]
    },
    {
      "cell_type": "code",
      "metadata": {
        "id": "LnHrFAGdWfJh"
      },
      "source": [
        "from xgboost import XGBRegressor"
      ],
      "execution_count": 32,
      "outputs": []
    },
    {
      "cell_type": "code",
      "metadata": {
        "id": "wVq3xlRDDj0i"
      },
      "source": [
        "model2=XGBRegressor(n_estimators=100, \n",
        "                          max_depth=8, \n",
        "                          learning_rate=0.1, \n",
        "                          subsample=0.5)"
      ],
      "execution_count": 33,
      "outputs": []
    },
    {
      "cell_type": "code",
      "metadata": {
        "colab": {
          "base_uri": "https://localhost:8080/"
        },
        "id": "UR4aDMfRDgmL",
        "outputId": "2a740fc6-bd31-4175-c04b-97a6c705f99e"
      },
      "source": [
        "#fiiting the model\n",
        "model2.fit(X_train, y_train)"
      ],
      "execution_count": 34,
      "outputs": [
        {
          "output_type": "stream",
          "name": "stdout",
          "text": [
            "[18:11:39] WARNING: /workspace/src/objective/regression_obj.cu:152: reg:linear is now deprecated in favor of reg:squarederror.\n"
          ]
        },
        {
          "output_type": "execute_result",
          "data": {
            "text/plain": [
              "XGBRegressor(base_score=0.5, booster='gbtree', colsample_bylevel=1,\n",
              "             colsample_bynode=1, colsample_bytree=1, gamma=0,\n",
              "             importance_type='gain', learning_rate=0.1, max_delta_step=0,\n",
              "             max_depth=8, min_child_weight=1, missing=None, n_estimators=100,\n",
              "             n_jobs=1, nthread=None, objective='reg:linear', random_state=0,\n",
              "             reg_alpha=0, reg_lambda=1, scale_pos_weight=1, seed=None,\n",
              "             silent=None, subsample=0.5, verbosity=1)"
            ]
          },
          "metadata": {},
          "execution_count": 34
        }
      ]
    },
    {
      "cell_type": "markdown",
      "metadata": {
        "id": "DxlHsF2lW0sF"
      },
      "source": [
        "Executing the model took one (1)sec"
      ]
    },
    {
      "cell_type": "code",
      "metadata": {
        "colab": {
          "base_uri": "https://localhost:8080/"
        },
        "id": "6A3jCmTgdL8W",
        "outputId": "95ffb927-aa2e-4158-b9eb-7203d867dc83"
      },
      "source": [
        "model2_pred =model2.predict(X_test)\n",
        "#Evaluate the model\n",
        "model2_pred\n",
        "#Get error rate\n",
        "print(\"Error rate of XGBRegressor:\",mean_absolute_error(model2_pred, y_test))"
      ],
      "execution_count": 35,
      "outputs": [
        {
          "output_type": "stream",
          "name": "stdout",
          "text": [
            "Error rate of XGBRegressor: 1.4527066\n"
          ]
        }
      ]
    },
    {
      "cell_type": "markdown",
      "metadata": {
        "id": "XalxcGqEXPNd"
      },
      "source": [
        "Model evaluation , Model2 two had 1.4527066 mae"
      ]
    },
    {
      "cell_type": "code",
      "metadata": {
        "id": "VssgnbLjdwYy"
      },
      "source": [
        ""
      ],
      "execution_count": null,
      "outputs": []
    },
    {
      "cell_type": "markdown",
      "metadata": {
        "id": "O3KmQ-fDdxHx"
      },
      "source": [
        "Experiment 3, On neural network"
      ]
    },
    {
      "cell_type": "code",
      "metadata": {
        "colab": {
          "base_uri": "https://localhost:8080/"
        },
        "id": "Inc_gP2xqMZU",
        "outputId": "48ef712a-c8e8-4de3-a040-fd56a9c6fc1b"
      },
      "source": [
        "# Set random seed\n",
        "tf.random.set_seed(42)\n",
        "\n",
        "# Replicate original model\n",
        "model_1 = tf.keras.Sequential([\n",
        "  tf.keras.layers.Dense(1)\n",
        "])\n",
        "\n",
        "# Compile the model\n",
        "model_1 .compile(loss=tf.keras.losses.mae,\n",
        "                optimizer=tf.keras.optimizers.Adam(),\n",
        "                metrics=['mae'])\n",
        "\n",
        "# Fit the model\n",
        "history = model_1 .fit(X_train, y_train, epochs=100)"
      ],
      "execution_count": 36,
      "outputs": [
        {
          "output_type": "stream",
          "name": "stdout",
          "text": [
            "Epoch 1/100\n",
            "181/181 [==============================] - 1s 1ms/step - loss: 1.8450 - mae: 1.8450\n",
            "Epoch 2/100\n",
            "181/181 [==============================] - 0s 1ms/step - loss: 1.4270 - mae: 1.4270\n",
            "Epoch 3/100\n",
            "181/181 [==============================] - 0s 1ms/step - loss: 1.3365 - mae: 1.3365\n",
            "Epoch 4/100\n",
            "181/181 [==============================] - 0s 1ms/step - loss: 1.2963 - mae: 1.2963\n",
            "Epoch 5/100\n",
            "181/181 [==============================] - 0s 1ms/step - loss: 1.2737 - mae: 1.2737\n",
            "Epoch 6/100\n",
            "181/181 [==============================] - 0s 1ms/step - loss: 1.2605 - mae: 1.2605\n",
            "Epoch 7/100\n",
            "181/181 [==============================] - 0s 1ms/step - loss: 1.2498 - mae: 1.2498\n",
            "Epoch 8/100\n",
            "181/181 [==============================] - 0s 997us/step - loss: 1.2421 - mae: 1.2421\n",
            "Epoch 9/100\n",
            "181/181 [==============================] - 0s 1ms/step - loss: 1.2335 - mae: 1.2335\n",
            "Epoch 10/100\n",
            "181/181 [==============================] - 0s 1ms/step - loss: 1.2272 - mae: 1.2272\n",
            "Epoch 11/100\n",
            "181/181 [==============================] - 0s 1ms/step - loss: 1.2223 - mae: 1.2223\n",
            "Epoch 12/100\n",
            "181/181 [==============================] - 0s 1ms/step - loss: 1.2146 - mae: 1.2146\n",
            "Epoch 13/100\n",
            "181/181 [==============================] - 0s 974us/step - loss: 1.2094 - mae: 1.2094\n",
            "Epoch 14/100\n",
            "181/181 [==============================] - 0s 971us/step - loss: 1.2046 - mae: 1.2046\n",
            "Epoch 15/100\n",
            "181/181 [==============================] - 0s 1ms/step - loss: 1.2014 - mae: 1.2014\n",
            "Epoch 16/100\n",
            "181/181 [==============================] - 0s 999us/step - loss: 1.1996 - mae: 1.1996\n",
            "Epoch 17/100\n",
            "181/181 [==============================] - 0s 1ms/step - loss: 1.1987 - mae: 1.1987\n",
            "Epoch 18/100\n",
            "181/181 [==============================] - 0s 1ms/step - loss: 1.1996 - mae: 1.1996\n",
            "Epoch 19/100\n",
            "181/181 [==============================] - 0s 1ms/step - loss: 1.1986 - mae: 1.1986\n",
            "Epoch 20/100\n",
            "181/181 [==============================] - 0s 1ms/step - loss: 1.1985 - mae: 1.1985\n",
            "Epoch 21/100\n",
            "181/181 [==============================] - 0s 1ms/step - loss: 1.1976 - mae: 1.1976\n",
            "Epoch 22/100\n",
            "181/181 [==============================] - 0s 1ms/step - loss: 1.1976 - mae: 1.1976\n",
            "Epoch 23/100\n",
            "181/181 [==============================] - 0s 990us/step - loss: 1.1988 - mae: 1.1988\n",
            "Epoch 24/100\n",
            "181/181 [==============================] - 0s 1ms/step - loss: 1.1984 - mae: 1.1984\n",
            "Epoch 25/100\n",
            "181/181 [==============================] - 0s 996us/step - loss: 1.1978 - mae: 1.1978\n",
            "Epoch 26/100\n",
            "181/181 [==============================] - 0s 1ms/step - loss: 1.2002 - mae: 1.2002\n",
            "Epoch 27/100\n",
            "181/181 [==============================] - 0s 1ms/step - loss: 1.1979 - mae: 1.1979\n",
            "Epoch 28/100\n",
            "181/181 [==============================] - 0s 1ms/step - loss: 1.1969 - mae: 1.1969\n",
            "Epoch 29/100\n",
            "181/181 [==============================] - 0s 1ms/step - loss: 1.1967 - mae: 1.1967\n",
            "Epoch 30/100\n",
            "181/181 [==============================] - 0s 1ms/step - loss: 1.1971 - mae: 1.1971\n",
            "Epoch 31/100\n",
            "181/181 [==============================] - 0s 1ms/step - loss: 1.1968 - mae: 1.1968\n",
            "Epoch 32/100\n",
            "181/181 [==============================] - 0s 1ms/step - loss: 1.1975 - mae: 1.1975\n",
            "Epoch 33/100\n",
            "181/181 [==============================] - 0s 985us/step - loss: 1.1963 - mae: 1.1963\n",
            "Epoch 34/100\n",
            "181/181 [==============================] - 0s 997us/step - loss: 1.1981 - mae: 1.1981\n",
            "Epoch 35/100\n",
            "181/181 [==============================] - 0s 1ms/step - loss: 1.1961 - mae: 1.1961\n",
            "Epoch 36/100\n",
            "181/181 [==============================] - 0s 984us/step - loss: 1.1969 - mae: 1.1969\n",
            "Epoch 37/100\n",
            "181/181 [==============================] - 0s 999us/step - loss: 1.1973 - mae: 1.1973\n",
            "Epoch 38/100\n",
            "181/181 [==============================] - 0s 1ms/step - loss: 1.1966 - mae: 1.1966\n",
            "Epoch 39/100\n",
            "181/181 [==============================] - 0s 1ms/step - loss: 1.1980 - mae: 1.1980\n",
            "Epoch 40/100\n",
            "181/181 [==============================] - 0s 1ms/step - loss: 1.1980 - mae: 1.1980\n",
            "Epoch 41/100\n",
            "181/181 [==============================] - 0s 1ms/step - loss: 1.1965 - mae: 1.1965\n",
            "Epoch 42/100\n",
            "181/181 [==============================] - 0s 1ms/step - loss: 1.1984 - mae: 1.1984\n",
            "Epoch 43/100\n",
            "181/181 [==============================] - 0s 1ms/step - loss: 1.1981 - mae: 1.1981\n",
            "Epoch 44/100\n",
            "181/181 [==============================] - 0s 961us/step - loss: 1.1959 - mae: 1.1959\n",
            "Epoch 45/100\n",
            "181/181 [==============================] - 0s 1ms/step - loss: 1.1968 - mae: 1.1968\n",
            "Epoch 46/100\n",
            "181/181 [==============================] - 0s 1ms/step - loss: 1.1981 - mae: 1.1981\n",
            "Epoch 47/100\n",
            "181/181 [==============================] - 0s 1ms/step - loss: 1.1967 - mae: 1.1967\n",
            "Epoch 48/100\n",
            "181/181 [==============================] - 0s 1ms/step - loss: 1.1979 - mae: 1.1979\n",
            "Epoch 49/100\n",
            "181/181 [==============================] - 0s 998us/step - loss: 1.1961 - mae: 1.1961\n",
            "Epoch 50/100\n",
            "181/181 [==============================] - 0s 1ms/step - loss: 1.1965 - mae: 1.1965\n",
            "Epoch 51/100\n",
            "181/181 [==============================] - 0s 1ms/step - loss: 1.1972 - mae: 1.1972\n",
            "Epoch 52/100\n",
            "181/181 [==============================] - 0s 1ms/step - loss: 1.1965 - mae: 1.1965\n",
            "Epoch 53/100\n",
            "181/181 [==============================] - 0s 1ms/step - loss: 1.1968 - mae: 1.1968\n",
            "Epoch 54/100\n",
            "181/181 [==============================] - 0s 1ms/step - loss: 1.1967 - mae: 1.1967\n",
            "Epoch 55/100\n",
            "181/181 [==============================] - 0s 1ms/step - loss: 1.1963 - mae: 1.1963\n",
            "Epoch 56/100\n",
            "181/181 [==============================] - 0s 1ms/step - loss: 1.1968 - mae: 1.1968\n",
            "Epoch 57/100\n",
            "181/181 [==============================] - 0s 1ms/step - loss: 1.1971 - mae: 1.1971\n",
            "Epoch 58/100\n",
            "181/181 [==============================] - 0s 1ms/step - loss: 1.1967 - mae: 1.1967\n",
            "Epoch 59/100\n",
            "181/181 [==============================] - 0s 1ms/step - loss: 1.1975 - mae: 1.1975\n",
            "Epoch 60/100\n",
            "181/181 [==============================] - 0s 1ms/step - loss: 1.1976 - mae: 1.1976\n",
            "Epoch 61/100\n",
            "181/181 [==============================] - 0s 963us/step - loss: 1.1960 - mae: 1.1960\n",
            "Epoch 62/100\n",
            "181/181 [==============================] - 0s 1ms/step - loss: 1.1974 - mae: 1.1974\n",
            "Epoch 63/100\n",
            "181/181 [==============================] - 0s 1ms/step - loss: 1.1987 - mae: 1.1987\n",
            "Epoch 64/100\n",
            "181/181 [==============================] - 0s 1ms/step - loss: 1.1960 - mae: 1.1960\n",
            "Epoch 65/100\n",
            "181/181 [==============================] - 0s 994us/step - loss: 1.1961 - mae: 1.1961\n",
            "Epoch 66/100\n",
            "181/181 [==============================] - 0s 988us/step - loss: 1.1969 - mae: 1.1969\n",
            "Epoch 67/100\n",
            "181/181 [==============================] - 0s 1ms/step - loss: 1.1961 - mae: 1.1961\n",
            "Epoch 68/100\n",
            "181/181 [==============================] - 0s 1ms/step - loss: 1.1956 - mae: 1.1956\n",
            "Epoch 69/100\n",
            "181/181 [==============================] - 0s 1ms/step - loss: 1.1958 - mae: 1.1958\n",
            "Epoch 70/100\n",
            "181/181 [==============================] - 0s 960us/step - loss: 1.1962 - mae: 1.1962\n",
            "Epoch 71/100\n",
            "181/181 [==============================] - 0s 1ms/step - loss: 1.1978 - mae: 1.1978\n",
            "Epoch 72/100\n",
            "181/181 [==============================] - 0s 1ms/step - loss: 1.1975 - mae: 1.1975\n",
            "Epoch 73/100\n",
            "181/181 [==============================] - 0s 1ms/step - loss: 1.1961 - mae: 1.1961\n",
            "Epoch 74/100\n",
            "181/181 [==============================] - 0s 1ms/step - loss: 1.1961 - mae: 1.1961\n",
            "Epoch 75/100\n",
            "181/181 [==============================] - 0s 1ms/step - loss: 1.1971 - mae: 1.1971\n",
            "Epoch 76/100\n",
            "181/181 [==============================] - 0s 996us/step - loss: 1.1958 - mae: 1.1958\n",
            "Epoch 77/100\n",
            "181/181 [==============================] - 0s 1ms/step - loss: 1.1961 - mae: 1.1961\n",
            "Epoch 78/100\n",
            "181/181 [==============================] - 0s 1ms/step - loss: 1.1971 - mae: 1.1971\n",
            "Epoch 79/100\n",
            "181/181 [==============================] - 0s 993us/step - loss: 1.1970 - mae: 1.1970\n",
            "Epoch 80/100\n",
            "181/181 [==============================] - 0s 1ms/step - loss: 1.1968 - mae: 1.1968\n",
            "Epoch 81/100\n",
            "181/181 [==============================] - 0s 963us/step - loss: 1.1964 - mae: 1.1964\n",
            "Epoch 82/100\n",
            "181/181 [==============================] - 0s 1ms/step - loss: 1.1969 - mae: 1.1969\n",
            "Epoch 83/100\n",
            "181/181 [==============================] - 0s 994us/step - loss: 1.1958 - mae: 1.1958\n",
            "Epoch 84/100\n",
            "181/181 [==============================] - 0s 987us/step - loss: 1.1958 - mae: 1.1958\n",
            "Epoch 85/100\n",
            "181/181 [==============================] - 0s 1ms/step - loss: 1.1970 - mae: 1.1970\n",
            "Epoch 86/100\n",
            "181/181 [==============================] - 0s 1ms/step - loss: 1.1968 - mae: 1.1968\n",
            "Epoch 87/100\n",
            "181/181 [==============================] - 0s 1ms/step - loss: 1.1971 - mae: 1.1971\n",
            "Epoch 88/100\n",
            "181/181 [==============================] - 0s 1ms/step - loss: 1.1962 - mae: 1.1962\n",
            "Epoch 89/100\n",
            "181/181 [==============================] - 0s 1ms/step - loss: 1.1974 - mae: 1.1974\n",
            "Epoch 90/100\n",
            "181/181 [==============================] - 0s 1ms/step - loss: 1.1974 - mae: 1.1974\n",
            "Epoch 91/100\n",
            "181/181 [==============================] - 0s 1ms/step - loss: 1.1965 - mae: 1.1965\n",
            "Epoch 92/100\n",
            "181/181 [==============================] - 0s 1ms/step - loss: 1.1957 - mae: 1.1957\n",
            "Epoch 93/100\n",
            "181/181 [==============================] - 0s 1ms/step - loss: 1.1966 - mae: 1.1966\n",
            "Epoch 94/100\n",
            "181/181 [==============================] - 0s 1ms/step - loss: 1.1976 - mae: 1.1976\n",
            "Epoch 95/100\n",
            "181/181 [==============================] - 0s 1ms/step - loss: 1.1965 - mae: 1.1965\n",
            "Epoch 96/100\n",
            "181/181 [==============================] - 0s 1ms/step - loss: 1.1960 - mae: 1.1960\n",
            "Epoch 97/100\n",
            "181/181 [==============================] - 0s 1ms/step - loss: 1.1958 - mae: 1.1958\n",
            "Epoch 98/100\n",
            "181/181 [==============================] - 0s 1ms/step - loss: 1.1964 - mae: 1.1964\n",
            "Epoch 99/100\n",
            "181/181 [==============================] - 0s 1ms/step - loss: 1.1963 - mae: 1.1963\n",
            "Epoch 100/100\n",
            "181/181 [==============================] - 0s 1ms/step - loss: 1.1965 - mae: 1.1965\n"
          ]
        }
      ]
    },
    {
      "cell_type": "code",
      "metadata": {
        "colab": {
          "base_uri": "https://localhost:8080/"
        },
        "id": "MyBjZK0ZY0ZX",
        "outputId": "ca023e96-a290-47a0-bbea-97df7381a21f"
      },
      "source": [
        "# Check the model summary\n",
        "model_1.summary()"
      ],
      "execution_count": 37,
      "outputs": [
        {
          "output_type": "stream",
          "name": "stdout",
          "text": [
            "Model: \"sequential\"\n",
            "_________________________________________________________________\n",
            "Layer (type)                 Output Shape              Param #   \n",
            "=================================================================\n",
            "dense (Dense)                (None, 1)                 30        \n",
            "=================================================================\n",
            "Total params: 30\n",
            "Trainable params: 30\n",
            "Non-trainable params: 0\n",
            "_________________________________________________________________\n"
          ]
        }
      ]
    },
    {
      "cell_type": "markdown",
      "metadata": {
        "id": "480ANpr3YGMF"
      },
      "source": [
        "Executing time was 20seconds"
      ]
    },
    {
      "cell_type": "code",
      "metadata": {
        "colab": {
          "base_uri": "https://localhost:8080/",
          "height": 201
        },
        "id": "JJ94wWjzZQqD",
        "outputId": "783d8e19-2532-497d-ae1a-58b1fdc6adb4"
      },
      "source": [
        "from tensorflow.keras.utils import plot_model\n",
        "\n",
        "plot_model(model_1, show_shapes=True)"
      ],
      "execution_count": 38,
      "outputs": [
        {
          "output_type": "execute_result",
          "data": {
            "image/png": "[encoded data removed]",
            "text/plain": [
              "<IPython.core.display.Image object>"
            ]
          },
          "metadata": {},
          "execution_count": 38
        }
      ]
    },
    {
      "cell_type": "code",
      "metadata": {
        "id": "6CHlGazWj3Hu"
      },
      "source": [
        ""
      ],
      "execution_count": null,
      "outputs": []
    },
    {
      "cell_type": "code",
      "metadata": {
        "colab": {
          "base_uri": "https://localhost:8080/"
        },
        "id": "SBXiPM1xqoRK",
        "outputId": "a39dff42-b4d4-4802-dbb2-9e342f153ae6"
      },
      "source": [
        "# Check the results of the  model\n",
        "model_1_loss, model_1_mae = model_1.evaluate(X_test, y_test)"
      ],
      "execution_count": 39,
      "outputs": [
        {
          "output_type": "stream",
          "name": "stdout",
          "text": [
            "46/46 [==============================] - 0s 907us/step - loss: 1.2325 - mae: 1.2325\n"
          ]
        }
      ]
    },
    {
      "cell_type": "markdown",
      "metadata": {
        "id": "PcujGqqLYRJ-"
      },
      "source": [
        "Model3 perfornance was mae: 1.2325"
      ]
    },
    {
      "cell_type": "code",
      "metadata": {
        "colab": {
          "base_uri": "https://localhost:8080/",
          "height": 313
        },
        "id": "AlgJTlcOsT8e",
        "outputId": "69b17601-9879-47b5-f8e5-da45ccd0b7f0"
      },
      "source": [
        "# Plot history (also known as a loss curve)\n",
        "\n",
        "pd.DataFrame(history.history).plot()\n",
        "plt.ylabel(\"loss\")\n",
        "plt.xlabel(\"epochs\");"
      ],
      "execution_count": 40,
      "outputs": [
        {
          "output_type": "display_data",
          "data": {
            "image/png": "[encoded data removed]",
            "text/plain": [
              "<Figure size 432x288 with 1 Axes>"
            ]
          },
          "metadata": {}
        }
      ]
    },
    {
      "cell_type": "code",
      "metadata": {
        "id": "S-zqg7l2cZ7z"
      },
      "source": [
        ""
      ],
      "execution_count": null,
      "outputs": []
    },
    {
      "cell_type": "code",
      "metadata": {
        "id": "lUfwpZITf_8F"
      },
      "source": [
        ""
      ],
      "execution_count": null,
      "outputs": []
    },
    {
      "cell_type": "markdown",
      "metadata": {
        "id": "MxUMQmt3GyEa"
      },
      "source": [
        "Model improvement , by increasing one more layer"
      ]
    },
    {
      "cell_type": "code",
      "metadata": {
        "id": "heJQ39DyfQp7"
      },
      "source": [
        ""
      ],
      "execution_count": null,
      "outputs": []
    },
    {
      "cell_type": "code",
      "metadata": {
        "colab": {
          "base_uri": "https://localhost:8080/"
        },
        "id": "YA-Lp9_KGuh5",
        "outputId": "4ba98641-3cb2-47e1-9542-625db8ea717f"
      },
      "source": [
        "# Set random seed\n",
        "tf.random.set_seed(42)\n",
        "\n",
        "# Replicate model_1 and add an extra layer\n",
        "model_2 = tf.keras.Sequential([\n",
        "  tf.keras.layers.Dense(1),\n",
        "  tf.keras.layers.Dense(1) # add a second layer\n",
        "])\n",
        "\n",
        "# Compile the model\n",
        "model_2.compile(loss=tf.keras.losses.mae,\n",
        "                optimizer=tf.keras.optimizers.Adam(),\n",
        "                metrics=['mae'])\n",
        "\n",
        "# Fit the model\n",
        "history = model_1.fit(X_train, y_train, epochs=100)"
      ],
      "execution_count": 41,
      "outputs": [
        {
          "output_type": "stream",
          "name": "stdout",
          "text": [
            "Epoch 1/100\n",
            "181/181 [==============================] - 0s 1ms/step - loss: 1.1967 - mae: 1.1967\n",
            "Epoch 2/100\n",
            "181/181 [==============================] - 0s 1ms/step - loss: 1.1968 - mae: 1.1968\n",
            "Epoch 3/100\n",
            "181/181 [==============================] - 0s 1ms/step - loss: 1.1978 - mae: 1.1978\n",
            "Epoch 4/100\n",
            "181/181 [==============================] - 0s 1ms/step - loss: 1.1976 - mae: 1.1976\n",
            "Epoch 5/100\n",
            "181/181 [==============================] - 0s 1ms/step - loss: 1.1974 - mae: 1.1974\n",
            "Epoch 6/100\n",
            "181/181 [==============================] - 0s 985us/step - loss: 1.1969 - mae: 1.1969\n",
            "Epoch 7/100\n",
            "181/181 [==============================] - 0s 1ms/step - loss: 1.1971 - mae: 1.1971\n",
            "Epoch 8/100\n",
            "181/181 [==============================] - 0s 1ms/step - loss: 1.1965 - mae: 1.1965\n",
            "Epoch 9/100\n",
            "181/181 [==============================] - 0s 1ms/step - loss: 1.1965 - mae: 1.1965\n",
            "Epoch 10/100\n",
            "181/181 [==============================] - 0s 1ms/step - loss: 1.1959 - mae: 1.1959\n",
            "Epoch 11/100\n",
            "181/181 [==============================] - 0s 1ms/step - loss: 1.1964 - mae: 1.1964\n",
            "Epoch 12/100\n",
            "181/181 [==============================] - 0s 995us/step - loss: 1.1965 - mae: 1.1965\n",
            "Epoch 13/100\n",
            "181/181 [==============================] - 0s 1ms/step - loss: 1.1961 - mae: 1.1961\n",
            "Epoch 14/100\n",
            "181/181 [==============================] - 0s 958us/step - loss: 1.1954 - mae: 1.1954\n",
            "Epoch 15/100\n",
            "181/181 [==============================] - 0s 1ms/step - loss: 1.1962 - mae: 1.1962\n",
            "Epoch 16/100\n",
            "181/181 [==============================] - 0s 1ms/step - loss: 1.1957 - mae: 1.1957\n",
            "Epoch 17/100\n",
            "181/181 [==============================] - 0s 993us/step - loss: 1.1969 - mae: 1.1969\n",
            "Epoch 18/100\n",
            "181/181 [==============================] - 0s 996us/step - loss: 1.1964 - mae: 1.1964\n",
            "Epoch 19/100\n",
            "181/181 [==============================] - 0s 1ms/step - loss: 1.1967 - mae: 1.1967\n",
            "Epoch 20/100\n",
            "181/181 [==============================] - 0s 1000us/step - loss: 1.1958 - mae: 1.1958\n",
            "Epoch 21/100\n",
            "181/181 [==============================] - 0s 1ms/step - loss: 1.1963 - mae: 1.1963\n",
            "Epoch 22/100\n",
            "181/181 [==============================] - 0s 980us/step - loss: 1.1962 - mae: 1.1962\n",
            "Epoch 23/100\n",
            "181/181 [==============================] - 0s 1000us/step - loss: 1.1964 - mae: 1.1964\n",
            "Epoch 24/100\n",
            "181/181 [==============================] - 0s 1ms/step - loss: 1.1969 - mae: 1.1969\n",
            "Epoch 25/100\n",
            "181/181 [==============================] - 0s 1ms/step - loss: 1.1967 - mae: 1.1967\n",
            "Epoch 26/100\n",
            "181/181 [==============================] - 0s 1ms/step - loss: 1.1992 - mae: 1.1992\n",
            "Epoch 27/100\n",
            "181/181 [==============================] - 0s 994us/step - loss: 1.1966 - mae: 1.1966\n",
            "Epoch 28/100\n",
            "181/181 [==============================] - 0s 1ms/step - loss: 1.1961 - mae: 1.1961\n",
            "Epoch 29/100\n",
            "181/181 [==============================] - 0s 1ms/step - loss: 1.1960 - mae: 1.1960\n",
            "Epoch 30/100\n",
            "181/181 [==============================] - 0s 1ms/step - loss: 1.1963 - mae: 1.1963\n",
            "Epoch 31/100\n",
            "181/181 [==============================] - 0s 1ms/step - loss: 1.1960 - mae: 1.1960\n",
            "Epoch 32/100\n",
            "181/181 [==============================] - 0s 1ms/step - loss: 1.1967 - mae: 1.1967\n",
            "Epoch 33/100\n",
            "181/181 [==============================] - 0s 1ms/step - loss: 1.1967 - mae: 1.1967\n",
            "Epoch 34/100\n",
            "181/181 [==============================] - 0s 1ms/step - loss: 1.1979 - mae: 1.1979\n",
            "Epoch 35/100\n",
            "181/181 [==============================] - 0s 1ms/step - loss: 1.1954 - mae: 1.1954\n",
            "Epoch 36/100\n",
            "181/181 [==============================] - 0s 1ms/step - loss: 1.1964 - mae: 1.1964\n",
            "Epoch 37/100\n",
            "181/181 [==============================] - 0s 1ms/step - loss: 1.1970 - mae: 1.1970\n",
            "Epoch 38/100\n",
            "181/181 [==============================] - 0s 1ms/step - loss: 1.1964 - mae: 1.1964\n",
            "Epoch 39/100\n",
            "181/181 [==============================] - 0s 1ms/step - loss: 1.1980 - mae: 1.1980\n",
            "Epoch 40/100\n",
            "181/181 [==============================] - 0s 1ms/step - loss: 1.1971 - mae: 1.1971\n",
            "Epoch 41/100\n",
            "181/181 [==============================] - 0s 1ms/step - loss: 1.1965 - mae: 1.1965\n",
            "Epoch 42/100\n",
            "181/181 [==============================] - 0s 1ms/step - loss: 1.1967 - mae: 1.1967\n",
            "Epoch 43/100\n",
            "181/181 [==============================] - 0s 1ms/step - loss: 1.1982 - mae: 1.1982\n",
            "Epoch 44/100\n",
            "181/181 [==============================] - 0s 1ms/step - loss: 1.1965 - mae: 1.1965\n",
            "Epoch 45/100\n",
            "181/181 [==============================] - 0s 1ms/step - loss: 1.1961 - mae: 1.1961\n",
            "Epoch 46/100\n",
            "181/181 [==============================] - 0s 1ms/step - loss: 1.1964 - mae: 1.1964\n",
            "Epoch 47/100\n",
            "181/181 [==============================] - 0s 1ms/step - loss: 1.1963 - mae: 1.1963\n",
            "Epoch 48/100\n",
            "181/181 [==============================] - 0s 1ms/step - loss: 1.1973 - mae: 1.1973\n",
            "Epoch 49/100\n",
            "181/181 [==============================] - 0s 979us/step - loss: 1.1957 - mae: 1.1957\n",
            "Epoch 50/100\n",
            "181/181 [==============================] - 0s 1ms/step - loss: 1.1959 - mae: 1.1959\n",
            "Epoch 51/100\n",
            "181/181 [==============================] - 0s 1ms/step - loss: 1.1973 - mae: 1.1973\n",
            "Epoch 52/100\n",
            "181/181 [==============================] - 0s 1ms/step - loss: 1.1964 - mae: 1.1964\n",
            "Epoch 53/100\n",
            "181/181 [==============================] - 0s 1ms/step - loss: 1.1965 - mae: 1.1965\n",
            "Epoch 54/100\n",
            "181/181 [==============================] - 0s 997us/step - loss: 1.1967 - mae: 1.1967\n",
            "Epoch 55/100\n",
            "181/181 [==============================] - 0s 1ms/step - loss: 1.1961 - mae: 1.1961\n",
            "Epoch 56/100\n",
            "181/181 [==============================] - 0s 1ms/step - loss: 1.1964 - mae: 1.1964\n",
            "Epoch 57/100\n",
            "181/181 [==============================] - 0s 1ms/step - loss: 1.1971 - mae: 1.1971\n",
            "Epoch 58/100\n",
            "181/181 [==============================] - 0s 1ms/step - loss: 1.1972 - mae: 1.1972\n",
            "Epoch 59/100\n",
            "181/181 [==============================] - 0s 1ms/step - loss: 1.1964 - mae: 1.1964\n",
            "Epoch 60/100\n",
            "181/181 [==============================] - 0s 1ms/step - loss: 1.1973 - mae: 1.1973\n",
            "Epoch 61/100\n",
            "181/181 [==============================] - 0s 1ms/step - loss: 1.1956 - mae: 1.1956\n",
            "Epoch 62/100\n",
            "181/181 [==============================] - 0s 1ms/step - loss: 1.1965 - mae: 1.1965\n",
            "Epoch 63/100\n",
            "181/181 [==============================] - 0s 1ms/step - loss: 1.1975 - mae: 1.1975\n",
            "Epoch 64/100\n",
            "181/181 [==============================] - 0s 1ms/step - loss: 1.1959 - mae: 1.1959\n",
            "Epoch 65/100\n",
            "181/181 [==============================] - 0s 1ms/step - loss: 1.1960 - mae: 1.1960\n",
            "Epoch 66/100\n",
            "181/181 [==============================] - 0s 960us/step - loss: 1.1966 - mae: 1.1966\n",
            "Epoch 67/100\n",
            "181/181 [==============================] - 0s 1ms/step - loss: 1.1958 - mae: 1.1958\n",
            "Epoch 68/100\n",
            "181/181 [==============================] - 0s 1ms/step - loss: 1.1960 - mae: 1.1960\n",
            "Epoch 69/100\n",
            "181/181 [==============================] - 0s 1ms/step - loss: 1.1965 - mae: 1.1965\n",
            "Epoch 70/100\n",
            "181/181 [==============================] - 0s 1ms/step - loss: 1.1964 - mae: 1.1964\n",
            "Epoch 71/100\n",
            "181/181 [==============================] - 0s 1ms/step - loss: 1.1970 - mae: 1.1970\n",
            "Epoch 72/100\n",
            "181/181 [==============================] - 0s 1ms/step - loss: 1.1975 - mae: 1.1975\n",
            "Epoch 73/100\n",
            "181/181 [==============================] - 0s 1ms/step - loss: 1.1965 - mae: 1.1965\n",
            "Epoch 74/100\n",
            "181/181 [==============================] - 0s 988us/step - loss: 1.1962 - mae: 1.1962\n",
            "Epoch 75/100\n",
            "181/181 [==============================] - 0s 1ms/step - loss: 1.1965 - mae: 1.1965\n",
            "Epoch 76/100\n",
            "181/181 [==============================] - 0s 1ms/step - loss: 1.1963 - mae: 1.1963\n",
            "Epoch 77/100\n",
            "181/181 [==============================] - 0s 1ms/step - loss: 1.1966 - mae: 1.1966\n",
            "Epoch 78/100\n",
            "181/181 [==============================] - 0s 1ms/step - loss: 1.1965 - mae: 1.1965\n",
            "Epoch 79/100\n",
            "181/181 [==============================] - 0s 1ms/step - loss: 1.1969 - mae: 1.1969\n",
            "Epoch 80/100\n",
            "181/181 [==============================] - 0s 993us/step - loss: 1.1963 - mae: 1.1963\n",
            "Epoch 81/100\n",
            "181/181 [==============================] - 0s 1ms/step - loss: 1.1962 - mae: 1.1962\n",
            "Epoch 82/100\n",
            "181/181 [==============================] - 0s 1ms/step - loss: 1.1969 - mae: 1.1969\n",
            "Epoch 83/100\n",
            "181/181 [==============================] - 0s 1ms/step - loss: 1.1960 - mae: 1.1960\n",
            "Epoch 84/100\n",
            "181/181 [==============================] - 0s 1ms/step - loss: 1.1972 - mae: 1.1972\n",
            "Epoch 85/100\n",
            "181/181 [==============================] - 0s 1ms/step - loss: 1.1970 - mae: 1.1970\n",
            "Epoch 86/100\n",
            "181/181 [==============================] - 0s 1ms/step - loss: 1.1962 - mae: 1.1962\n",
            "Epoch 87/100\n",
            "181/181 [==============================] - 0s 1ms/step - loss: 1.1962 - mae: 1.1962\n",
            "Epoch 88/100\n",
            "181/181 [==============================] - 0s 1ms/step - loss: 1.1966 - mae: 1.1966\n",
            "Epoch 89/100\n",
            "181/181 [==============================] - 0s 1ms/step - loss: 1.1973 - mae: 1.1973\n",
            "Epoch 90/100\n",
            "181/181 [==============================] - 0s 1ms/step - loss: 1.1971 - mae: 1.1971\n",
            "Epoch 91/100\n",
            "181/181 [==============================] - 0s 1ms/step - loss: 1.1958 - mae: 1.1958\n",
            "Epoch 92/100\n",
            "181/181 [==============================] - 0s 1ms/step - loss: 1.1960 - mae: 1.1960\n",
            "Epoch 93/100\n",
            "181/181 [==============================] - 0s 1ms/step - loss: 1.1966 - mae: 1.1966\n",
            "Epoch 94/100\n",
            "181/181 [==============================] - 0s 1ms/step - loss: 1.1974 - mae: 1.1974\n",
            "Epoch 95/100\n",
            "181/181 [==============================] - 0s 1ms/step - loss: 1.1975 - mae: 1.1975\n",
            "Epoch 96/100\n",
            "181/181 [==============================] - 0s 981us/step - loss: 1.1962 - mae: 1.1962\n",
            "Epoch 97/100\n",
            "181/181 [==============================] - 0s 1ms/step - loss: 1.1961 - mae: 1.1961\n",
            "Epoch 98/100\n",
            "181/181 [==============================] - 0s 1ms/step - loss: 1.1964 - mae: 1.1964\n",
            "Epoch 99/100\n",
            "181/181 [==============================] - 0s 1ms/step - loss: 1.1964 - mae: 1.1964\n",
            "Epoch 100/100\n",
            "181/181 [==============================] - 0s 1ms/step - loss: 1.1956 - mae: 1.1956\n"
          ]
        }
      ]
    },
    {
      "cell_type": "markdown",
      "metadata": {
        "id": "fNWXwjUafYb0"
      },
      "source": [
        "Executing time took 20 sec"
      ]
    },
    {
      "cell_type": "code",
      "metadata": {
        "colab": {
          "base_uri": "https://localhost:8080/"
        },
        "id": "pmzyNVUTHkYT",
        "outputId": "6a2d8f43-459e-4cfd-b140-cd985d811d89"
      },
      "source": [
        "# Check the results of the  model_2\n",
        "model_2_loss, model_2_mae = model_2.evaluate(X_test, y_test)"
      ],
      "execution_count": 42,
      "outputs": [
        {
          "output_type": "stream",
          "name": "stdout",
          "text": [
            "46/46 [==============================] - 0s 899us/step - loss: 2.0004 - mae: 2.0004\n"
          ]
        }
      ]
    },
    {
      "cell_type": "markdown",
      "metadata": {
        "id": "M-805RR0fv5X"
      },
      "source": [
        "Model perfornamce , Had mae: 2.0004\n",
        "\n",
        "1.  Model performance did not improve rather It has poor perforamance compaered to the previous models\n",
        "2.   This model is mis regarded\n",
        "\n"
      ]
    },
    {
      "cell_type": "markdown",
      "metadata": {
        "id": "YF3vjRm8gx5b"
      },
      "source": [
        "Making another Test"
      ]
    },
    {
      "cell_type": "code",
      "metadata": {
        "colab": {
          "base_uri": "https://localhost:8080/"
        },
        "id": "p1pQpDQZQ3eI",
        "outputId": "a62a235d-6b70-47ef-9ffa-4bef1c7d767a"
      },
      "source": [
        "# Set random seed\n",
        "tf.random.set_seed(42)\n",
        "\n",
        "# Build the model (3 layers, 100, 10, 1 units)\n",
        "model_3 = tf.keras.Sequential([\n",
        "  tf.keras.layers.Dense(100),\n",
        "  tf.keras.layers.Dense(10),\n",
        "  tf.keras.layers.Dense(1)\n",
        "])\n",
        "\n",
        "# Compile the model\n",
        "model_3.compile(loss=tf.keras.losses.mae,\n",
        "                          optimizer=tf.keras.optimizers.Adam(),\n",
        "                          metrics=['mae'])\n",
        "\n",
        "# Fit the model for 200 epochs (same as model_2)\n",
        "model_3.fit(X_train, y_train, epochs=100, verbose=0) \n"
      ],
      "execution_count": 43,
      "outputs": [
        {
          "output_type": "execute_result",
          "data": {
            "text/plain": [
              "<keras.callbacks.History at 0x7faa65aaac50>"
            ]
          },
          "metadata": {},
          "execution_count": 43
        }
      ]
    },
    {
      "cell_type": "markdown",
      "metadata": {
        "id": "3kxRQ5f2hjBL"
      },
      "source": [
        "Execuation time 20 sec"
      ]
    },
    {
      "cell_type": "markdown",
      "metadata": {
        "id": "k4fzabIoiABj"
      },
      "source": [
        ""
      ]
    },
    {
      "cell_type": "code",
      "metadata": {
        "colab": {
          "base_uri": "https://localhost:8080/"
        },
        "id": "jIaP4nvQRKpB",
        "outputId": "eb034ede-a540-45ac-9b3a-01af62f96b0c"
      },
      "source": [
        "model_3_loss, model_3_mae = model_3.evaluate(X_test, y_test)"
      ],
      "execution_count": 44,
      "outputs": [
        {
          "output_type": "stream",
          "name": "stdout",
          "text": [
            "46/46 [==============================] - 0s 1ms/step - loss: 1.2372 - mae: 1.2372\n"
          ]
        }
      ]
    },
    {
      "cell_type": "markdown",
      "metadata": {
        "id": "Tiwz1VsXhtjI"
      },
      "source": [
        "Model performance was  mae: 1.2372"
      ]
    },
    {
      "cell_type": "markdown",
      "metadata": {
        "id": "s_RkiINTTBZf"
      },
      "source": [
        "Reapiting the same procedures by using nomalized data, To see if there will be any improvement"
      ]
    },
    {
      "cell_type": "code",
      "metadata": {
        "id": "nGr5MsxJTJiz"
      },
      "source": [
        "import pandas as pd\n",
        "import matplotlib.pyplot as plt\n",
        "import tensorflow as tf\n"
      ],
      "execution_count": 45,
      "outputs": []
    },
    {
      "cell_type": "code",
      "metadata": {
        "colab": {
          "resources": {
            "http://localhost:8080/nbextensions/google.colab/files.js": {
              "data": "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",
              "ok": true,
              "headers": [
                [
                  "content-type",
                  "application/javascript"
                ]
              ],
              "status": 200,
              "status_text": ""
            }
          },
          "base_uri": "https://localhost:8080/",
          "height": 73
        },
        "id": "qhj3ugepTz__",
        "outputId": "1f398f0f-c989-4941-fcee-3914be8921fd"
      },
      "source": [
        "# Get SCV FILE\n",
        "from google.colab import files\n",
        "uploaded = files.upload()"
      ],
      "execution_count": 46,
      "outputs": [
        {
          "output_type": "display_data",
          "data": {
            "text/html": [
              "\n",
              "     <input type=\"file\" id=\"files-456732cb-e0e0-4efa-a334-b46bd649a51a\" name=\"files[]\" multiple disabled\n",
              "        style=\"border:none\" />\n",
              "     <output id=\"result-456732cb-e0e0-4efa-a334-b46bd649a51a\">\n",
              "      Upload widget is only available when the cell has been executed in the\n",
              "      current browser session. Please rerun this cell to enable.\n",
              "      </output>\n",
              "      <script src=\"/nbextensions/google.colab/files.js\"></script> "
            ],
            "text/plain": [
              "<IPython.core.display.HTML object>"
            ]
          },
          "metadata": {}
        },
        {
          "output_type": "stream",
          "name": "stdout",
          "text": [
            "Saving index_contacts_new.csv to index_contacts_new (1).csv\n"
          ]
        }
      ]
    },
    {
      "cell_type": "code",
      "metadata": {
        "colab": {
          "base_uri": "https://localhost:8080/",
          "height": 617
        },
        "id": "Vii1EfxSUCZf",
        "outputId": "36f5ca0b-e1e7-4479-b00d-9c86b952cae9"
      },
      "source": [
        "import io\n",
        "Index_data = pd.read_csv(io.BytesIO(uploaded['index_contacts_new.csv']))\n",
        "# Dataset is now stored in a Pandas Dataframe\n",
        "Index_data"
      ],
      "execution_count": 48,
      "outputs": [
        {
          "output_type": "execute_result",
          "data": {
            "text/html": [
              "<div>\n",
              "<style scoped>\n",
              "    .dataframe tbody tr th:only-of-type {\n",
              "        vertical-align: middle;\n",
              "    }\n",
              "\n",
              "    .dataframe tbody tr th {\n",
              "        vertical-align: top;\n",
              "    }\n",
              "\n",
              "    .dataframe thead th {\n",
              "        text-align: right;\n",
              "    }\n",
              "</style>\n",
              "<table border=\"1\" class=\"dataframe\">\n",
              "  <thead>\n",
              "    <tr style=\"text-align: right;\">\n",
              "      <th></th>\n",
              "      <th>client_id</th>\n",
              "      <th>Hiv_Index_Contact_Registration</th>\n",
              "      <th>Date</th>\n",
              "      <th>Site</th>\n",
              "      <th>Region</th>\n",
              "      <th>Sex_of_Index</th>\n",
              "      <th>Age_of_client_index</th>\n",
              "      <th>Type_ of_ relationship</th>\n",
              "      <th>Hiv_status</th>\n",
              "    </tr>\n",
              "  </thead>\n",
              "  <tbody>\n",
              "    <tr>\n",
              "      <th>0</th>\n",
              "      <td>468</td>\n",
              "      <td>Hiv Index Contact Registration</td>\n",
              "      <td>9/16/2020 3:00</td>\n",
              "      <td>levolosihcw</td>\n",
              "      <td>Arusha</td>\n",
              "      <td>Female</td>\n",
              "      <td>45</td>\n",
              "      <td>sexual_partner</td>\n",
              "      <td>unknown</td>\n",
              "    </tr>\n",
              "    <tr>\n",
              "      <th>1</th>\n",
              "      <td>469</td>\n",
              "      <td>Hiv Index Contact Registration</td>\n",
              "      <td>9/16/2020 3:00</td>\n",
              "      <td>levolosihcw</td>\n",
              "      <td>Arusha</td>\n",
              "      <td>Female</td>\n",
              "      <td>39</td>\n",
              "      <td>sexual_partner</td>\n",
              "      <td>unknown</td>\n",
              "    </tr>\n",
              "    <tr>\n",
              "      <th>2</th>\n",
              "      <td>469</td>\n",
              "      <td>Hiv Index Contact Registration</td>\n",
              "      <td>9/16/2020 3:00</td>\n",
              "      <td>levolosihcw</td>\n",
              "      <td>Arusha</td>\n",
              "      <td>Female</td>\n",
              "      <td>57</td>\n",
              "      <td>sexual_partner</td>\n",
              "      <td>unknown</td>\n",
              "    </tr>\n",
              "    <tr>\n",
              "      <th>3</th>\n",
              "      <td>469</td>\n",
              "      <td>Hiv Index Contact Registration</td>\n",
              "      <td>9/16/2020 3:00</td>\n",
              "      <td>levolosihcw</td>\n",
              "      <td>Arusha</td>\n",
              "      <td>Female</td>\n",
              "      <td>15</td>\n",
              "      <td>biological_child_under_15</td>\n",
              "      <td>unknown</td>\n",
              "    </tr>\n",
              "    <tr>\n",
              "      <th>4</th>\n",
              "      <td>469</td>\n",
              "      <td>Hiv Index Contact Registration</td>\n",
              "      <td>9/16/2020 3:00</td>\n",
              "      <td>levolosihcw</td>\n",
              "      <td>Arusha</td>\n",
              "      <td>Female</td>\n",
              "      <td>60</td>\n",
              "      <td>sexual_partner</td>\n",
              "      <td>unknown</td>\n",
              "    </tr>\n",
              "    <tr>\n",
              "      <th>...</th>\n",
              "      <td>...</td>\n",
              "      <td>...</td>\n",
              "      <td>...</td>\n",
              "      <td>...</td>\n",
              "      <td>...</td>\n",
              "      <td>...</td>\n",
              "      <td>...</td>\n",
              "      <td>...</td>\n",
              "      <td>...</td>\n",
              "    </tr>\n",
              "    <tr>\n",
              "      <th>7223</th>\n",
              "      <td>4504</td>\n",
              "      <td>Hiv Index Contact Registration</td>\n",
              "      <td>9/16/2020 3:00</td>\n",
              "      <td>maguguhcw</td>\n",
              "      <td>Manyara</td>\n",
              "      <td>Female</td>\n",
              "      <td>25</td>\n",
              "      <td>sexual_partner</td>\n",
              "      <td>unknown</td>\n",
              "    </tr>\n",
              "    <tr>\n",
              "      <th>7224</th>\n",
              "      <td>4505</td>\n",
              "      <td>Hiv Index Contact Registration</td>\n",
              "      <td>9/16/2020 3:00</td>\n",
              "      <td>maguguhcw</td>\n",
              "      <td>Manyara</td>\n",
              "      <td>Female</td>\n",
              "      <td>36</td>\n",
              "      <td>sexual_partner</td>\n",
              "      <td>unknown</td>\n",
              "    </tr>\n",
              "    <tr>\n",
              "      <th>7225</th>\n",
              "      <td>4505</td>\n",
              "      <td>Hiv Index Contact Registration</td>\n",
              "      <td>9/16/2020 3:00</td>\n",
              "      <td>maguguhcw</td>\n",
              "      <td>Manyara</td>\n",
              "      <td>Male</td>\n",
              "      <td>43</td>\n",
              "      <td>sexual_partner</td>\n",
              "      <td>unknown</td>\n",
              "    </tr>\n",
              "    <tr>\n",
              "      <th>7226</th>\n",
              "      <td>4498</td>\n",
              "      <td>Hiv Index Contact Registration</td>\n",
              "      <td>9/16/2020 3:00</td>\n",
              "      <td>maguguhcw</td>\n",
              "      <td>Manyara</td>\n",
              "      <td>Female</td>\n",
              "      <td>61</td>\n",
              "      <td>sexual_partner</td>\n",
              "      <td>unknown</td>\n",
              "    </tr>\n",
              "    <tr>\n",
              "      <th>7227</th>\n",
              "      <td>4498</td>\n",
              "      <td>Hiv Index Contact Registration</td>\n",
              "      <td>9/16/2020 3:00</td>\n",
              "      <td>maguguhcw</td>\n",
              "      <td>Manyara</td>\n",
              "      <td>Female</td>\n",
              "      <td>50</td>\n",
              "      <td>sexual_partner</td>\n",
              "      <td>unknown</td>\n",
              "    </tr>\n",
              "  </tbody>\n",
              "</table>\n",
              "<p>7228 rows × 9 columns</p>\n",
              "</div>"
            ],
            "text/plain": [
              "      client_id  ... Hiv_status\n",
              "0           468  ...    unknown\n",
              "1           469  ...    unknown\n",
              "2           469  ...    unknown\n",
              "3           469  ...    unknown\n",
              "4           469  ...    unknown\n",
              "...         ...  ...        ...\n",
              "7223       4504  ...    unknown\n",
              "7224       4505  ...    unknown\n",
              "7225       4505  ...    unknown\n",
              "7226       4498  ...    unknown\n",
              "7227       4498  ...    unknown\n",
              "\n",
              "[7228 rows x 9 columns]"
            ]
          },
          "metadata": {},
          "execution_count": 48
        }
      ]
    },
    {
      "cell_type": "code",
      "metadata": {
        "id": "DJpMlj-FUoS5"
      },
      "source": [
        "#Adding the target colunm\n",
        "client_id_dict = {} \n",
        "for client_id in Index_data[\"client_id\"]:\n",
        "    if not client_id in client_id_dict:\n",
        "        client_id_dict[client_id] = 1\n",
        "    else:\n",
        "        client_id_dict[client_id] += 1\n",
        "        client_id_dict"
      ],
      "execution_count": 49,
      "outputs": []
    },
    {
      "cell_type": "code",
      "metadata": {
        "id": "MOXJvcy-UxWA"
      },
      "source": [
        "for i in range(len(Index_data)):\n",
        "    client_id = Index_data.loc[i][\"client_id\"]\n",
        "    Index_data.at[i,\"number_of_Hivindex\"] = client_id_dict[client_id]"
      ],
      "execution_count": 50,
      "outputs": []
    },
    {
      "cell_type": "code",
      "metadata": {
        "colab": {
          "base_uri": "https://localhost:8080/",
          "height": 322
        },
        "id": "U4rQo_1NVDRA",
        "outputId": "c8b4b8c1-714a-40dd-95df-4bc31e407098"
      },
      "source": [
        "Index_data.head()"
      ],
      "execution_count": 51,
      "outputs": [
        {
          "output_type": "execute_result",
          "data": {
            "text/html": [
              "<div>\n",
              "<style scoped>\n",
              "    .dataframe tbody tr th:only-of-type {\n",
              "        vertical-align: middle;\n",
              "    }\n",
              "\n",
              "    .dataframe tbody tr th {\n",
              "        vertical-align: top;\n",
              "    }\n",
              "\n",
              "    .dataframe thead th {\n",
              "        text-align: right;\n",
              "    }\n",
              "</style>\n",
              "<table border=\"1\" class=\"dataframe\">\n",
              "  <thead>\n",
              "    <tr style=\"text-align: right;\">\n",
              "      <th></th>\n",
              "      <th>client_id</th>\n",
              "      <th>Hiv_Index_Contact_Registration</th>\n",
              "      <th>Date</th>\n",
              "      <th>Site</th>\n",
              "      <th>Region</th>\n",
              "      <th>Sex_of_Index</th>\n",
              "      <th>Age_of_client_index</th>\n",
              "      <th>Type_ of_ relationship</th>\n",
              "      <th>Hiv_status</th>\n",
              "      <th>number_of_Hivindex</th>\n",
              "    </tr>\n",
              "  </thead>\n",
              "  <tbody>\n",
              "    <tr>\n",
              "      <th>0</th>\n",
              "      <td>468</td>\n",
              "      <td>Hiv Index Contact Registration</td>\n",
              "      <td>9/16/2020 3:00</td>\n",
              "      <td>levolosihcw</td>\n",
              "      <td>Arusha</td>\n",
              "      <td>Female</td>\n",
              "      <td>45</td>\n",
              "      <td>sexual_partner</td>\n",
              "      <td>unknown</td>\n",
              "      <td>1.0</td>\n",
              "    </tr>\n",
              "    <tr>\n",
              "      <th>1</th>\n",
              "      <td>469</td>\n",
              "      <td>Hiv Index Contact Registration</td>\n",
              "      <td>9/16/2020 3:00</td>\n",
              "      <td>levolosihcw</td>\n",
              "      <td>Arusha</td>\n",
              "      <td>Female</td>\n",
              "      <td>39</td>\n",
              "      <td>sexual_partner</td>\n",
              "      <td>unknown</td>\n",
              "      <td>4.0</td>\n",
              "    </tr>\n",
              "    <tr>\n",
              "      <th>2</th>\n",
              "      <td>469</td>\n",
              "      <td>Hiv Index Contact Registration</td>\n",
              "      <td>9/16/2020 3:00</td>\n",
              "      <td>levolosihcw</td>\n",
              "      <td>Arusha</td>\n",
              "      <td>Female</td>\n",
              "      <td>57</td>\n",
              "      <td>sexual_partner</td>\n",
              "      <td>unknown</td>\n",
              "      <td>4.0</td>\n",
              "    </tr>\n",
              "    <tr>\n",
              "      <th>3</th>\n",
              "      <td>469</td>\n",
              "      <td>Hiv Index Contact Registration</td>\n",
              "      <td>9/16/2020 3:00</td>\n",
              "      <td>levolosihcw</td>\n",
              "      <td>Arusha</td>\n",
              "      <td>Female</td>\n",
              "      <td>15</td>\n",
              "      <td>biological_child_under_15</td>\n",
              "      <td>unknown</td>\n",
              "      <td>4.0</td>\n",
              "    </tr>\n",
              "    <tr>\n",
              "      <th>4</th>\n",
              "      <td>469</td>\n",
              "      <td>Hiv Index Contact Registration</td>\n",
              "      <td>9/16/2020 3:00</td>\n",
              "      <td>levolosihcw</td>\n",
              "      <td>Arusha</td>\n",
              "      <td>Female</td>\n",
              "      <td>60</td>\n",
              "      <td>sexual_partner</td>\n",
              "      <td>unknown</td>\n",
              "      <td>4.0</td>\n",
              "    </tr>\n",
              "  </tbody>\n",
              "</table>\n",
              "</div>"
            ],
            "text/plain": [
              "   client_id  Hiv_Index_Contact_Registration  ... Hiv_status number_of_Hivindex\n",
              "0        468  Hiv Index Contact Registration  ...    unknown                1.0\n",
              "1        469  Hiv Index Contact Registration  ...    unknown                4.0\n",
              "2        469  Hiv Index Contact Registration  ...    unknown                4.0\n",
              "3        469  Hiv Index Contact Registration  ...    unknown                4.0\n",
              "4        469  Hiv Index Contact Registration  ...    unknown                4.0\n",
              "\n",
              "[5 rows x 10 columns]"
            ]
          },
          "metadata": {},
          "execution_count": 51
        }
      ]
    },
    {
      "cell_type": "code",
      "metadata": {
        "id": "vbLruKvXVk1C"
      },
      "source": [
        "# We drop some coloumns which have no impact to our target\n",
        "data = Index_data.drop(columns=['client_id' ,'Hiv_Index_Contact_Registration','Date'])\n",
        "data"
      ],
      "execution_count": null,
      "outputs": []
    },
    {
      "cell_type": "code",
      "metadata": {
        "colab": {
          "base_uri": "https://localhost:8080/",
          "height": 238
        },
        "id": "r4DIaVlU8TDY",
        "outputId": "fa4aa677-5566-46c4-a82c-338a457268c6"
      },
      "source": [
        "# Turn all categories into numbers\n",
        "data_one_hot = pd.get_dummies(data)\n",
        "data_one_hot.head() # view the converted columns"
      ],
      "execution_count": 53,
      "outputs": [
        {
          "output_type": "execute_result",
          "data": {
            "text/html": [
              "<div>\n",
              "<style scoped>\n",
              "    .dataframe tbody tr th:only-of-type {\n",
              "        vertical-align: middle;\n",
              "    }\n",
              "\n",
              "    .dataframe tbody tr th {\n",
              "        vertical-align: top;\n",
              "    }\n",
              "\n",
              "    .dataframe thead th {\n",
              "        text-align: right;\n",
              "    }\n",
              "</style>\n",
              "<table border=\"1\" class=\"dataframe\">\n",
              "  <thead>\n",
              "    <tr style=\"text-align: right;\">\n",
              "      <th></th>\n",
              "      <th>Age_of_client_index</th>\n",
              "      <th>number_of_Hivindex</th>\n",
              "      <th>Site_Babatihcw</th>\n",
              "      <th>Site_Haihcw</th>\n",
              "      <th>Site_Himohcw</th>\n",
              "      <th>Site_Majengo</th>\n",
              "      <th>Site_Majengohcw</th>\n",
              "      <th>Site_Manyarahcw</th>\n",
              "      <th>Site_Mawenzi</th>\n",
              "      <th>Site_Meru</th>\n",
              "      <th>Site_Mtmerufacility</th>\n",
              "      <th>Site_Mwanga</th>\n",
              "      <th>Site_PTC</th>\n",
              "      <th>Site_St.Elizabeth</th>\n",
              "      <th>Site_St.Joseph</th>\n",
              "      <th>Site_TPC</th>\n",
              "      <th>Site_elipendohcw</th>\n",
              "      <th>Site_levolosihcw</th>\n",
              "      <th>Site_maguguhcw</th>\n",
              "      <th>Region_Arusha</th>\n",
              "      <th>Region_Kilimanjaro</th>\n",
              "      <th>Region_Manyara</th>\n",
              "      <th>Sex_of_Index_Female</th>\n",
              "      <th>Sex_of_Index_Male</th>\n",
              "      <th>Type_ of_ relationship_biological_child_under_15</th>\n",
              "      <th>Type_ of_ relationship_drugs_injecting_partner</th>\n",
              "      <th>Type_ of_ relationship_sexual_partner</th>\n",
              "      <th>Hiv_status_negative</th>\n",
              "      <th>Hiv_status_positive</th>\n",
              "      <th>Hiv_status_unknown</th>\n",
              "    </tr>\n",
              "  </thead>\n",
              "  <tbody>\n",
              "    <tr>\n",
              "      <th>0</th>\n",
              "      <td>45</td>\n",
              "      <td>1.0</td>\n",
              "      <td>0</td>\n",
              "      <td>0</td>\n",
              "      <td>0</td>\n",
              "      <td>0</td>\n",
              "      <td>0</td>\n",
              "      <td>0</td>\n",
              "      <td>0</td>\n",
              "      <td>0</td>\n",
              "      <td>0</td>\n",
              "      <td>0</td>\n",
              "      <td>0</td>\n",
              "      <td>0</td>\n",
              "      <td>0</td>\n",
              "      <td>0</td>\n",
              "      <td>0</td>\n",
              "      <td>1</td>\n",
              "      <td>0</td>\n",
              "      <td>1</td>\n",
              "      <td>0</td>\n",
              "      <td>0</td>\n",
              "      <td>1</td>\n",
              "      <td>0</td>\n",
              "      <td>0</td>\n",
              "      <td>0</td>\n",
              "      <td>1</td>\n",
              "      <td>0</td>\n",
              "      <td>0</td>\n",
              "      <td>1</td>\n",
              "    </tr>\n",
              "    <tr>\n",
              "      <th>1</th>\n",
              "      <td>39</td>\n",
              "      <td>4.0</td>\n",
              "      <td>0</td>\n",
              "      <td>0</td>\n",
              "      <td>0</td>\n",
              "      <td>0</td>\n",
              "      <td>0</td>\n",
              "      <td>0</td>\n",
              "      <td>0</td>\n",
              "      <td>0</td>\n",
              "      <td>0</td>\n",
              "      <td>0</td>\n",
              "      <td>0</td>\n",
              "      <td>0</td>\n",
              "      <td>0</td>\n",
              "      <td>0</td>\n",
              "      <td>0</td>\n",
              "      <td>1</td>\n",
              "      <td>0</td>\n",
              "      <td>1</td>\n",
              "      <td>0</td>\n",
              "      <td>0</td>\n",
              "      <td>1</td>\n",
              "      <td>0</td>\n",
              "      <td>0</td>\n",
              "      <td>0</td>\n",
              "      <td>1</td>\n",
              "      <td>0</td>\n",
              "      <td>0</td>\n",
              "      <td>1</td>\n",
              "    </tr>\n",
              "    <tr>\n",
              "      <th>2</th>\n",
              "      <td>57</td>\n",
              "      <td>4.0</td>\n",
              "      <td>0</td>\n",
              "      <td>0</td>\n",
              "      <td>0</td>\n",
              "      <td>0</td>\n",
              "      <td>0</td>\n",
              "      <td>0</td>\n",
              "      <td>0</td>\n",
              "      <td>0</td>\n",
              "      <td>0</td>\n",
              "      <td>0</td>\n",
              "      <td>0</td>\n",
              "      <td>0</td>\n",
              "      <td>0</td>\n",
              "      <td>0</td>\n",
              "      <td>0</td>\n",
              "      <td>1</td>\n",
              "      <td>0</td>\n",
              "      <td>1</td>\n",
              "      <td>0</td>\n",
              "      <td>0</td>\n",
              "      <td>1</td>\n",
              "      <td>0</td>\n",
              "      <td>0</td>\n",
              "      <td>0</td>\n",
              "      <td>1</td>\n",
              "      <td>0</td>\n",
              "      <td>0</td>\n",
              "      <td>1</td>\n",
              "    </tr>\n",
              "    <tr>\n",
              "      <th>3</th>\n",
              "      <td>15</td>\n",
              "      <td>4.0</td>\n",
              "      <td>0</td>\n",
              "      <td>0</td>\n",
              "      <td>0</td>\n",
              "      <td>0</td>\n",
              "      <td>0</td>\n",
              "      <td>0</td>\n",
              "      <td>0</td>\n",
              "      <td>0</td>\n",
              "      <td>0</td>\n",
              "      <td>0</td>\n",
              "      <td>0</td>\n",
              "      <td>0</td>\n",
              "      <td>0</td>\n",
              "      <td>0</td>\n",
              "      <td>0</td>\n",
              "      <td>1</td>\n",
              "      <td>0</td>\n",
              "      <td>1</td>\n",
              "      <td>0</td>\n",
              "      <td>0</td>\n",
              "      <td>1</td>\n",
              "      <td>0</td>\n",
              "      <td>1</td>\n",
              "      <td>0</td>\n",
              "      <td>0</td>\n",
              "      <td>0</td>\n",
              "      <td>0</td>\n",
              "      <td>1</td>\n",
              "    </tr>\n",
              "    <tr>\n",
              "      <th>4</th>\n",
              "      <td>60</td>\n",
              "      <td>4.0</td>\n",
              "      <td>0</td>\n",
              "      <td>0</td>\n",
              "      <td>0</td>\n",
              "      <td>0</td>\n",
              "      <td>0</td>\n",
              "      <td>0</td>\n",
              "      <td>0</td>\n",
              "      <td>0</td>\n",
              "      <td>0</td>\n",
              "      <td>0</td>\n",
              "      <td>0</td>\n",
              "      <td>0</td>\n",
              "      <td>0</td>\n",
              "      <td>0</td>\n",
              "      <td>0</td>\n",
              "      <td>1</td>\n",
              "      <td>0</td>\n",
              "      <td>1</td>\n",
              "      <td>0</td>\n",
              "      <td>0</td>\n",
              "      <td>1</td>\n",
              "      <td>0</td>\n",
              "      <td>0</td>\n",
              "      <td>0</td>\n",
              "      <td>1</td>\n",
              "      <td>0</td>\n",
              "      <td>0</td>\n",
              "      <td>1</td>\n",
              "    </tr>\n",
              "  </tbody>\n",
              "</table>\n",
              "</div>"
            ],
            "text/plain": [
              "   Age_of_client_index  ...  Hiv_status_unknown\n",
              "0                   45  ...                   1\n",
              "1                   39  ...                   1\n",
              "2                   57  ...                   1\n",
              "3                   15  ...                   1\n",
              "4                   60  ...                   1\n",
              "\n",
              "[5 rows x 30 columns]"
            ]
          },
          "metadata": {},
          "execution_count": 53
        }
      ]
    },
    {
      "cell_type": "code",
      "metadata": {
        "id": "Qs6M8CrpBPEO"
      },
      "source": [
        "# Create X & y values\n",
        "X = data_one_hot.drop(['number_of_Hivindex'], axis=1)\n",
        "y = data_one_hot['number_of_Hivindex']"
      ],
      "execution_count": 54,
      "outputs": []
    },
    {
      "cell_type": "code",
      "metadata": {
        "id": "vuWTsUfTaAgu"
      },
      "source": [
        "from sklearn.preprocessing import MinMaxScaler\n",
        "# Build our train and test sets (use random state to ensure same split as before)\n",
        "X_train, X_test, y_train, y_test = train_test_split(X, y, test_size=0.2, random_state=42)\n",
        "scaler = MinMaxScaler(feature_range=(0, 1))\n",
        "X_train_scaled = scaler.fit_transform(X_train)\n",
        "X_test_scaled = scaler.fit_transform(X_test)\n",
        "\n",
        "\n",
        "\n",
        "\n",
        "\n"
      ],
      "execution_count": 55,
      "outputs": []
    },
    {
      "cell_type": "code",
      "metadata": {
        "colab": {
          "base_uri": "https://localhost:8080/"
        },
        "id": "G7e1F7-PIIaq",
        "outputId": "ae85e321-b08c-4bc5-93d8-1283eb6ca074"
      },
      "source": [
        "# show scaled train set \n",
        "X_train_scaled[:1]"
      ],
      "execution_count": 56,
      "outputs": [
        {
          "output_type": "execute_result",
          "data": {
            "text/plain": [
              "array([[0.02816901, 0.        , 0.        , 0.        , 0.        ,\n",
              "        0.        , 0.        , 0.        , 0.        , 0.        ,\n",
              "        0.        , 0.        , 0.        , 0.        , 0.        ,\n",
              "        0.        , 0.        , 1.        , 0.        , 0.        ,\n",
              "        1.        , 1.        , 0.        , 1.        , 0.        ,\n",
              "        0.        , 0.        , 1.        , 0.        ]])"
            ]
          },
          "metadata": {},
          "execution_count": 56
        }
      ]
    },
    {
      "cell_type": "code",
      "metadata": {
        "colab": {
          "base_uri": "https://localhost:8080/"
        },
        "id": "EA8TrKtry9i-",
        "outputId": "b89720ef-9ff9-4ac6-97a1-516cd11e4d01"
      },
      "source": [
        " #show the shape after scalling \n",
        "\n",
        "print(\"Train set: {}\".format(X_train_scaled.shape))\n",
        "print(\"Test set: {}\".format(X_test_scaled.shape)) "
      ],
      "execution_count": 57,
      "outputs": [
        {
          "output_type": "stream",
          "name": "stdout",
          "text": [
            "Train set: (5782, 29)\n",
            "Test set: (1446, 29)\n"
          ]
        }
      ]
    },
    {
      "cell_type": "code",
      "metadata": {
        "colab": {
          "base_uri": "https://localhost:8080/"
        },
        "id": "723F8RdX5SFw",
        "outputId": "1bb2c29c-a765-41cd-f1fb-907f25350007"
      },
      "source": [
        "# Set random seed\n",
        "tf.random.set_seed(42)\n",
        "\n",
        "# Build the model (3 layers, 100, 10, 1 units)\n",
        "model_4 = tf.keras.Sequential([\n",
        "  tf.keras.layers.Dense(100),\n",
        "  tf.keras.layers.Dense(10),\n",
        "  tf.keras.layers.Dense(1)\n",
        "])\n",
        "\n",
        "# Compile the model\n",
        "model_4.compile(loss=tf.keras.losses.mae,\n",
        "                          optimizer=tf.keras.optimizers.Adam(),\n",
        "                          metrics=['mae'])\n",
        "\n",
        "# Fit the model \n",
        "model_4.fit(X_train_scaled, y_train, epochs=100, verbose=0) "
      ],
      "execution_count": 58,
      "outputs": [
        {
          "output_type": "execute_result",
          "data": {
            "text/plain": [
              "<keras.callbacks.History at 0x7faa654ea710>"
            ]
          },
          "metadata": {},
          "execution_count": 58
        }
      ]
    },
    {
      "cell_type": "code",
      "metadata": {
        "colab": {
          "base_uri": "https://localhost:8080/"
        },
        "id": "SBR16ngCvIj5",
        "outputId": "9d3b0b15-ae92-4ab5-d181-c2432b8665b0"
      },
      "source": [
        "# Evaulate 4rd model\n",
        "\n",
        "model_4_loss,model_4_mae = model_4.evaluate(X_test_scaled, y_test)"
      ],
      "execution_count": 59,
      "outputs": [
        {
          "output_type": "stream",
          "name": "stdout",
          "text": [
            "46/46 [==============================] - 0s 1ms/step - loss: 1.2357 - mae: 1.2357\n"
          ]
        }
      ]
    },
    {
      "cell_type": "code",
      "metadata": {
        "colab": {
          "base_uri": "https://localhost:8080/"
        },
        "id": "57H57DjaoyG-",
        "outputId": "9bfdb86c-8c07-4bad-8180-3fd5179603e2"
      },
      "source": [
        "# Check the model summary\n",
        "model_4.summary()"
      ],
      "execution_count": 60,
      "outputs": [
        {
          "output_type": "stream",
          "name": "stdout",
          "text": [
            "Model: \"sequential_3\"\n",
            "_________________________________________________________________\n",
            "Layer (type)                 Output Shape              Param #   \n",
            "=================================================================\n",
            "dense_6 (Dense)              (None, 100)               3000      \n",
            "_________________________________________________________________\n",
            "dense_7 (Dense)              (None, 10)                1010      \n",
            "_________________________________________________________________\n",
            "dense_8 (Dense)              (None, 1)                 11        \n",
            "=================================================================\n",
            "Total params: 4,021\n",
            "Trainable params: 4,021\n",
            "Non-trainable params: 0\n",
            "_________________________________________________________________\n"
          ]
        }
      ]
    },
    {
      "cell_type": "markdown",
      "metadata": {
        "id": "lnFyHhZIaYPB"
      },
      "source": [
        ""
      ]
    },
    {
      "cell_type": "code",
      "metadata": {
        "colab": {
          "base_uri": "https://localhost:8080/"
        },
        "id": "imUI_iBQaaDZ",
        "outputId": "277a2658-be0c-4886-8559-4ddd220f02d1"
      },
      "source": [
        " # Set random seed\n",
        "tf.random.set_seed(42)\n",
        "\n",
        "# Replicate original model\n",
        "model_5 = tf.keras.Sequential([\n",
        "  tf.keras.layers.Dense(1)\n",
        "])\n",
        "\n",
        "# Compile the model\n",
        "model_5 .compile(loss=tf.keras.losses.mae,\n",
        "                optimizer=tf.keras.optimizers.Adam(),\n",
        "                metrics=['mae'])\n",
        "\n",
        "# Fit the model\n",
        "model_5.fit(X_train_scaled, y_train, epochs=100, verbose=0) "
      ],
      "execution_count": 61,
      "outputs": [
        {
          "output_type": "execute_result",
          "data": {
            "text/plain": [
              "<keras.callbacks.History at 0x7faa6287d310>"
            ]
          },
          "metadata": {},
          "execution_count": 61
        }
      ]
    },
    {
      "cell_type": "code",
      "metadata": {
        "colab": {
          "base_uri": "https://localhost:8080/"
        },
        "id": "8bn8GwMvvH5X",
        "outputId": "e8a66833-4c0a-4c0e-fae1-d8bdde09bae3"
      },
      "source": [
        "# Check the model summary\n",
        "model_5.summary()"
      ],
      "execution_count": 62,
      "outputs": [
        {
          "output_type": "stream",
          "name": "stdout",
          "text": [
            "Model: \"sequential_4\"\n",
            "_________________________________________________________________\n",
            "Layer (type)                 Output Shape              Param #   \n",
            "=================================================================\n",
            "dense_9 (Dense)              (None, 1)                 30        \n",
            "=================================================================\n",
            "Total params: 30\n",
            "Trainable params: 30\n",
            "Non-trainable params: 0\n",
            "_________________________________________________________________\n"
          ]
        }
      ]
    },
    {
      "cell_type": "code",
      "metadata": {
        "colab": {
          "base_uri": "https://localhost:8080/"
        },
        "id": "ozf7dslMR0co",
        "outputId": "a878875a-b77d-460a-a789-db2d7b865d49"
      },
      "source": [
        "model_5_loss,model_5_mae = model_5.evaluate(X_test_scaled, y_test)"
      ],
      "execution_count": 65,
      "outputs": [
        {
          "output_type": "stream",
          "name": "stdout",
          "text": [
            "46/46 [==============================] - 0s 930us/step - loss: 1.2316 - mae: 1.2316\n"
          ]
        }
      ]
    },
    {
      "cell_type": "markdown",
      "metadata": {
        "id": "AocKejaaTNWe"
      },
      "source": [
        "Comparing the rerults of neural network models"
      ]
    },
    {
      "cell_type": "code",
      "metadata": {
        "id": "h011cJcGTWof"
      },
      "source": [
        "model_results = [[\"model_1\", model_1_loss, model_1_mae],\n",
        "                 [\"model_2\", model_2_loss, model_2_mae],\n",
        "                 [\"model_3\", model_3_loss, model_3_mae],\n",
        "                 [\"model_4\", model_4_loss, model_4_mae],\n",
        "                 [\"model_5\", model_5_loss, model_5_mae]]\n"
      ],
      "execution_count": 66,
      "outputs": []
    },
    {
      "cell_type": "code",
      "metadata": {
        "colab": {
          "base_uri": "https://localhost:8080/",
          "height": 202
        },
        "id": "g3ayWLo6ZH7A",
        "outputId": "82ae0223-d671-431e-d771-34d638846a68"
      },
      "source": [
        "import pandas as pd\n",
        "all_results = pd.DataFrame(model_results, columns=[\"model\", \"loss\", \"mae\"])\n",
        "all_results"
      ],
      "execution_count": 67,
      "outputs": [
        {
          "output_type": "execute_result",
          "data": {
            "text/html": [
              "<div>\n",
              "<style scoped>\n",
              "    .dataframe tbody tr th:only-of-type {\n",
              "        vertical-align: middle;\n",
              "    }\n",
              "\n",
              "    .dataframe tbody tr th {\n",
              "        vertical-align: top;\n",
              "    }\n",
              "\n",
              "    .dataframe thead th {\n",
              "        text-align: right;\n",
              "    }\n",
              "</style>\n",
              "<table border=\"1\" class=\"dataframe\">\n",
              "  <thead>\n",
              "    <tr style=\"text-align: right;\">\n",
              "      <th></th>\n",
              "      <th>model</th>\n",
              "      <th>loss</th>\n",
              "      <th>mae</th>\n",
              "    </tr>\n",
              "  </thead>\n",
              "  <tbody>\n",
              "    <tr>\n",
              "      <th>0</th>\n",
              "      <td>model_1</td>\n",
              "      <td>1.232451</td>\n",
              "      <td>1.232451</td>\n",
              "    </tr>\n",
              "    <tr>\n",
              "      <th>1</th>\n",
              "      <td>model_2</td>\n",
              "      <td>2.000391</td>\n",
              "      <td>2.000391</td>\n",
              "    </tr>\n",
              "    <tr>\n",
              "      <th>2</th>\n",
              "      <td>model_3</td>\n",
              "      <td>1.237183</td>\n",
              "      <td>1.237183</td>\n",
              "    </tr>\n",
              "    <tr>\n",
              "      <th>3</th>\n",
              "      <td>model_4</td>\n",
              "      <td>1.235711</td>\n",
              "      <td>1.235711</td>\n",
              "    </tr>\n",
              "    <tr>\n",
              "      <th>4</th>\n",
              "      <td>model_5</td>\n",
              "      <td>1.231626</td>\n",
              "      <td>1.231626</td>\n",
              "    </tr>\n",
              "  </tbody>\n",
              "</table>\n",
              "</div>"
            ],
            "text/plain": [
              "     model      loss       mae\n",
              "0  model_1  1.232451  1.232451\n",
              "1  model_2  2.000391  2.000391\n",
              "2  model_3  1.237183  1.237183\n",
              "3  model_4  1.235711  1.235711\n",
              "4  model_5  1.231626  1.231626"
            ]
          },
          "metadata": {},
          "execution_count": 67
        }
      ]
    },
    {
      "cell_type": "code",
      "metadata": {
        "id": "ZZYvZ7NpdyAf"
      },
      "source": [
        ""
      ],
      "execution_count": null,
      "outputs": []
    },
    {
      "cell_type": "markdown",
      "metadata": {
        "id": "-ev64VZKZduG"
      },
      "source": [
        "Comparing the mean absolute error of the five models of neural network ,model _5 has the smallest value among others.Hence model 5 is the best model"
      ]
    },
    {
      "cell_type": "markdown",
      "metadata": {
        "id": "ABDG_FfNaEte"
      },
      "source": [
        "Saving the best model"
      ]
    },
    {
      "cell_type": "code",
      "metadata": {
        "colab": {
          "base_uri": "https://localhost:8080/"
        },
        "id": "0PPOQLO4d3Bh",
        "outputId": "7eb12e72-fd85-472a-cd28-01a7918d120a"
      },
      "source": [
        "predictions = model_5.predict(X_test_scaled)\n",
        "predictions"
      ],
      "execution_count": 69,
      "outputs": [
        {
          "output_type": "execute_result",
          "data": {
            "text/plain": [
              "array([[1.9949809],\n",
              "       [2.2347872],\n",
              "       [2.000361 ],\n",
              "       ...,\n",
              "       [1.9943928],\n",
              "       [1.995347 ],\n",
              "       [1.997346 ]], dtype=float32)"
            ]
          },
          "metadata": {},
          "execution_count": 69
        }
      ]
    },
    {
      "cell_type": "code",
      "metadata": {
        "colab": {
          "base_uri": "https://localhost:8080/"
        },
        "id": "1bwztPsMfKAo",
        "outputId": "1fbe263d-dd49-4141-8219-6d3ca8e3a7ad"
      },
      "source": [
        "# Save a model using the SavedModel format\n",
        "model_5.save('best_model_SavedModel_format')"
      ],
      "execution_count": null,
      "outputs": [
        {
          "output_type": "stream",
          "name": "stdout",
          "text": [
            "INFO:tensorflow:Assets written to: best_model_SavedModel_format/assets\n"
          ]
        }
      ]
    },
    {
      "cell_type": "code",
      "metadata": {
        "colab": {
          "base_uri": "https://localhost:8080/"
        },
        "id": "GoXLp8OXttIk",
        "outputId": "89ecf31f-ee7e-4ea8-b7df-283db9d3d174"
      },
      "source": [
        "# Check it out - outputs a protobuf binary file (.pb) as well as other files\n",
        "!ls best_model_SavedModel_format"
      ],
      "execution_count": null,
      "outputs": [
        {
          "output_type": "stream",
          "name": "stdout",
          "text": [
            "assets\tkeras_metadata.pb  saved_model.pb  variables\n"
          ]
        }
      ]
    },
    {
      "cell_type": "markdown",
      "metadata": {
        "id": "GsXIty5Pt_SF"
      },
      "source": [
        "Saving model with another format"
      ]
    },
    {
      "cell_type": "markdown",
      "metadata": {
        "id": "jbZMVJUet--D"
      },
      "source": [
        ""
      ]
    },
    {
      "cell_type": "code",
      "metadata": {
        "id": "KTzAJZDnt86Z"
      },
      "source": [
        "# Save a model using the HDF5 format\n",
        "model_5.save(\"best_model_HDF5_format.h5\") # note the addition of '.h5' on the end"
      ],
      "execution_count": null,
      "outputs": []
    },
    {
      "cell_type": "code",
      "metadata": {
        "colab": {
          "base_uri": "https://localhost:8080/"
        },
        "id": "JQ0duBbwuUfT",
        "outputId": "e319490f-cf4c-4742-c3c1-56a53459373a"
      },
      "source": [
        "# Check it out\n",
        "!ls best_model_HDF5_format.h5"
      ],
      "execution_count": null,
      "outputs": [
        {
          "output_type": "stream",
          "name": "stdout",
          "text": [
            "best_model_HDF5_format.h5\n"
          ]
        }
      ]
    },
    {
      "cell_type": "markdown",
      "metadata": {
        "id": "J0_vhTJCuouv"
      },
      "source": [
        "Loading a model\n",
        "We can load a saved model using the load_model() method."
      ]
    },
    {
      "cell_type": "code",
      "metadata": {
        "colab": {
          "base_uri": "https://localhost:8080/"
        },
        "id": "QQ6kMZy6usM-",
        "outputId": "681de324-65f9-43ef-b4ee-41144ae038ff"
      },
      "source": [
        "#Load a model from the SavedModel format\n",
        "loaded_saved_model = tf.keras.models.load_model(\"best_model_SavedModel_format\")\n",
        "loaded_saved_model.summary()"
      ],
      "execution_count": null,
      "outputs": [
        {
          "output_type": "stream",
          "name": "stdout",
          "text": [
            "Model: \"sequential_26\"\n",
            "_________________________________________________________________\n",
            "Layer (type)                 Output Shape              Param #   \n",
            "=================================================================\n",
            "dense_53 (Dense)             (None, 1)                 33        \n",
            "=================================================================\n",
            "Total params: 33\n",
            "Trainable params: 33\n",
            "Non-trainable params: 0\n",
            "_________________________________________________________________\n"
          ]
        }
      ]
    },
    {
      "cell_type": "markdown",
      "metadata": {
        "id": "6UPLBirPv45j"
      },
      "source": [
        "We have got the same result summary of saved model and the normal model."
      ]
    }
  ]
}